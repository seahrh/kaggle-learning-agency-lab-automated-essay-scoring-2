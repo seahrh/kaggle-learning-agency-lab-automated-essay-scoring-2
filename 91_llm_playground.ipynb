{
 "cells": [
  {
   "cell_type": "code",
   "execution_count": 46,
   "id": "e54304c7-904d-4fff-9697-5b99551146c7",
   "metadata": {},
   "outputs": [
    {
     "name": "stdout",
     "output_type": "stream",
     "text": [
      "accelerate=0.30.1, bitsandbytes=0.43.1\n"
     ]
    }
   ],
   "source": [
    "from pathlib import Path\n",
    "import os\n",
    "import sys\n",
    "import gc\n",
    "import re\n",
    "import shutil\n",
    "import json\n",
    "import math\n",
    "import jinja2\n",
    "from collections import defaultdict\n",
    "import numpy as np\n",
    "import pandas as pd\n",
    "import bitsandbytes\n",
    "import accelerate\n",
    "import torch\n",
    "from transformers import AutoTokenizer, AutoModelForCausalLM, BitsAndBytesConfig\n",
    "from tqdm import tqdm\n",
    "import matplotlib.pyplot as plt\n",
    "from typing import Dict, List, Tuple, NamedTuple, Callable, Iterable, Set, Optional, Any\n",
    "import scml\n",
    "print(f\"accelerate={accelerate.__version__}, bitsandbytes={bitsandbytes.__version__}\")"
   ]
  },
  {
   "cell_type": "code",
   "execution_count": 23,
   "id": "561d6184-80da-4a37-ba78-dee2983e0df3",
   "metadata": {},
   "outputs": [],
   "source": [
    "model_dir = Path(\"huggingface/mistralai/Mixtral-8x7B-Instruct-v0.1\")\n",
    "model_max_length = 4096\n",
    "seed = 422\n",
    "environment = jinja2.Environment()"
   ]
  },
  {
   "cell_type": "code",
   "execution_count": 3,
   "id": "152ec8b3-3bfb-473c-af0a-26f3ec767a3d",
   "metadata": {},
   "outputs": [],
   "source": [
    "tim = scml.Timer()\n",
    "tim.start()\n",
    "percentiles=[.01, .05, .1, .2, .3, .4, .5, .6, .7, .8, .9, .95, .99]\n",
    "os.environ[\"TOKENIZERS_PARALLELISM\"] = \"false\"\n",
    "pd.set_option(\"max_info_columns\", 9999)\n",
    "pd.set_option(\"display.max_columns\", 9999)\n",
    "pd.set_option(\"display.max_rows\", 9999)\n",
    "pd.set_option('max_colwidth', 9999)\n",
    "tqdm.pandas()\n",
    "scml.seed_everything(seed)"
   ]
  },
  {
   "cell_type": "code",
   "execution_count": 4,
   "id": "ef1d1219-a38d-48c5-aedf-621d235d142c",
   "metadata": {},
   "outputs": [
    {
     "name": "stdout",
     "output_type": "stream",
     "text": [
      "device=0, NVIDIA GeForce RTX 4070 Ti SUPER\n",
      "Mem Allocated: 0.0 GB\n",
      "Mem Cached:    0.0 GB\n",
      "device=1, NVIDIA GeForce RTX 4070 Ti SUPER\n",
      "Mem Allocated: 0.0 GB\n",
      "Mem Cached:    0.0 GB\n"
     ]
    }
   ],
   "source": [
    "device = torch.device(\"cpu\")\n",
    "if torch.cuda.is_available():\n",
    "    device = torch.device(\"cuda\")\n",
    "    for i in range(torch.cuda.device_count()):\n",
    "        print(f\"device={i}, {torch.cuda.get_device_name(i)}\")\n",
    "        print('Mem Allocated:', round(torch.cuda.memory_allocated(i)/1024**3,1), 'GB')\n",
    "        print('Mem Cached:   ', round(torch.cuda.memory_reserved(i)/1024**3,1), 'GB')\n",
    "else:\n",
    "    print(\"cpu\")"
   ]
  },
  {
   "cell_type": "code",
   "execution_count": 9,
   "id": "946b9948-b472-4616-97cb-2ebaf536a7ba",
   "metadata": {},
   "outputs": [
    {
     "name": "stdout",
     "output_type": "stream",
     "text": [
      "<class 'pandas.core.frame.DataFrame'>\n",
      "RangeIndex: 25996 entries, 0 to 25995\n",
      "Data columns (total 15 columns):\n",
      " #   Column                      Non-Null Count  Dtype  \n",
      "---  ------                      --------------  -----  \n",
      " 0   essay_id_comp               25996 non-null  object \n",
      " 1   full_text                   25996 non-null  object \n",
      " 2   holistic_essay_score        25996 non-null  int64  \n",
      " 3   word_count                  25996 non-null  int64  \n",
      " 4   prompt_name                 25996 non-null  object \n",
      " 5   task                        25996 non-null  object \n",
      " 6   assignment                  25996 non-null  object \n",
      " 7   source_text                 12875 non-null  object \n",
      " 8   gender                      25996 non-null  object \n",
      " 9   grade_level                 24828 non-null  float64\n",
      " 10  ell_status                  24787 non-null  object \n",
      " 11  race_ethnicity              25996 non-null  object \n",
      " 12  economically_disadvantaged  20759 non-null  object \n",
      " 13  student_disability_status   20823 non-null  object \n",
      " 14  full_text_len               25996 non-null  int64  \n",
      "dtypes: float64(1), int64(3), object(11)\n",
      "memory usage: 3.0+ MB\n"
     ]
    }
   ],
   "source": [
    "df = pd.read_csv(\"input/persuade20/persuade_2.0_human_scores_demo_id_github.csv\", low_memory=False)\n",
    "df[\"full_text_len\"] = df[\"full_text\"].str.len()\n",
    "df.info()"
   ]
  },
  {
   "cell_type": "code",
   "execution_count": 33,
   "id": "940e2595-e179-4a0c-a848-db9099319efd",
   "metadata": {},
   "outputs": [
    {
     "name": "stdout",
     "output_type": "stream",
     "text": [
      "{\n",
      "  \"Phones and driving\": \"Today the majority of humans own and operate cell phones on a daily basis. In essay form, explain if drivers should or should not be able to use cell phones in any capacity while operating a vehicle.\",\n",
      "  \"Car-free cities\": \"Write an explanatory essay to inform fellow citizens about the advantages of limiting car usage. Your essay must be based on ideas and information that can be found in the passage set. Manage your time carefully so that you can read the passages; plan your response; write your response; and revise and edit your response. Be sure to use evidence from multiple sources; and avoid overly relying on one source. Your response should be in the form of a multiparagraph essay. Write your essay in the space provided.\",\n",
      "  \"Summer projects\": \"Some schools require students to complete summer projects to assure they continue learning during their break. Should these summer projects be teacher-designed or student-designed? Take a position on this question. Support your response with reasons and specific examples.\",\n",
      "  \"\\\"A Cowboy Who Rode the Waves\\\"\": \"You have just read the article, 'A Cowboy Who Rode the Waves.' Luke's participation in the Seagoing Cowboys program allowed him to experience adventures and visit many unique places. Using information from the article, write an argument from Luke's point of view convincing others to participate in the Seagoing Cowboys program. Be sure to include: reasons to join the program; details from the article to support Luke's claims; an introduction, a body, and a conclusion to your essay.\",\n",
      "  \"Mandatory extracurricular activities\": \"Your principal has decided that all students must participate in at least one extracurricular activity. For example, students could participate in sports, work on the yearbook, or serve on the student council. Do you agree or disagree with this decision? Use specific details and examples to convince others to support your position. \",\n",
      "  \"Exploring Venus\": \"In \\\"The Challenge of Exploring Venus,\\\" the author suggests studying Venus is a worthy pursuit despite the dangers it presents. Using details from the article, write an essay evaluating how well the author supports this idea. Be sure to include: a claim that evaluates how well the author supports the idea that studying Venus is a worthy pursuit despite the dangers; an explanation of the evidence from the article that supports your claim; an introduction, a body, and a conclusion to your essay.\",\n",
      "  \"Facial action coding system\": \"In the article \\\"Making Mona Lisa Smile,\\\" the author describes how a new technology called the Facial Action Coding System enables computers to identify human emotions. Using details from the article, write an essay arguing whether the use of this technology to read the emotional expressions of students in a classroom is valuable.\",\n",
      "  \"The Face on Mars\": \"You have read the article 'Unmasking the Face on Mars.' Imagine you are a scientist at NASA discussing the Face with someone who thinks it was created by aliens. Using information in the article, write an argumentative essay to convince someone that the Face is just a natural landform.Be sure to include: claims to support your argument that the Face is a natural landform; evidence from the article to support your claims; an introduction, a body, and a conclusion to your argumentative essay.\",\n",
      "  \"Community service\": \"Some of your friends perform community service. For example, some tutor elementary school children and others clean up litter. They think helping the community is very important. But other friends of yours think community service takes too much time away from what they need or want to do. \\nYour principal is deciding whether to require all students to perform community service. \\nWrite a letter to your principal in which you take a position on whether students should be required to perform community service. Support your position with examples.\",\n",
      "  \"Grades for extracurricular activities\": \"Your principal is considering changing school policy so that students may not participate in sports or other activities unless they have at least a grade B average. Many students have a grade C average. \\nShe would like to hear the students' views on this possible policy change. Write a letter to your principal arguing for or against requiring at least a grade B average to participate in sports or other activities. Be sure to support your arguments with specific reasons.\",\n",
      "  \"Driverless cars\": \"In the article \\u201cDriverless Cars are Coming,\\u201d the author presents both positive and negative aspects of driverless cars. Using details from the article, create an argument for or against the development of these cars.  Be sure to include: your position on driverless cars; appropriate details from the article that support your position; an introduction, a body, and a conclusion to your argumentative essay.\",\n",
      "  \"Does the electoral college work?\": \"Write a letter to your state senator in which you argue in favor of keeping the Electoral College or changing to election by popular vote for the president of the United States. Use the information from the texts in your essay. Manage your time carefully so that you can read the passages; plan your response; write your response; and revise and edit your response. Be sure to include a claim; address counterclaims; use evidence from multiple sources; and avoid overly relying on one source. Your response should be in the form of a multiparagraph essay. Write your response in the space provided.\",\n",
      "  \"Cell phones at school\": \"Your principal is reconsidering the school's cell phone policy. She is considering two possible policies: \\nPolicy 1: Allow students to bring phones to school and use them during lunch periods and other free times, as long as the phones are turned off during class time. \\nPolicy 2: Do not allow students to have phones at school at all.\\nWrite a letter to your principal convincing her which policy you believe is better. Support your position with specific reasons.\",\n",
      "  \"Distance learning\": \"Some schools offer distance learning as an option for students to attend classes from home by way of online or video conferencing. Do you think students would benefit from being able to attend classes from home? Take a position on this issue. Support your response with reasons and examples.\",\n",
      "  \"Seeking multiple opinions\": \"When people ask for advice, they sometimes talk to more than one person. Explain why seeking multiple opinions can help someone make a better choice. Use specific details and examples in your response.\"\n",
      "}\n"
     ]
    }
   ],
   "source": [
    "title_to_prompt = {}\n",
    "title_to_exemplars = {}\n",
    "for t in df.itertuples():\n",
    "    prompt_name = str(getattr(t, \"prompt_name\"))\n",
    "    assignment = str(getattr(t, \"assignment\"))\n",
    "    title_to_prompt[prompt_name] = assignment\n",
    "for title in title_to_prompt.keys():\n",
    "    mask = (df[\"prompt_name\"]==title) & (df[\"holistic_essay_score\"]==6)\n",
    "    tmp = df[mask].sort_values([\"full_text_len\"], ascending=[True])\n",
    "    title_to_exemplars[title] = tmp[\"full_text\"].tolist()\n",
    "print(json.dumps(title_to_prompt, indent=2))"
   ]
  },
  {
   "cell_type": "code",
   "execution_count": 5,
   "id": "57268a48-dc43-4469-8d47-63e00edf9c33",
   "metadata": {},
   "outputs": [
    {
     "name": "stdout",
     "output_type": "stream",
     "text": [
      "LlamaTokenizerFast(name_or_path='huggingface/mistralai/Mixtral-8x7B-Instruct-v0.1', vocab_size=32000, model_max_length=4096, is_fast=True, padding_side='left', truncation_side='right', special_tokens={'bos_token': '<s>', 'eos_token': '</s>', 'unk_token': '<unk>', 'pad_token': '</s>'}, clean_up_tokenization_spaces=False),  added_tokens_decoder={\n",
      "\t0: AddedToken(\"<unk>\", rstrip=False, lstrip=False, single_word=False, normalized=False, special=True),\n",
      "\t1: AddedToken(\"<s>\", rstrip=False, lstrip=False, single_word=False, normalized=False, special=True),\n",
      "\t2: AddedToken(\"</s>\", rstrip=False, lstrip=False, single_word=False, normalized=False, special=True),\n",
      "}\n",
      "model_input_names=['input_ids', 'attention_mask']\n",
      "pad_token_id=2\n"
     ]
    }
   ],
   "source": [
    "tokenizer = AutoTokenizer.from_pretrained(model_dir, model_max_length=model_max_length)\n",
    "tokenizer.pad_token = tokenizer.eos_token\n",
    "print(f\"{repr(tokenizer)}\\nmodel_input_names={tokenizer.model_input_names}\")\n",
    "print(f\"pad_token_id={tokenizer.pad_token_id}\")"
   ]
  },
  {
   "cell_type": "code",
   "execution_count": 6,
   "id": "9f94c441-534f-46e3-a01e-9f72eed6c714",
   "metadata": {},
   "outputs": [
    {
     "data": {
      "application/vnd.jupyter.widget-view+json": {
       "model_id": "33dfd92954b8430ea271ec56c9e7cfd3",
       "version_major": 2,
       "version_minor": 0
      },
      "text/plain": [
       "Loading checkpoint shards:   0%|          | 0/19 [00:00<?, ?it/s]"
      ]
     },
     "metadata": {},
     "output_type": "display_data"
    },
    {
     "name": "stdout",
     "output_type": "stream",
     "text": [
      "CPU times: user 4min 4s, sys: 3min 33s, total: 7min 38s\n",
      "Wall time: 14min 12s\n"
     ]
    }
   ],
   "source": [
    "%%time\n",
    "quantization_config = BitsAndBytesConfig(\n",
    "    load_in_4bit=True,\n",
    "    bnb_4bit_quant_type=\"nf4\",\n",
    "    bnb_4bit_compute_dtype=torch.bfloat16,\n",
    "    bnb_4bit_use_double_quant=True,\n",
    ")\n",
    "model = AutoModelForCausalLM.from_pretrained(\n",
    "    str(model_dir),\n",
    "    device_map = \"auto\",\n",
    "    quantization_config=quantization_config,\n",
    ")"
   ]
  },
  {
   "cell_type": "code",
   "execution_count": 7,
   "id": "66584e3a-dfc3-4303-bc74-4ab5b756fed0",
   "metadata": {},
   "outputs": [
    {
     "name": "stdout",
     "output_type": "stream",
     "text": [
      "MixtralForCausalLM(\n",
      "  (model): MixtralModel(\n",
      "    (embed_tokens): Embedding(32000, 4096)\n",
      "    (layers): ModuleList(\n",
      "      (0-31): 32 x MixtralDecoderLayer(\n",
      "        (self_attn): MixtralSdpaAttention(\n",
      "          (q_proj): Linear4bit(in_features=4096, out_features=4096, bias=False)\n",
      "          (k_proj): Linear4bit(in_features=4096, out_features=1024, bias=False)\n",
      "          (v_proj): Linear4bit(in_features=4096, out_features=1024, bias=False)\n",
      "          (o_proj): Linear4bit(in_features=4096, out_features=4096, bias=False)\n",
      "          (rotary_emb): MixtralRotaryEmbedding()\n",
      "        )\n",
      "        (block_sparse_moe): MixtralSparseMoeBlock(\n",
      "          (gate): Linear4bit(in_features=4096, out_features=8, bias=False)\n",
      "          (experts): ModuleList(\n",
      "            (0-7): 8 x MixtralBlockSparseTop2MLP(\n",
      "              (w1): Linear4bit(in_features=4096, out_features=14336, bias=False)\n",
      "              (w2): Linear4bit(in_features=14336, out_features=4096, bias=False)\n",
      "              (w3): Linear4bit(in_features=4096, out_features=14336, bias=False)\n",
      "              (act_fn): SiLU()\n",
      "            )\n",
      "          )\n",
      "        )\n",
      "        (input_layernorm): MixtralRMSNorm()\n",
      "        (post_attention_layernorm): MixtralRMSNorm()\n",
      "      )\n",
      "    )\n",
      "    (norm): MixtralRMSNorm()\n",
      "  )\n",
      "  (lm_head): Linear(in_features=4096, out_features=32000, bias=False)\n",
      ")\n"
     ]
    }
   ],
   "source": [
    "print(model)"
   ]
  },
  {
   "cell_type": "code",
   "execution_count": 40,
   "id": "3c265304-702b-4bb9-8f95-134333adc69d",
   "metadata": {},
   "outputs": [],
   "source": [
    "def generate(prompt: str) -> str:\n",
    "    inputs = tokenizer(prompt, return_tensors=\"pt\").to(device)\n",
    "    outputs = model.generate(\n",
    "        **inputs, \n",
    "        max_new_tokens=128,\n",
    "        do_sample=True,\n",
    "        temperature=1.0,\n",
    "        top_p=0.95,\n",
    "        top_k=100,\n",
    "        repetition_penalty=1.1,\n",
    "        pad_token_id=tokenizer.eos_token_id,\n",
    "    )\n",
    "    generated_text = tokenizer.batch_decode(outputs, skip_special_tokens=True)[0]\n",
    "    generated_text = generated_text.split(\"[/INST]\")[1]\n",
    "    generated_text = generated_text.strip()\n",
    "    return generated_text"
   ]
  },
  {
   "cell_type": "code",
   "execution_count": 44,
   "id": "b898bd5a-2d68-466b-97e8-46293f18d047",
   "metadata": {},
   "outputs": [],
   "source": [
    "template = environment.from_string(\n",
    "\"\"\"[INST] You are a teacher setting an essay question for students in Grade 6-12.\n",
    "Given the student's essay, output the essay question between opening tag [QUESTION] and closing tag [/QUESTION].\n",
    "Output a short title of the essay question between opening tag [TITLE] and closing tag [/TITLE].\n",
    "[ESSAY]{{ essay1 }}[/ESSAY]\n",
    "[QUESTION]{{ question1 }}[/QUESTION]\n",
    "[TITLE]{{ title1 }}[/TITLE]\n",
    "[ESSAY]{{ essay2 }}[/ESSAY]\n",
    "[QUESTION]{{ question2 }}[/QUESTION]\n",
    "[TITLE]{{ title2 }}[/TITLE]\n",
    "[ESSAY]{{ essay0 }}[/ESSAY]\n",
    "[QUESTION][/QUESTION]\n",
    "[TITLE][/TITLE][/INST]\"\"\"\n",
    ")"
   ]
  },
  {
   "cell_type": "code",
   "execution_count": 45,
   "id": "ce6513b1-5910-478e-a03a-9aa098549b4f",
   "metadata": {},
   "outputs": [
    {
     "name": "stdout",
     "output_type": "stream",
     "text": [
      "[INST] You are a teacher setting an essay question for students in Grade 6-12.\n",
      "Given the student's essay, output the essay question between opening tag [QUESTION] and closing tag [/QUESTION].\n",
      "Output a short title of the essay question between opening tag [TITLE] and closing tag [/TITLE].\n",
      "[ESSAY]The author supports his arguement quite effectively, though not without any flaws. The author effectively lists off the benefits of exploring Venus, and proper proposals for doing so, however the complexity and unrealistic assumptions of the solutions as well as the negative descripton of Venus take away from its point rather than benefiting it.\n",
      "\n",
      "The effective conveying of benefits helps to support its idea of risking danger for the reward of landing. The author describes how Venus is relatable with earth which creates a connection between the reader and Venus, as well as creating a mood of hospitality and familiarity. It also states that because Venus is the \"nearest option for a planetary visit\", it is a benefit to inhabit Venus first. This persuasion effectivly uses logos to show the audience logical reasoning for why the scientists should endevour to research Venus.\n",
      "\n",
      "The author's proposals for ways to accomplish these tasks help to build ethos in the writing, as it shows that the author knows about the information that is displayed. The introduction of NASA also builds up this ethos, as to bring the audience to better trust in the author. The examples of proposals also provide evidence for how such ideas could be accomplished, such as the ideas of \"systems that use mechanical parts\" and therefore add to the logos of the paragraph, as the author logically explains why the proposals would be beneficial.\n",
      "\n",
      "However in contrast with the effective support of the main idea, the author also convey's information and techniques that oppose his idea. Firstly, the author makes assumptions about how much technology would have advanced, and because his proposal for a \"blimp-like vehicle\" is so technologically advanced and seems outlansish, the mood created for the audience is incredulous and skeptical. This does not benefit the writer's ideas because of the audiences mood, and therefore the author loses the audiences trust in proper solutions.\n",
      "\n",
      "Also negatively impacting the main idea are his descriptions of Venus. This is because the author uses a lot of evidence to support how dangerous Venus is, in direct contrast to what he should be supporting. Because of the logos used to show how dangerous Venus is, like how it has \"temperatures average over 800 degrees\" the audience is put into a mood of impossibility and doubt. Because of the mood of the audience, the audience is also less likely to understand why Venus could be beneficial if the landscape is so terribly trecherous.\n",
      "\n",
      "In conclusion, the writer does a fairly effective job at expressing is ideas, in his building of ethos and pathos that help to support why Venus is so amazing, and how to explore it, however fails by accidently creating a mood of unbelievablity, and therefore losing the audience to the uncertain nature of the situation. If the author had attempted to create a mood that was more beneficial to persuading the audience, the passage would have been extremely effective in persuading the audience of his thesis. [/ESSAY]\n",
      "[QUESTION]In \"The Challenge of Exploring Venus,\" the author suggests studying Venus is a worthy pursuit despite the dangers it presents. Using details from the article, write an essay evaluating how well the author supports this idea. Be sure to include: a claim that evaluates how well the author supports the idea that studying Venus is a worthy pursuit despite the dangers; an explanation of the evidence from the article that supports your claim; an introduction, a body, and a conclusion to your essay.[/QUESTION]\n",
      "[TITLE]Exploring Venus[/TITLE]\n",
      "[ESSAY]Do you think that the Electoral College prosses is practical? Do you think that it is okay for someone else to vote for us? Well, I dont think that it is right, and there are some reasons I am about to tell you that may change your mind about the whole process of voteing and electing a president. Here are a few points I am going to cover in this essay about Electoral Colleges: over sixty percent of people do not agree with the electoral process, it it outdated and not accurate, also the electorers have proven to be untrustworthy in the past.\n",
      "\n",
      "Most people dont really understand what the Electoral College is, or what it is about, so let me just inform you about it a little. The Electoral College is a process that was established in the constitution and it is a strategy that we use to elect out presidents. The citizens vote for the president, but so the the electors in the Electoral College. There are over five hundred members of the Electoral College, and if a canadate wants to win presidency, he/she has to gain 270 of the Electoral College's votes. Each person running has a set of their own electors. Many people believe that this should not be used as a way to elect a president because in the past, the Electoral Collage made Gore loose the presidental election because although he had more popular votes than Goerge Bush, he has less electoral votes. Some people argue that the Electoral College is trustworthy, but how are my fellow Americans expected to trust a group of people who have betrayed us before?\n",
      "\n",
      "Another reason why I dont think that we should keep the Electoral College is because so many people disagree with it. Everyone has their own reason for not liking it, but sixty percent of American voters agree that we should not have it and we need to find a new system for electing presidents. Most people lost repect for the Electoral College after what happened with Bush and Gore, but many people think that it is old and outdated, and that it doesn't really make any snese to use it and that it is irrational. I'm not saying that just because a lot of people don't like something, that we should change it, I'm just explaining that if only fourty percent of the nation agrees with something, then maybe the majority should win! Some people might say that the Electoral College was put in the consitution and that we should keep using the process because we've had it for so long, but with time, things change, and just because we've used something for a long time, doesn't mean we shouldn't upgrade.\n",
      "\n",
      "Don't you think that it is great to live in a free county where the citizens make the rules, and what is in the best interest of the people is what is taken into consideration more than what the government wants? Well, the Electoral College isn't what \"we the people\" want. We want to be able to choose who we elect, not another group of people. Some may argue that the electoral congress is good because if two canadates get the same amount of popular votes, the Electoral Congress acts as a tie breaker, but I'm sure that we can find a better way to break the tie than having untrustworthy people decide the fate of our homeland.\n",
      "\n",
      "This is why I think that we should get rid of the Electoral Congress, too many people disagree with it, there are many flaws in the system and it is old and outdated. I hope that I have swayed your opinion and that you are part of the sixty percent of Americans who are hungry for change.    [/ESSAY]\n",
      "[QUESTION]Write a letter to your state senator in which you argue in favor of keeping the Electoral College or changing to election by popular vote for the president of the United States. Use the information from the texts in your essay. Manage your time carefully so that you can read the passages; plan your response; write your response; and revise and edit your response. Be sure to include a claim; address counterclaims; use evidence from multiple sources; and avoid overly relying on one source. Your response should be in the form of a multiparagraph essay. Write your response in the space provided.[/QUESTION]\n",
      "[TITLE]Does the electoral college work?[/TITLE]\n",
      "[ESSAY]Dear, Principal:\n",
      "\n",
      "Students are obsessed with their phones. They use them 24/7. They use their phones to go on the internet, to text, to talk on the phone, to take pictures. Most students would go into a black depression if you took away their phones, while most would be drunk-happy if you let them use it during school. I believe that you should not let students use their phones during free periods.\n",
      "\n",
      "To begin with, if you let students use their phones during free periods, that is all they will think about. Just last week, I was sitting in math class, bored to my skull. I was thinking about how next period, lunch, I would finally be able to use my phone to text my mother to bring me a cheesecake. Mmm, cheesecake. And so there I was, not hearing a word the teacher said, my eyes desperately glancing the clock every five minutes. Of course, since I was not paying attention, I didn't hear the teacher that we had a test tomorrow. The next day, I failed. Lucky me. Last Thursday, I observed a predicament just as mine. In language arts, I was writing a paper when I heard the tell-tale buzzzz of a vibrating phone. I looked over to witness my friend Kelsey hungrily staring at her pocket, wanting to know what her phone had alerted her to. Was it a text message? A missed call? What could it possibly be! I could almost feel her fingers itching to rip her phone out her pocket. Her curiosity was eating her alive, the poor girl. Since she was too pre-occupied with her phone, she didn't hear the teacher's five minute warning, and never finished her paper. All because of a buzzzz.\n",
      "\n",
      "Furthermore, if students use their phones during free periods, they will be more tempted to use them during class. For example, it's just like eating food, or marshmallows. Since when do you eat just one marshmallow? You don't. Since when do you text only during lunch? You don't. You text through the next class, science, and then through history, and then, if you can, even through PE. Students will be less likely to put their phones away if they are already using them at the moment. To the students, it is cruel of you to let them use their phones for only a short, forty-five minute period. But what if you send a text at the end of lunch, only to get a response during class? You just whip out your phone, respond, and put it away. No big deal. But then what if they respond again? And again, and yet again? Then before you know it, you're caught up in a textversation. (text conversation.) Notice, this isn't lunch anymore. It's their precious, educational time that the students are using.\n",
      "\n",
      "In conclusion, I believe that students should not be allowed to use their phones during free periods because they will not concentrate during class, and they will be more likely to using their phones during class. Oh, I just got a text message. Hold on, this'll just take a second.[/ESSAY]\n",
      "[QUESTION][/QUESTION]\n",
      "[TITLE][/TITLE][/INST]\n",
      "\n",
      "=====  END OF PROMPT  =====\n",
      "\n",
      "[QUESTION]Should students be allowed to use their phones during school hours? In an argumentative essay, use the excerpts from student essays to support your stance. Consider counterarguments and provide evidence to refute them.[/QUESTION]\n",
      "[TITLE]The Use of Phones in School[/TITLE]\n",
      "[ESSAY]\n",
      "\n",
      "In today's digital age, mobile devices have become an integral part of students' lives, both academically and socially. However, the debate on whether students should be allowed to use their phones during school hours continues to be a contentious\n",
      "title=\n",
      "question=\n",
      "CPU times: user 32.2 s, sys: 1.6 s, total: 33.8 s\n",
      "Wall time: 33.8 s\n"
     ]
    }
   ],
   "source": [
    "%%time\n",
    "prompt = template.render(\n",
    "    essay0=title_to_exemplars[\"Cell phones at school\"][0],\n",
    "    essay1=title_to_exemplars[\"Exploring Venus\"][0],\n",
    "    question1=title_to_prompt[\"Exploring Venus\"],\n",
    "    title1=\"Exploring Venus\",\n",
    "    essay2=title_to_exemplars[\"Does the electoral college work?\"][0],\n",
    "    question2=title_to_prompt[\"Does the electoral college work?\"],\n",
    "    title2=\"Does the electoral college work?\",\n",
    ")\n",
    "output = generate(prompt)\n",
    "question = \"\"\n",
    "title = \"\"\n",
    "print(f\"{prompt}\\n\\n=====  END OF PROMPT  =====\\n\\n{output}\")"
   ]
  },
  {
   "cell_type": "code",
   "execution_count": 57,
   "id": "517dfe9b-d0d4-4936-9624-935854c229ad",
   "metadata": {},
   "outputs": [
    {
     "name": "stdout",
     "output_type": "stream",
     "text": [
      "title=The Use of Phones in School\n",
      "question=Should students be allowed to use their phones during school hours? In an argumentative essay, use the excerpts from student essays to support your stance. Consider counterarguments and provide evidence to refute them.\n"
     ]
    }
   ],
   "source": [
    "pattern = re.compile(r\"\\[QUESTION\\](.+)\\[/QUESTION\\]\", re.IGNORECASE)\n",
    "for m in pattern.finditer(output):\n",
    "    if m[0] == \"\":\n",
    "        continue\n",
    "    question = m[1]\n",
    "    break\n",
    "pattern = re.compile(r\"\\[TITLE\\](.+)\\[/TITLE\\]\", re.IGNORECASE)\n",
    "for m in pattern.finditer(output):\n",
    "    if m[0] == \"\":\n",
    "        continue\n",
    "    title = m[1]\n",
    "    break\n",
    "print(f\"title={title}\\nquestion={question}\")"
   ]
  },
  {
   "cell_type": "code",
   "execution_count": 32,
   "id": "d98356a9-0ae1-47df-836f-e7f75cc885dc",
   "metadata": {},
   "outputs": [
    {
     "ename": "RuntimeError",
     "evalue": "Not started",
     "output_type": "error",
     "traceback": [
      "\u001b[0;31m---------------------------------------------------------------------------\u001b[0m",
      "\u001b[0;31mRuntimeError\u001b[0m                              Traceback (most recent call last)",
      "Cell \u001b[0;32mIn[32], line 1\u001b[0m\n\u001b[0;32m----> 1\u001b[0m \u001b[43mtim\u001b[49m\u001b[38;5;241;43m.\u001b[39;49m\u001b[43mstop\u001b[49m\u001b[43m(\u001b[49m\u001b[43m)\u001b[49m\n\u001b[1;32m      2\u001b[0m \u001b[38;5;28mprint\u001b[39m(\u001b[38;5;124mf\u001b[39m\u001b[38;5;124m\"\u001b[39m\u001b[38;5;124mTotal time taken \u001b[39m\u001b[38;5;132;01m{\u001b[39;00m\u001b[38;5;28mstr\u001b[39m(tim\u001b[38;5;241m.\u001b[39melapsed)\u001b[38;5;132;01m}\u001b[39;00m\u001b[38;5;124m\"\u001b[39m)\n",
      "File \u001b[0;32m~/.local/lib/python3.10/site-packages/scml/timex.py:22\u001b[0m, in \u001b[0;36mTimer.stop\u001b[0;34m(self)\u001b[0m\n\u001b[1;32m     20\u001b[0m \u001b[38;5;28;01mdef\u001b[39;00m \u001b[38;5;21mstop\u001b[39m(\u001b[38;5;28mself\u001b[39m):\n\u001b[1;32m     21\u001b[0m     \u001b[38;5;28;01mif\u001b[39;00m \u001b[38;5;28mself\u001b[39m\u001b[38;5;241m.\u001b[39m_start \u001b[38;5;129;01mis\u001b[39;00m \u001b[38;5;28;01mNone\u001b[39;00m:\n\u001b[0;32m---> 22\u001b[0m         \u001b[38;5;28;01mraise\u001b[39;00m \u001b[38;5;167;01mRuntimeError\u001b[39;00m(\u001b[38;5;124m\"\u001b[39m\u001b[38;5;124mNot started\u001b[39m\u001b[38;5;124m\"\u001b[39m)\n\u001b[1;32m     23\u001b[0m     ns \u001b[38;5;241m=\u001b[39m \u001b[38;5;28mself\u001b[39m\u001b[38;5;241m.\u001b[39m_func() \u001b[38;5;241m-\u001b[39m \u001b[38;5;28mself\u001b[39m\u001b[38;5;241m.\u001b[39m_start\n\u001b[1;32m     24\u001b[0m     \u001b[38;5;28mself\u001b[39m\u001b[38;5;241m.\u001b[39melapsed \u001b[38;5;241m=\u001b[39m timedelta(microseconds\u001b[38;5;241m=\u001b[39mmath\u001b[38;5;241m.\u001b[39mceil(ns \u001b[38;5;241m/\u001b[39m \u001b[38;5;241m1000\u001b[39m))\n",
      "\u001b[0;31mRuntimeError\u001b[0m: Not started"
     ]
    }
   ],
   "source": [
    "tim.stop()\n",
    "print(f\"Total time taken {str(tim.elapsed)}\")"
   ]
  }
 ],
 "metadata": {
  "kernelspec": {
   "display_name": "Python 3 (ipykernel)",
   "language": "python",
   "name": "python3"
  },
  "language_info": {
   "codemirror_mode": {
    "name": "ipython",
    "version": 3
   },
   "file_extension": ".py",
   "mimetype": "text/x-python",
   "name": "python",
   "nbconvert_exporter": "python",
   "pygments_lexer": "ipython3",
   "version": "3.10.12"
  }
 },
 "nbformat": 4,
 "nbformat_minor": 5
}
