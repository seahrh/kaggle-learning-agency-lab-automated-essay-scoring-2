{
 "cells": [
  {
   "cell_type": "code",
   "execution_count": 1,
   "id": "7b4d1d55",
   "metadata": {},
   "outputs": [
    {
     "name": "stdout",
     "output_type": "stream",
     "text": [
      "accelerate=0.30.1, bitsandbytes=0.43.1\n"
     ]
    }
   ],
   "source": [
    "from pathlib import Path\n",
    "import os\n",
    "import sys\n",
    "import gc\n",
    "import re\n",
    "import shutil\n",
    "import json\n",
    "import math\n",
    "import jinja2\n",
    "from collections import defaultdict\n",
    "import numpy as np\n",
    "import pandas as pd\n",
    "import bitsandbytes\n",
    "import accelerate\n",
    "import torch\n",
    "from transformers import AutoTokenizer, AutoModelForCausalLM, BitsAndBytesConfig\n",
    "from tqdm import tqdm\n",
    "import matplotlib.pyplot as plt\n",
    "from typing import Dict, List, Tuple, NamedTuple, Callable, Iterable, Set, Optional, Any\n",
    "import scml\n",
    "from scml import pandasx as pdx\n",
    "import lalaes2 as mylib\n",
    "print(f\"accelerate={accelerate.__version__}, bitsandbytes={bitsandbytes.__version__}\")"
   ]
  },
  {
   "cell_type": "code",
   "execution_count": 2,
   "id": "2865272e-90af-487a-b4ec-8e8f7b3ce8f3",
   "metadata": {},
   "outputs": [],
   "source": [
    "class ModelConf(NamedTuple):\n",
    "    directory: Path\n",
    "    model_max_length: int\n",
    "    char_limit: int\n",
    "\n",
    "\n",
    "input_filename = \"persuade_02.parquet\"\n",
    "llm_key = \"Qwen2-1.5B-Instruct\"\n",
    "llm_map: Dict[str, ModelConf] = {\n",
    "    \"gemma-1.1-2b-it\": ModelConf(\n",
    "        directory=Path(\"huggingface/google/gemma-1.1-2b-it\"),\n",
    "        model_max_length=8192,\n",
    "        char_limit=4000,\n",
    "    ),\n",
    "    \"Qwen2-1.5B-Instruct\": ModelConf(\n",
    "        directory=Path(\"huggingface/Qwen/Qwen2-1.5B-Instruct\"),\n",
    "        model_max_length=8192,\n",
    "        char_limit=4000,\n",
    "    ),\n",
    "}\n",
    "mc = llm_map[llm_key]\n",
    "critique_col = f\"ctq_{llm_key}\"\n",
    "environment = jinja2.Environment()\n",
    "basic = mylib.BasicPreprocessor()"
   ]
  },
  {
   "cell_type": "code",
   "execution_count": 3,
   "id": "e197c9ae",
   "metadata": {},
   "outputs": [],
   "source": [
    "tim = scml.Timer()\n",
    "tim.start()\n",
    "percentiles=[.01, .05, .1, .2, .3, .4, .5, .6, .7, .8, .9, .95, .99]\n",
    "os.environ[\"TOKENIZERS_PARALLELISM\"] = \"false\"\n",
    "pd.set_option(\"max_info_columns\", 9999)\n",
    "pd.set_option(\"display.max_columns\", 9999)\n",
    "pd.set_option(\"display.max_rows\", 9999)\n",
    "pd.set_option('max_colwidth', 9999)\n",
    "tqdm.pandas()\n",
    "scml.seed_everything()"
   ]
  },
  {
   "cell_type": "code",
   "execution_count": 4,
   "id": "be118dc1-d6fe-432e-808b-0228f010eef7",
   "metadata": {},
   "outputs": [
    {
     "name": "stdout",
     "output_type": "stream",
     "text": [
      "device=0, NVIDIA GeForce RTX 4070 Ti SUPER\n",
      "Mem Allocated: 0.0 GB\n",
      "Mem Cached:    0.0 GB\n",
      "device=1, NVIDIA GeForce RTX 4070 Ti SUPER\n",
      "Mem Allocated: 0.0 GB\n",
      "Mem Cached:    0.0 GB\n"
     ]
    }
   ],
   "source": [
    "device = torch.device(\"cpu\")\n",
    "if torch.cuda.is_available():\n",
    "    device = torch.device(\"cuda:1\")\n",
    "    for i in range(torch.cuda.device_count()):\n",
    "        print(f\"device={i}, {torch.cuda.get_device_name(i)}\")\n",
    "        print('Mem Allocated:', round(torch.cuda.memory_allocated(i)/1024**3,1), 'GB')\n",
    "        print('Mem Cached:   ', round(torch.cuda.memory_reserved(i)/1024**3,1), 'GB')\n",
    "else:\n",
    "    print(\"cpu\")"
   ]
  },
  {
   "cell_type": "code",
   "execution_count": 5,
   "id": "75a2772b",
   "metadata": {},
   "outputs": [
    {
     "name": "stdout",
     "output_type": "stream",
     "text": [
      "<class 'pandas.core.frame.DataFrame'>\n",
      "RangeIndex: 25996 entries, 0 to 25995\n",
      "Data columns (total 4 columns):\n",
      " #   Column     Non-Null Count  Dtype \n",
      "---  ------     --------------  ----- \n",
      " 0   essay_id   25996 non-null  object\n",
      " 1   score      25996 non-null  int8  \n",
      " 2   topic      25996 non-null  object\n",
      " 3   full_text  25996 non-null  object\n",
      "dtypes: int8(1), object(3)\n",
      "memory usage: 634.8+ KB\n"
     ]
    }
   ],
   "source": [
    "df = pd.read_parquet(Path(f\"input/{input_filename}\"))\n",
    "#df = df.sample(frac=0.001)\n",
    "df.info()"
   ]
  },
  {
   "cell_type": "markdown",
   "id": "23321e54-b45c-4c75-be4e-0d6d7225c7fd",
   "metadata": {},
   "source": [
    "# LLM-as-a-Judge\n",
    "\n",
    "LLM takes on the role of a teacher to generate essay critique."
   ]
  },
  {
   "cell_type": "code",
   "execution_count": 6,
   "id": "eeb8dff2-0b2e-4cb1-adf1-1f3712d5b7da",
   "metadata": {},
   "outputs": [
    {
     "name": "stderr",
     "output_type": "stream",
     "text": [
      "Special tokens have been added in the vocabulary, make sure the associated word embeddings are fine-tuned or trained.\n"
     ]
    },
    {
     "name": "stdout",
     "output_type": "stream",
     "text": [
      "Qwen2TokenizerFast(name_or_path='huggingface/Qwen/Qwen2-1.5B-Instruct', vocab_size=151643, model_max_length=8192, is_fast=True, padding_side='right', truncation_side='right', special_tokens={'eos_token': '<|im_end|>', 'pad_token': '<|im_end|>', 'additional_special_tokens': ['<|im_start|>', '<|im_end|>']}, clean_up_tokenization_spaces=False),  added_tokens_decoder={\n",
      "\t151643: AddedToken(\"<|endoftext|>\", rstrip=False, lstrip=False, single_word=False, normalized=False, special=True),\n",
      "\t151644: AddedToken(\"<|im_start|>\", rstrip=False, lstrip=False, single_word=False, normalized=False, special=True),\n",
      "\t151645: AddedToken(\"<|im_end|>\", rstrip=False, lstrip=False, single_word=False, normalized=False, special=True),\n",
      "}\n",
      "model_input_names=['input_ids', 'attention_mask']\n",
      "pad_token_id=151645\n",
      "\n"
     ]
    }
   ],
   "source": [
    "tokenizer = AutoTokenizer.from_pretrained(mc.directory, model_max_length=mc.model_max_length)\n",
    "tokenizer.pad_token = tokenizer.eos_token\n",
    "print(f\"\"\"{tokenizer}\n",
    "model_input_names={tokenizer.model_input_names}\n",
    "pad_token_id={tokenizer.pad_token_id}\n",
    "\"\"\")"
   ]
  },
  {
   "cell_type": "code",
   "execution_count": 7,
   "id": "e64e9af4-49fb-4ddb-8da5-b44a0aad210d",
   "metadata": {},
   "outputs": [
    {
     "name": "stdout",
     "output_type": "stream",
     "text": [
      "CPU times: user 4.65 s, sys: 2.98 s, total: 7.62 s\n",
      "Wall time: 1min 4s\n"
     ]
    }
   ],
   "source": [
    "%%time\n",
    "if \"gemma\" in str(mc.directory):\n",
    "    model = AutoModelForCausalLM.from_pretrained(\n",
    "        mc.directory,\n",
    "        device_map=\"auto\",\n",
    "        torch_dtype=torch.float16,\n",
    "        revision=\"float16\",\n",
    "    )\n",
    "else:\n",
    "    model = AutoModelForCausalLM.from_pretrained(\n",
    "        mc.directory,\n",
    "        torch_dtype=\"auto\",\n",
    "        device_map=\"auto\"\n",
    "    )"
   ]
  },
  {
   "cell_type": "code",
   "execution_count": 8,
   "id": "c196536d-f5f1-447c-9374-fa2c44d1cbd8",
   "metadata": {},
   "outputs": [
    {
     "name": "stdout",
     "output_type": "stream",
     "text": [
      "Qwen2ForCausalLM(\n",
      "  (model): Qwen2Model(\n",
      "    (embed_tokens): Embedding(151936, 1536)\n",
      "    (layers): ModuleList(\n",
      "      (0-27): 28 x Qwen2DecoderLayer(\n",
      "        (self_attn): Qwen2SdpaAttention(\n",
      "          (q_proj): Linear(in_features=1536, out_features=1536, bias=True)\n",
      "          (k_proj): Linear(in_features=1536, out_features=256, bias=True)\n",
      "          (v_proj): Linear(in_features=1536, out_features=256, bias=True)\n",
      "          (o_proj): Linear(in_features=1536, out_features=1536, bias=False)\n",
      "          (rotary_emb): Qwen2RotaryEmbedding()\n",
      "        )\n",
      "        (mlp): Qwen2MLP(\n",
      "          (gate_proj): Linear(in_features=1536, out_features=8960, bias=False)\n",
      "          (up_proj): Linear(in_features=1536, out_features=8960, bias=False)\n",
      "          (down_proj): Linear(in_features=8960, out_features=1536, bias=False)\n",
      "          (act_fn): SiLU()\n",
      "        )\n",
      "        (input_layernorm): Qwen2RMSNorm()\n",
      "        (post_attention_layernorm): Qwen2RMSNorm()\n",
      "      )\n",
      "    )\n",
      "    (norm): Qwen2RMSNorm()\n",
      "  )\n",
      "  (lm_head): Linear(in_features=1536, out_features=151936, bias=False)\n",
      ")\n",
      "Qwen2Config {\n",
      "  \"_name_or_path\": \"huggingface/Qwen/Qwen2-1.5B-Instruct\",\n",
      "  \"architectures\": [\n",
      "    \"Qwen2ForCausalLM\"\n",
      "  ],\n",
      "  \"attention_dropout\": 0.0,\n",
      "  \"bos_token_id\": 151643,\n",
      "  \"eos_token_id\": 151645,\n",
      "  \"hidden_act\": \"silu\",\n",
      "  \"hidden_size\": 1536,\n",
      "  \"initializer_range\": 0.02,\n",
      "  \"intermediate_size\": 8960,\n",
      "  \"max_position_embeddings\": 32768,\n",
      "  \"max_window_layers\": 28,\n",
      "  \"model_type\": \"qwen2\",\n",
      "  \"num_attention_heads\": 12,\n",
      "  \"num_hidden_layers\": 28,\n",
      "  \"num_key_value_heads\": 2,\n",
      "  \"rms_norm_eps\": 1e-06,\n",
      "  \"rope_theta\": 1000000.0,\n",
      "  \"sliding_window\": 32768,\n",
      "  \"tie_word_embeddings\": true,\n",
      "  \"torch_dtype\": \"bfloat16\",\n",
      "  \"transformers_version\": \"4.41.2\",\n",
      "  \"use_cache\": true,\n",
      "  \"use_sliding_window\": false,\n",
      "  \"vocab_size\": 151936\n",
      "}\n",
      "\n"
     ]
    }
   ],
   "source": [
    "print(model)\n",
    "print(model.config)"
   ]
  },
  {
   "cell_type": "code",
   "execution_count": 9,
   "id": "145e1b57-780f-46b2-a8a6-3c7d2820f230",
   "metadata": {},
   "outputs": [],
   "source": [
    "template = environment.from_string(\n",
    "\"\"\"You are a teacher grading a student's essay. Assign a score on a scale of 1 to 6 based on the following rubric. A score of 6 indicates clear and consistent mastery with minor errors, showcasing insightful development of a viewpoint, outstanding critical thinking, strong use of appropriate examples and evidence, well-organized structure with coherence and smooth progression of ideas, skillful language use with varied vocabulary and sentence structure, and minimal errors in grammar, usage, and mechanics. Scores decrease with occasional errors (score of 5), lapses in quality (score of 4), weaknesses in critical thinking and organization (score of 3), serious flaws in viewpoint and coherence (score of 2), and fundamental errors hindering meaning (score of 1).\n",
    "In your response, output only the score without explanation.\n",
    "[ESSAY] {{ essay }} [/ESSAY]\n",
    "\"\"\"\n",
    ")"
   ]
  },
  {
   "cell_type": "code",
   "execution_count": 10,
   "id": "5cfe2c77-e523-45b5-b1fe-d578bd51c2d1",
   "metadata": {},
   "outputs": [
    {
     "name": "stderr",
     "output_type": "stream",
     "text": [
      "  0%|                                                                                                                                                             | 0/25996 [00:00<?, ?it/s]/home/pankun/.local/lib/python3.10/site-packages/transformers/generation/configuration_utils.py:515: UserWarning: `do_sample` is set to `False`. However, `temperature` is set to `0.7` -- this flag is only used in sample-based generation modes. You should set `do_sample=True` or unset `temperature`.\n",
      "  warnings.warn(\n",
      "/home/pankun/.local/lib/python3.10/site-packages/transformers/generation/configuration_utils.py:520: UserWarning: `do_sample` is set to `False`. However, `top_p` is set to `0.8` -- this flag is only used in sample-based generation modes. You should set `do_sample=True` or unset `top_p`.\n",
      "  warnings.warn(\n",
      "/home/pankun/.local/lib/python3.10/site-packages/transformers/generation/configuration_utils.py:537: UserWarning: `do_sample` is set to `False`. However, `top_k` is set to `20` -- this flag is only used in sample-based generation modes. You should set `do_sample=True` or unset `top_k`.\n",
      "  warnings.warn(\n",
      "100%|███████████████████████████████████████████████████████████████████████████████████████████████████████████████████████████████████████████████| 25996/25996 [4:46:43<00:00,  1.51it/s]\n"
     ]
    }
   ],
   "source": [
    "def critique(row) -> str:\n",
    "    \"\"\"Inference method and response extraction based on https://huggingface.co/Qwen/Qwen2-7B-Instruct\"\"\"\n",
    "    prompt = template.render(essay=str(row[\"full_text\"])[:mc.char_limit])\n",
    "    messages = [{\"role\": \"user\", \"content\": prompt}]\n",
    "    text = tokenizer.apply_chat_template(messages, tokenize=False, add_generation_prompt=True)\n",
    "    model_inputs = tokenizer(text, truncation=True, return_tensors=\"pt\").to(device)\n",
    "    model_outputs = model.generate(\n",
    "        **model_inputs, \n",
    "        max_new_tokens=16,\n",
    "        do_sample=False,\n",
    "        #temperature=0.01,\n",
    "        #top_p=0.95,\n",
    "        #top_k=40,\n",
    "        repetition_penalty=1.1,\n",
    "        pad_token_id=tokenizer.eos_token_id,\n",
    "    )\n",
    "    generated_ids = [output_ids[len(input_ids):] for input_ids, output_ids in zip(model_inputs.input_ids, model_outputs)]\n",
    "    res = tokenizer.batch_decode(generated_ids, skip_special_tokens=True)[0]\n",
    "    res = basic(res)\n",
    "    if len(res)==1 and res.isdigit():\n",
    "        res = f\"SCORE OF {res}\"\n",
    "    return res\n",
    "\n",
    "\n",
    "df[critique_col] = df.progress_apply(critique, axis=1)"
   ]
  },
  {
   "cell_type": "code",
   "execution_count": 11,
   "id": "a0f82d36-77f1-4d0e-ac20-f17b552a2704",
   "metadata": {},
   "outputs": [
    {
     "data": {
      "text/html": [
       "<div>\n",
       "<style scoped>\n",
       "    .dataframe tbody tr th:only-of-type {\n",
       "        vertical-align: middle;\n",
       "    }\n",
       "\n",
       "    .dataframe tbody tr th {\n",
       "        vertical-align: top;\n",
       "    }\n",
       "\n",
       "    .dataframe thead th {\n",
       "        text-align: right;\n",
       "    }\n",
       "</style>\n",
       "<table border=\"1\" class=\"dataframe\">\n",
       "  <thead>\n",
       "    <tr style=\"text-align: right;\">\n",
       "      <th></th>\n",
       "      <th>count</th>\n",
       "      <th>percent</th>\n",
       "    </tr>\n",
       "    <tr>\n",
       "      <th>ctq_Qwen2-1.5B-Instruct</th>\n",
       "      <th></th>\n",
       "      <th></th>\n",
       "    </tr>\n",
       "  </thead>\n",
       "  <tbody>\n",
       "    <tr>\n",
       "      <th>SCORE OF 6</th>\n",
       "      <td>16553</td>\n",
       "      <td>0.636752</td>\n",
       "    </tr>\n",
       "    <tr>\n",
       "      <th>SCORE OF 5</th>\n",
       "      <td>5905</td>\n",
       "      <td>0.227150</td>\n",
       "    </tr>\n",
       "    <tr>\n",
       "      <th>SCORE OF 1</th>\n",
       "      <td>1155</td>\n",
       "      <td>0.044430</td>\n",
       "    </tr>\n",
       "    <tr>\n",
       "      <th>SCORE OF 2</th>\n",
       "      <td>915</td>\n",
       "      <td>0.035198</td>\n",
       "    </tr>\n",
       "    <tr>\n",
       "      <th>SCORE OF 3</th>\n",
       "      <td>881</td>\n",
       "      <td>0.033890</td>\n",
       "    </tr>\n",
       "    <tr>\n",
       "      <th>SCORE OF 4</th>\n",
       "      <td>578</td>\n",
       "      <td>0.022234</td>\n",
       "    </tr>\n",
       "    <tr>\n",
       "      <th>C</th>\n",
       "      <td>5</td>\n",
       "      <td>0.000192</td>\n",
       "    </tr>\n",
       "    <tr>\n",
       "      <th>Score: 2</th>\n",
       "      <td>2</td>\n",
       "      <td>0.000077</td>\n",
       "    </tr>\n",
       "    <tr>\n",
       "      <th>SCORE OF 7</th>\n",
       "      <td>1</td>\n",
       "      <td>0.000038</td>\n",
       "    </tr>\n",
       "    <tr>\n",
       "      <th>Score: 4</th>\n",
       "      <td>1</td>\n",
       "      <td>0.000038</td>\n",
       "    </tr>\n",
       "  </tbody>\n",
       "</table>\n",
       "</div>"
      ],
      "text/plain": [
       "                         count   percent\n",
       "ctq_Qwen2-1.5B-Instruct                 \n",
       "SCORE OF 6               16553  0.636752\n",
       "SCORE OF 5                5905  0.227150\n",
       "SCORE OF 1                1155  0.044430\n",
       "SCORE OF 2                 915  0.035198\n",
       "SCORE OF 3                 881  0.033890\n",
       "SCORE OF 4                 578  0.022234\n",
       "C                            5  0.000192\n",
       "Score: 2                     2  0.000077\n",
       "SCORE OF 7                   1  0.000038\n",
       "Score: 4                     1  0.000038"
      ]
     },
     "execution_count": 11,
     "metadata": {},
     "output_type": "execute_result"
    }
   ],
   "source": [
    "pdx.value_counts(df[critique_col])"
   ]
  },
  {
   "cell_type": "markdown",
   "id": "a4530228-9c9d-4c40-8f72-12bd08fa06d9",
   "metadata": {},
   "source": [
    "# Review Data"
   ]
  },
  {
   "cell_type": "code",
   "execution_count": 12,
   "id": "05fb760c-df6d-4b49-a929-dd9123241033",
   "metadata": {},
   "outputs": [
    {
     "name": "stdout",
     "output_type": "stream",
     "text": [
      "<class 'pandas.core.frame.DataFrame'>\n",
      "RangeIndex: 25996 entries, 0 to 25995\n",
      "Data columns (total 5 columns):\n",
      " #   Column                   Non-Null Count  Dtype \n",
      "---  ------                   --------------  ----- \n",
      " 0   essay_id                 25996 non-null  object\n",
      " 1   score                    25996 non-null  int8  \n",
      " 2   topic                    25996 non-null  object\n",
      " 3   full_text                25996 non-null  object\n",
      " 4   ctq_Qwen2-1.5B-Instruct  25996 non-null  object\n",
      "dtypes: int8(1), object(4)\n",
      "memory usage: 837.9+ KB\n"
     ]
    }
   ],
   "source": [
    "df.info()"
   ]
  },
  {
   "cell_type": "code",
   "execution_count": 13,
   "id": "7cd743ad-c82f-4178-a8d9-f7da4fef3ea5",
   "metadata": {},
   "outputs": [
    {
     "data": {
      "text/html": [
       "<div>\n",
       "<style scoped>\n",
       "    .dataframe tbody tr th:only-of-type {\n",
       "        vertical-align: middle;\n",
       "    }\n",
       "\n",
       "    .dataframe tbody tr th {\n",
       "        vertical-align: top;\n",
       "    }\n",
       "\n",
       "    .dataframe thead th {\n",
       "        text-align: right;\n",
       "    }\n",
       "</style>\n",
       "<table border=\"1\" class=\"dataframe\">\n",
       "  <thead>\n",
       "    <tr style=\"text-align: right;\">\n",
       "      <th></th>\n",
       "      <th>ctq_Qwen2-1.5B-Instruct</th>\n",
       "      <th>score</th>\n",
       "      <th>full_text</th>\n",
       "    </tr>\n",
       "  </thead>\n",
       "  <tbody>\n",
       "    <tr>\n",
       "      <th>0</th>\n",
       "      <td>SCORE OF 5</td>\n",
       "      <td>3</td>\n",
       "      <td>Phones Modern humans today are always on their phone. They are always on their phone more than 5 hours a day no stop .All they do is text back and forward and just have group Chats on social media. They even do it while driving. They are some really bad consequences when stuff happens when it comes to a phone. Some certain areas in the United States ban phones from class rooms just because of it. When people have phones, they know about certain apps that they have .Apps like Facebook Twitter Instagram and Snapchat. So like if a friend moves away and you want to be in contact you can still be in contact by posting videos or text messages. People always have different ways how to communicate with a phone. Phones have changed due to our generation. Driving is one of the way how to get around. People always be on their phones while doing it. Which can cause serious Problems. That's why there's a thing that's called no texting while driving. That's a really important thing to remember. Some people still do it because they think It's stupid. No matter what they do they still have to obey it because that's the only way how did he save. Sometimes on the news there is either an accident or a suicide. It might involve someone not looking where they're going or tweet that someone sent. It either injury or death. If a mysterious number says I'm going to kill you and they know where you live but you don't know the person's contact ,It makes you puzzled and make you start to freak out. Which can end up really badly. Phones are fine to use and it's also the best way to come over help. If you go through a problem and you can't find help you ,always have a phone there with you. Even though phones are used almost every day as long as you're safe it would come into use if you get into trouble. Make sure you do not be like this phone while you're in the middle of driving. The news always updated when people do something stupid around that involves their phones. The safest way is the best way to stay safe.</td>\n",
       "    </tr>\n",
       "    <tr>\n",
       "      <th>1</th>\n",
       "      <td>SCORE OF 6</td>\n",
       "      <td>4</td>\n",
       "      <td>This essay will explain if drivers should or should not be able to use electronic devices while operating a vehicle. Using a phone while driving can cause very bad wrecks, because they are putting themselves and other people at risk. People should not be able to use cell phones while operating a vehicle is because bad wrecks, putting others' lives in danger, and may cause death. First of all, wrecks can be caused by looking down at your phone while driving. Most importantly, you should always keep your eyes directly on the road when behind the wheel of a car. On that note, you will have an outrageously car payment just because you were looking down at your phone. Moreover, if you the reason the accident happened the person that was operating the other car can sue you for lots of money, and you will have to pay it. Therefore, if you don't pay whatever the person charges you consequences will be served and that's behind bars. Another reason why we should not be able to use cell phones while operating an automobile is that you are putting other people's lives in danger. Thus, looking down at your cell phone you can get someone else hurt for the uncommunicative act you committed. As well as unconsciousness, injuries, or being in a hospital. The main key to not texting and driving while behind the wheel of a car. Mainly, it can cause tragic, terrifying, and horrific things to you and to others and that's death. That's the most important thing to not using electronic devices while operating a vehicle. With the intension, of you not keeping your eyes and staying focus on the road you can easily turn off the road or hit another victim. Possibly another humankind could go away of all flesh because of your stupidity. Must be remembered, always stay focus on the road so you can get to your destination safely. So, you can't cause accidents, put other people lives in danger, and possibly death. Important to realize, do not use your phone while operating a vehicle. At least, wait till you make a safe stop or until you arrive at your destination.</td>\n",
       "    </tr>\n",
       "    <tr>\n",
       "      <th>2</th>\n",
       "      <td>SCORE OF 5</td>\n",
       "      <td>2</td>\n",
       "      <td>Driving while the use of cellular devices Today, most of the society is thoughtless. Especially new drivers, all driver for that matter do not understand the dangers of looking at a cell phone while behind the wheel. The automobile crashes due to distracted driving are increasing, teens have been the largest age group that was reported to being distracted by cellular usage. I do not agree with people using their cell phones and driving, humans should be smarter to know that if something is going on while they are driving that is so important then pulling off to the side of the road. The society doesn't understand that teens are the main cause for accidents I mean, in two thousand and five there was three hundred and one thousand injuries that were caused in distracted driving related accidents, that doesn't necessarily mean that the driver was texting or using a cellular device. New drivers do not understand that deaths are usually results of an accident. one out of every four car accidents is caused by texting and driving.</td>\n",
       "    </tr>\n",
       "    <tr>\n",
       "      <th>3</th>\n",
       "      <td>SCORE OF 6</td>\n",
       "      <td>3</td>\n",
       "      <td>Phones &amp; Driving Drivers should not be able to use phones while operating a vehicle. Drivers who used their phone while operating a vehicle are most likely to get into an accident that could be fatal. According to an article by the Edgar Snyder Firm, 21% of teens that were part of a fatal car accident was due to phones. According to the same article, 35% know the risk but continue using their phones while on the road. This shows that its beyond dangerous and irresponsible of drivers not to be fully aware of their surroundings while driving. Drivers should be able to concentrate without any distractions, because it could be fatal. According to another article, \"Distracted Driving\" by the NHTSA, there has already been about 3,000 phone related car accident deaths since 2017. The article states that teen get too distracted with their phones, which causes their accident. Accidents that can be easily avoided by focusing on the road and not a phone. Drivers should not be able to use their phones at all while driving. In conclusion, drivers should not able to work a vehicle while using their cell phone. Drivers who uses their phones while operating a vehicle and are likely to have an accident then those who don't.</td>\n",
       "    </tr>\n",
       "    <tr>\n",
       "      <th>4</th>\n",
       "      <td>SCORE OF 5</td>\n",
       "      <td>4</td>\n",
       "      <td>Cell Phone Operation While Driving The ability to stay connected to people we know despite distance was originally brought to fruition by the use of letters. This system was found to be rather slow and new pathways were searched for until the invention of the telegram; the people thought it was an invention of the millennia, but after time it too was thought of as slow until the invention of the telephone. Today, a telephone is in the hand or pocket of a majority of the seven billion people on planet earth. However, this device is taken to areas that it is irresponsible and dangerous. Within a vehicle capable of traveling upwards of one hundred miles per hour any possible distraction can become fatal spontaneously. The most common of these distractions is a cell phone, with its capabilities to connect us to anyone also in ownership of one, it is easy to pick it up whenever it sounds. In that split second of reaching over for a phone, eyes no longer on the road, it is impossible to no an exact location of anything, making an extremely dangerous action. For the myriad of possibilities that lead to serious injury cell phones should stay in the current state they are in regards of the law, but taken as a more serious offense. Conversely people may believe that laws in present need to change, becoming less restrictive. People have the right to communicate with whom they wish, when or wherever they may choose to do so. The problem becomes apparent that this is a selfish process of thought; people aren't thinking of those they share the road with. Laws currently in place are not to punish people making poor choices, they are an attempt to keep people safe. The creation of telecommunication devices was to keep connected to others without regard to the obsession that would encompass the human mind that was bound to follow. The safety of people is top priority without exemption.</td>\n",
       "    </tr>\n",
       "    <tr>\n",
       "      <th>5</th>\n",
       "      <td>SCORE OF 6</td>\n",
       "      <td>4</td>\n",
       "      <td>Cell phone use should not be legal while driving, it causes many accidents even fatalities. Drivers become careless while driving when using cell phones. Cell phones cause distractions while on the road. Drivers do not pay attention to the road, which causes accidents to happen. The most prevalent distractions are texting and talking on a cell phone while driving. Cell Phone use should not be legal while driving because it will help prevent more accidents and also prevent more deaths. People become distracted while driving when they use cell phones and bring danger into life, the government should regulate stricter laws to citizens about cell phone use on the road. Drivers are too busy talking on cell phones and not paying attention to the road. Even the act of just dialing a cell phone can be dangerous. This increases the crash risk by 3 times. This is one of the worst distractions drivers can have, due to the fact that you are not paying attention to the road. Maybe the driver gets a call, gets into an argument, or they are driving too slow. Also another reason is calling while driving can also block out hearing cause the driver is too focused on who is talking, also the driver is less aware of cars around. This has a big impact on the economy and death rates in the world. The next reason cell phone use should be illegal while driving is due to texting. This causes the same risks but at a higher rate because you are constantly looking at your phone. Drivers are too busy focused on their screen to pay attention to the road. They are also too busy thinking about their responses and what to say to pay attention to other drivers on the road. Since it usually takes two hands to text, the driver has no hands on the steering wheel. This distraction causes the most fatalities. This is just another reason cell phone use while driving should be illegal. Drivers however, underestimate their risks of getting into an accident while using their cell phone on the road. Companies also have this break with reality. They promote things like hand free devices, even though those have been shown not to eliminate the risk of getting into an accident. \"Device makers and auto companies acknowledge the risks of multitasking behind the wheel, but they aggressively develop and market gadgets that cause distractions. Overall, they acknowledge these things happen but they still market things that will cause distractions and increase accident risk. State governments should set stricter rules about cell phone use while driving. Death rates are going up rapidly everyday. More and more people are passing away from others not paying attention to their pathway. People are being less cautious and lose focus while being on the road. People should care about their lives and others around them more and should put their phones down until reaching the destination.</td>\n",
       "    </tr>\n",
       "    <tr>\n",
       "      <th>6</th>\n",
       "      <td>SCORE OF 6</td>\n",
       "      <td>5</td>\n",
       "      <td>Phones and Driving Driving is a good way to get whatever you need to go in a shorter period of time than on foot. Americans like driving from places such as fast food restaurants to appointments or work. As technology advances and people like to accommodate themselves with technology, we also want this same technology with us even in our vehicles. However if someone is driving with a device I think it is dangerous and can cause serious injuries. Drivers should not be able to use a cell phone while operating a vehicle because it can be a distraction to not only you but others, can cause a car accident, and it can be illegal . If you are not convinced then I'll explain why driving while on your phone is dangerous. While driving anywhere you need to always focus on who and what is in your nearby surroundings. In fact, according to driving test.org, texting and driving is more debilitating to your reaction time than driving under the influence of alcohol . Since the light refracted off the phone is what you are focused on, vehicles or objects approaching would not get your attention. This is especially true when the phone emits a light with a brighter color or image. Also best case scenario if you do not cause an accident you may even miss your turn or exit all because you were distracted. Worst case scenario you may cause an accident which I will explain next. Driving while you are on your phone is not only dangerous because it can be distracting but what happens can lead to a car accident. If you do not take the time to focus on the road, your carelessness may harm pedestrians or other drivers. DrivingTest.org says twenty Texting and Driving makes you 23% more likely to be involved in an accident . It then goes on to say that in 2011, 1.3 million automobiles accidents were caused by this and one can only assume that the numbers have gotten higher with technology advancing. A later text mentions that in 2015 3,477 people were killed and 391,000 injured in crashes relating to texting while driving. This can even be illegal are result in murder. Driving while on your phone can be illegal .If my other two arguments have not you proven that on the phone while driving then hopefully this argument will. Driving while holding your phone is illegal in my state of residence of Georgia. It is illegal under the part of a sweeping hands-free law according to www.usatoday.com 'Even though driving with your phone may not be illgeal in your state as stated above it can possibly result in murder. Texting while driving can lead to a homicide charge says pittsburgcriminalattorney.com. The site says you get charged with this if you happen to cause the death of a person due to recklessness or gross negligence . Therefore due to your recklessness of not putting away your phone while behind wheels you can face heavy charges when it could have been prevented. In conclusion driving with a phone present is a sure way to distract someone and possibly an accident. If that is not convincing then the accident can lead to the death of passengers or other drivers. This will result in heavy charges if deemed responsible for death. Therefore save everyone the trouble by simply putting your device away until you reach your destination or parking real quick. Concluding my argument why drivers should not be able to use a cellphone in any capacity is supported by not my words but professionals as well.</td>\n",
       "    </tr>\n",
       "    <tr>\n",
       "      <th>7</th>\n",
       "      <td>SCORE OF 6</td>\n",
       "      <td>4</td>\n",
       "      <td>PHONES AND DRIVING In this world in which we live in, cell phones are a growing market as well as cars. The fact that we depend on cell phones throught the course of our day for numerous reasons. Drivers should be able to use their cell phones while driving because its easier to operate a phone in your hand than a cell phone that is not in your hand. Emergencies can occur while driving and you need to report the emergerncy while driving. Cell phones does not cause as big of a distracHon that other things that is done while driving. A lot of people are in an uproar about driving and using a cell phone and someHmes it is overrated. Trying to operate a cell phone with one hand while maintaining driving has no danger to it. A phone that is mounted on the holder that begins to ring is harder to operate answering, dialing and switching calls. Most Hmes the mounHng is not secure or has defected parts which can cause more of an issue than having it to your ear. Most people have older cars and cannot a? ord to upgrade and dont have the speaker opHon, which usually allows everyone surrounding your car to know you business. I cannot say it enough, emergencies happen in a ?ash. Driving and you see a accident that needs emergency aLenHon you need to be able to use the cell phone to call it in. Things happen so quickly now and it could be your phone call that saves their life. Also if a person is lost and no gps signal but calls can be made a person should be able to dial someone by hand and get direcHons out of harms way. Emergency is a big deal in cell phone usage. Cell phones do not cause as much as a distracHon than people make out to be. As a driver a person should always be aware of the road and be able to mulH-task when using a cell phone. Most Hmes its other things besides a cell phone that cause a distracHon but blames the cell phone as a scapegoat. There could be test on the driver liscence test that we should take to see if were able to drive and talk on the phone instead of just banning it. Talking on a cell phone and driving a car may be a distracHon for some but not all. It should be our call on if we are focused enough to drive while talking. Although some people are said to have had bad behavior while talking and driving some are very responsible. TexHng and driving is di? erent from talking and driving and that should be the boundary. Each person should be accountable for their acHons just as speeding.</td>\n",
       "    </tr>\n",
       "    <tr>\n",
       "      <th>8</th>\n",
       "      <td>SCORE OF 6</td>\n",
       "      <td>4</td>\n",
       "      <td>People are debating whether if drivers should or should not use cell phones while operating a vehicle. Some people think that using a cell phone while operating a vehicle should be allowed because they try multi-tasking and have important calls while some are addicted and can't stay off their phone. Other people says that you shouldn't be able to be on your cell phone while operating a vehicle because the cell phone can cause accidents while driving. I also think that you shouldn't use your phone while operating a vehicle because it can cause vehicle collisions, slow reaction time, and fatal injuries. Therefore, driving can cause many accidents that can be fatal to the driver and passengers if there is any and cell phones should only be used when not operating a vehicle. The first reason why the use of cell phones shouldn't be allowed while operating a vehicle because there are high chances of vehicle collisions happening. Most vehicle collisions happen when the driver is texting or under the influence of alcohol. When people who drives while texting spend more time looking at their phone than the road causing poor car-following ability and lateral lane control. While under the influence of alcohol it can cause you to lose concentration and it can also hinder your ability to make rational decisions. As stated before, these are some examples of what can cause vehicle collisions. The second reason why you shouldn't operate a cell phone while driving because of slow reaction time. Reaction time is the measure of how quickly an organism can respond to a particular stimulus. When your spending time at your phone and finally look up to see you're about to get into an accident it would already be too late. Reaction times with no activity were between one and two seconds. Reaction times while using a cellphone were at least three to four seconds. On top of that, drivers were more likely to miss the flashing light altogether when using a cellphone. Cellphones effects the nervous system when a person is driving. The last reason you shouldn't drive while using a cellphone because it can cause fatal injuries that might have long-term or short-term affects. The affects can be physical, emotional, or psychological. One of the most common physical effect is whiplash. Whiplash is caused by a sudden movement of the neck. Whiplash is usually caused by rear end automobile collisions. One emotional effect can be anxiety which can cause difficulties in certain situations involving driving. The last effect is psychological which can cause PTSD. Most car accidents are the results of PTSD but can also be caused by any traumatic experience. PTSD can affect a person's ability to function normally. People who goes through this will sometimes show a wide range of symptoms including anger, fear, shock, nervousness and feeling of mistrust or guilt. In conclusion, people shouldn't use cellphones while operating a vehicle. IF they do it can cause life changing accidents and other serious problems in life. Also, it can hurt some people financially causing them to pay for these uneventful occurrences. Some things people can do to prevent is to turn their phone off or put it on \"Do Not Disturb\" mode to prevent any accidents. They can also deal with that they have to do on the phone before starting the car and driving. One more solution is that they can have the passenger relay a message for you using your phone, so you won't be distracted or tempted to pick up the phone.</td>\n",
       "    </tr>\n",
       "    <tr>\n",
       "      <th>9</th>\n",
       "      <td>SCORE OF 6</td>\n",
       "      <td>4</td>\n",
       "      <td>Texting and driving Over half of drivers in today's society have this horrible habit of texting and driving. This has to stop immediately, texting and driving puts people's lives at risk. This simple act has caused many fatalities over that last years. Fortunately, the government have put a new law to deal with this problem with our generations problem of texting and driving. I strongly feel that texting and driving is dangerous and should be prohibited. Diving more into detail, texting and driving is hazardous and life threatening. Just imagine you're on the road driving to your friend's house and someone shoots you a text. You look down not even for 5 seconds; then you accidents swerve into the next lane hitting a car. There are so many different scenarios that could go wrong in that situation. Your life is over just because you couldn't wait to text your friend. The consequences that texting and driving comes with just isn't worth it. The cost of a life shouldn't be worth a text message, Snapchat or Instagram DM (Direct Message). Texting and driving has taken many lives. In a recent article I read it said \"2017 U.S. Cell Phone and Driving Statistics. In 2012, 3,328 people were killed in distraction-related crashes. About 421,000 people were injured in crashes involving a distracted driver. In 2017, 11% of drivers under age 20 involved in fatal accidents were reported to be distracted at the time of the crash.\" This cannot go on any longer we must do something to stop these numbers from increasing. Luckily the government has enforced a brand new law called \"Hands Free.\" This law states Drivers cannot have a phone in their hand or touching any part of their body while talking on their phone while driving. If you don't follow these laws they can fine you fifty to one hundred and fifty dollars. I feel that this action was necessary and justified to better protect our society. Over all texting and driving is dangerous, has killed many people and is now on the decline thanks to the new \" Hands Down\" law.</td>\n",
       "    </tr>\n",
       "  </tbody>\n",
       "</table>\n",
       "</div>"
      ],
      "text/plain": [
       "  ctq_Qwen2-1.5B-Instruct  score  \\\n",
       "0              SCORE OF 5      3   \n",
       "1              SCORE OF 6      4   \n",
       "2              SCORE OF 5      2   \n",
       "3              SCORE OF 6      3   \n",
       "4              SCORE OF 5      4   \n",
       "5              SCORE OF 6      4   \n",
       "6              SCORE OF 6      5   \n",
       "7              SCORE OF 6      4   \n",
       "8              SCORE OF 6      4   \n",
       "9              SCORE OF 6      4   \n",
       "\n",
       "                                                                                                                                                                                                                                                                                                                                                                                                                                                                                                                                                                                                                                                                                                                                                                                                                                                                                                                                                                                                                                                                                                                                                                                                                                                                                                                                                                                                                                                                                                                                                                                                                                                                                                                                                                                                                                                                                                                                                                                                                                                                                                                                                                                                                                                                                                                                                                                                                                                                                                                                                                                                                                                                                                                                                                                                                                                                                                                                                                                                                                                                                                                                                                                                                                                                                                                                                                                                                                                                                                                                                                                                                                      full_text  \n",
       "0                                                                                                                                                                                                                                                                                                                                                                                                                                                                                                                                                                                                                                                                                                                                                                                                                                                                                                                                                                                                                                                                                                                                                                                                                                                                                                                                                                                                                                                                                                                                          Phones Modern humans today are always on their phone. They are always on their phone more than 5 hours a day no stop .All they do is text back and forward and just have group Chats on social media. They even do it while driving. They are some really bad consequences when stuff happens when it comes to a phone. Some certain areas in the United States ban phones from class rooms just because of it. When people have phones, they know about certain apps that they have .Apps like Facebook Twitter Instagram and Snapchat. So like if a friend moves away and you want to be in contact you can still be in contact by posting videos or text messages. People always have different ways how to communicate with a phone. Phones have changed due to our generation. Driving is one of the way how to get around. People always be on their phones while doing it. Which can cause serious Problems. That's why there's a thing that's called no texting while driving. That's a really important thing to remember. Some people still do it because they think It's stupid. No matter what they do they still have to obey it because that's the only way how did he save. Sometimes on the news there is either an accident or a suicide. It might involve someone not looking where they're going or tweet that someone sent. It either injury or death. If a mysterious number says I'm going to kill you and they know where you live but you don't know the person's contact ,It makes you puzzled and make you start to freak out. Which can end up really badly. Phones are fine to use and it's also the best way to come over help. If you go through a problem and you can't find help you ,always have a phone there with you. Even though phones are used almost every day as long as you're safe it would come into use if you get into trouble. Make sure you do not be like this phone while you're in the middle of driving. The news always updated when people do something stupid around that involves their phones. The safest way is the best way to stay safe.  \n",
       "1                                                                                                                                                                                                                                                                                                                                                                                                                                                                                                                                                                                                                                                                                                                                                                                                                                                                                                                                                                                                                                                                                                                                                                                                                                                                                                                                                                                                                                                                                           This essay will explain if drivers should or should not be able to use electronic devices while operating a vehicle. Using a phone while driving can cause very bad wrecks, because they are putting themselves and other people at risk. People should not be able to use cell phones while operating a vehicle is because bad wrecks, putting others' lives in danger, and may cause death. First of all, wrecks can be caused by looking down at your phone while driving. Most importantly, you should always keep your eyes directly on the road when behind the wheel of a car. On that note, you will have an outrageously car payment just because you were looking down at your phone. Moreover, if you the reason the accident happened the person that was operating the other car can sue you for lots of money, and you will have to pay it. Therefore, if you don't pay whatever the person charges you consequences will be served and that's behind bars. Another reason why we should not be able to use cell phones while operating an automobile is that you are putting other people's lives in danger. Thus, looking down at your cell phone you can get someone else hurt for the uncommunicative act you committed. As well as unconsciousness, injuries, or being in a hospital. The main key to not texting and driving while behind the wheel of a car. Mainly, it can cause tragic, terrifying, and horrific things to you and to others and that's death. That's the most important thing to not using electronic devices while operating a vehicle. With the intension, of you not keeping your eyes and staying focus on the road you can easily turn off the road or hit another victim. Possibly another humankind could go away of all flesh because of your stupidity. Must be remembered, always stay focus on the road so you can get to your destination safely. So, you can't cause accidents, put other people lives in danger, and possibly death. Important to realize, do not use your phone while operating a vehicle. At least, wait till you make a safe stop or until you arrive at your destination.  \n",
       "2                                                                                                                                                                                                                                                                                                                                                                                                                                                                                                                                                                                                                                                                                                                                                                                                                                                                                                                                                                                                                                                                                                                                                                                                                                                                                                                                                                                                                                                                                                                                                                                                                                                                                                                                                                                                                                                                                                                                                                                                                                                                                                                                                                                                                                                                                                                                                                                                                                                                                                                                                               Driving while the use of cellular devices Today, most of the society is thoughtless. Especially new drivers, all driver for that matter do not understand the dangers of looking at a cell phone while behind the wheel. The automobile crashes due to distracted driving are increasing, teens have been the largest age group that was reported to being distracted by cellular usage. I do not agree with people using their cell phones and driving, humans should be smarter to know that if something is going on while they are driving that is so important then pulling off to the side of the road. The society doesn't understand that teens are the main cause for accidents I mean, in two thousand and five there was three hundred and one thousand injuries that were caused in distracted driving related accidents, that doesn't necessarily mean that the driver was texting or using a cellular device. New drivers do not understand that deaths are usually results of an accident. one out of every four car accidents is caused by texting and driving.  \n",
       "3                                                                                                                                                                                                                                                                                                                                                                                                                                                                                                                                                                                                                                                                                                                                                                                                                                                                                                                                                                                                                                                                                                                                                                                                                                                                                                                                                                                                                                                                                                                                                                                                                                                                                                                                                                                                                                                                                                                                                                                                                                                                                                                                                                                                                                                                                                                                                                    Phones & Driving Drivers should not be able to use phones while operating a vehicle. Drivers who used their phone while operating a vehicle are most likely to get into an accident that could be fatal. According to an article by the Edgar Snyder Firm, 21% of teens that were part of a fatal car accident was due to phones. According to the same article, 35% know the risk but continue using their phones while on the road. This shows that its beyond dangerous and irresponsible of drivers not to be fully aware of their surroundings while driving. Drivers should be able to concentrate without any distractions, because it could be fatal. According to another article, \"Distracted Driving\" by the NHTSA, there has already been about 3,000 phone related car accident deaths since 2017. The article states that teen get too distracted with their phones, which causes their accident. Accidents that can be easily avoided by focusing on the road and not a phone. Drivers should not be able to use their phones at all while driving. In conclusion, drivers should not able to work a vehicle while using their cell phone. Drivers who uses their phones while operating a vehicle and are likely to have an accident then those who don't.  \n",
       "4                                                                                                                                                                                                                                                                                                                                                                                                                                                                                                                                                                                                                                                                                                                                                                                                                                                                                                                                                                                                                                                                                                                                                                                                                                                                                                                                                                                                                                                                                                                                                                                                                                                                 Cell Phone Operation While Driving The ability to stay connected to people we know despite distance was originally brought to fruition by the use of letters. This system was found to be rather slow and new pathways were searched for until the invention of the telegram; the people thought it was an invention of the millennia, but after time it too was thought of as slow until the invention of the telephone. Today, a telephone is in the hand or pocket of a majority of the seven billion people on planet earth. However, this device is taken to areas that it is irresponsible and dangerous. Within a vehicle capable of traveling upwards of one hundred miles per hour any possible distraction can become fatal spontaneously. The most common of these distractions is a cell phone, with its capabilities to connect us to anyone also in ownership of one, it is easy to pick it up whenever it sounds. In that split second of reaching over for a phone, eyes no longer on the road, it is impossible to no an exact location of anything, making an extremely dangerous action. For the myriad of possibilities that lead to serious injury cell phones should stay in the current state they are in regards of the law, but taken as a more serious offense. Conversely people may believe that laws in present need to change, becoming less restrictive. People have the right to communicate with whom they wish, when or wherever they may choose to do so. The problem becomes apparent that this is a selfish process of thought; people aren't thinking of those they share the road with. Laws currently in place are not to punish people making poor choices, they are an attempt to keep people safe. The creation of telecommunication devices was to keep connected to others without regard to the obsession that would encompass the human mind that was bound to follow. The safety of people is top priority without exemption.  \n",
       "5                                                                                                                                                                                                                                                                                                                                                                                                                                                                                                                                                                                                                                                 Cell phone use should not be legal while driving, it causes many accidents even fatalities. Drivers become careless while driving when using cell phones. Cell phones cause distractions while on the road. Drivers do not pay attention to the road, which causes accidents to happen. The most prevalent distractions are texting and talking on a cell phone while driving. Cell Phone use should not be legal while driving because it will help prevent more accidents and also prevent more deaths. People become distracted while driving when they use cell phones and bring danger into life, the government should regulate stricter laws to citizens about cell phone use on the road. Drivers are too busy talking on cell phones and not paying attention to the road. Even the act of just dialing a cell phone can be dangerous. This increases the crash risk by 3 times. This is one of the worst distractions drivers can have, due to the fact that you are not paying attention to the road. Maybe the driver gets a call, gets into an argument, or they are driving too slow. Also another reason is calling while driving can also block out hearing cause the driver is too focused on who is talking, also the driver is less aware of cars around. This has a big impact on the economy and death rates in the world. The next reason cell phone use should be illegal while driving is due to texting. This causes the same risks but at a higher rate because you are constantly looking at your phone. Drivers are too busy focused on their screen to pay attention to the road. They are also too busy thinking about their responses and what to say to pay attention to other drivers on the road. Since it usually takes two hands to text, the driver has no hands on the steering wheel. This distraction causes the most fatalities. This is just another reason cell phone use while driving should be illegal. Drivers however, underestimate their risks of getting into an accident while using their cell phone on the road. Companies also have this break with reality. They promote things like hand free devices, even though those have been shown not to eliminate the risk of getting into an accident. \"Device makers and auto companies acknowledge the risks of multitasking behind the wheel, but they aggressively develop and market gadgets that cause distractions. Overall, they acknowledge these things happen but they still market things that will cause distractions and increase accident risk. State governments should set stricter rules about cell phone use while driving. Death rates are going up rapidly everyday. More and more people are passing away from others not paying attention to their pathway. People are being less cautious and lose focus while being on the road. People should care about their lives and others around them more and should put their phones down until reaching the destination.  \n",
       "6                                                                             Phones and Driving Driving is a good way to get whatever you need to go in a shorter period of time than on foot. Americans like driving from places such as fast food restaurants to appointments or work. As technology advances and people like to accommodate themselves with technology, we also want this same technology with us even in our vehicles. However if someone is driving with a device I think it is dangerous and can cause serious injuries. Drivers should not be able to use a cell phone while operating a vehicle because it can be a distraction to not only you but others, can cause a car accident, and it can be illegal . If you are not convinced then I'll explain why driving while on your phone is dangerous. While driving anywhere you need to always focus on who and what is in your nearby surroundings. In fact, according to driving test.org, texting and driving is more debilitating to your reaction time than driving under the influence of alcohol . Since the light refracted off the phone is what you are focused on, vehicles or objects approaching would not get your attention. This is especially true when the phone emits a light with a brighter color or image. Also best case scenario if you do not cause an accident you may even miss your turn or exit all because you were distracted. Worst case scenario you may cause an accident which I will explain next. Driving while you are on your phone is not only dangerous because it can be distracting but what happens can lead to a car accident. If you do not take the time to focus on the road, your carelessness may harm pedestrians or other drivers. DrivingTest.org says twenty Texting and Driving makes you 23% more likely to be involved in an accident . It then goes on to say that in 2011, 1.3 million automobiles accidents were caused by this and one can only assume that the numbers have gotten higher with technology advancing. A later text mentions that in 2015 3,477 people were killed and 391,000 injured in crashes relating to texting while driving. This can even be illegal are result in murder. Driving while on your phone can be illegal .If my other two arguments have not you proven that on the phone while driving then hopefully this argument will. Driving while holding your phone is illegal in my state of residence of Georgia. It is illegal under the part of a sweeping hands-free law according to www.usatoday.com 'Even though driving with your phone may not be illgeal in your state as stated above it can possibly result in murder. Texting while driving can lead to a homicide charge says pittsburgcriminalattorney.com. The site says you get charged with this if you happen to cause the death of a person due to recklessness or gross negligence . Therefore due to your recklessness of not putting away your phone while behind wheels you can face heavy charges when it could have been prevented. In conclusion driving with a phone present is a sure way to distract someone and possibly an accident. If that is not convincing then the accident can lead to the death of passengers or other drivers. This will result in heavy charges if deemed responsible for death. Therefore save everyone the trouble by simply putting your device away until you reach your destination or parking real quick. Concluding my argument why drivers should not be able to use a cellphone in any capacity is supported by not my words but professionals as well.  \n",
       "7                                                                                                                                                                                                                                                                                                                                                                                                                                                                                                                                                                                                                                                                                                                                                                                                                                                                                                                                                                                                                                                                                              PHONES AND DRIVING In this world in which we live in, cell phones are a growing market as well as cars. The fact that we depend on cell phones throught the course of our day for numerous reasons. Drivers should be able to use their cell phones while driving because its easier to operate a phone in your hand than a cell phone that is not in your hand. Emergencies can occur while driving and you need to report the emergerncy while driving. Cell phones does not cause as big of a distracHon that other things that is done while driving. A lot of people are in an uproar about driving and using a cell phone and someHmes it is overrated. Trying to operate a cell phone with one hand while maintaining driving has no danger to it. A phone that is mounted on the holder that begins to ring is harder to operate answering, dialing and switching calls. Most Hmes the mounHng is not secure or has defected parts which can cause more of an issue than having it to your ear. Most people have older cars and cannot a? ord to upgrade and dont have the speaker opHon, which usually allows everyone surrounding your car to know you business. I cannot say it enough, emergencies happen in a ?ash. Driving and you see a accident that needs emergency aLenHon you need to be able to use the cell phone to call it in. Things happen so quickly now and it could be your phone call that saves their life. Also if a person is lost and no gps signal but calls can be made a person should be able to dial someone by hand and get direcHons out of harms way. Emergency is a big deal in cell phone usage. Cell phones do not cause as much as a distracHon than people make out to be. As a driver a person should always be aware of the road and be able to mulH-task when using a cell phone. Most Hmes its other things besides a cell phone that cause a distracHon but blames the cell phone as a scapegoat. There could be test on the driver liscence test that we should take to see if were able to drive and talk on the phone instead of just banning it. Talking on a cell phone and driving a car may be a distracHon for some but not all. It should be our call on if we are focused enough to drive while talking. Although some people are said to have had bad behavior while talking and driving some are very responsible. TexHng and driving is di? erent from talking and driving and that should be the boundary. Each person should be accountable for their acHons just as speeding.  \n",
       "8  People are debating whether if drivers should or should not use cell phones while operating a vehicle. Some people think that using a cell phone while operating a vehicle should be allowed because they try multi-tasking and have important calls while some are addicted and can't stay off their phone. Other people says that you shouldn't be able to be on your cell phone while operating a vehicle because the cell phone can cause accidents while driving. I also think that you shouldn't use your phone while operating a vehicle because it can cause vehicle collisions, slow reaction time, and fatal injuries. Therefore, driving can cause many accidents that can be fatal to the driver and passengers if there is any and cell phones should only be used when not operating a vehicle. The first reason why the use of cell phones shouldn't be allowed while operating a vehicle because there are high chances of vehicle collisions happening. Most vehicle collisions happen when the driver is texting or under the influence of alcohol. When people who drives while texting spend more time looking at their phone than the road causing poor car-following ability and lateral lane control. While under the influence of alcohol it can cause you to lose concentration and it can also hinder your ability to make rational decisions. As stated before, these are some examples of what can cause vehicle collisions. The second reason why you shouldn't operate a cell phone while driving because of slow reaction time. Reaction time is the measure of how quickly an organism can respond to a particular stimulus. When your spending time at your phone and finally look up to see you're about to get into an accident it would already be too late. Reaction times with no activity were between one and two seconds. Reaction times while using a cellphone were at least three to four seconds. On top of that, drivers were more likely to miss the flashing light altogether when using a cellphone. Cellphones effects the nervous system when a person is driving. The last reason you shouldn't drive while using a cellphone because it can cause fatal injuries that might have long-term or short-term affects. The affects can be physical, emotional, or psychological. One of the most common physical effect is whiplash. Whiplash is caused by a sudden movement of the neck. Whiplash is usually caused by rear end automobile collisions. One emotional effect can be anxiety which can cause difficulties in certain situations involving driving. The last effect is psychological which can cause PTSD. Most car accidents are the results of PTSD but can also be caused by any traumatic experience. PTSD can affect a person's ability to function normally. People who goes through this will sometimes show a wide range of symptoms including anger, fear, shock, nervousness and feeling of mistrust or guilt. In conclusion, people shouldn't use cellphones while operating a vehicle. IF they do it can cause life changing accidents and other serious problems in life. Also, it can hurt some people financially causing them to pay for these uneventful occurrences. Some things people can do to prevent is to turn their phone off or put it on \"Do Not Disturb\" mode to prevent any accidents. They can also deal with that they have to do on the phone before starting the car and driving. One more solution is that they can have the passenger relay a message for you using your phone, so you won't be distracted or tempted to pick up the phone.  \n",
       "9                                                                                                                                                                                                                                                                                                                                                                                                                                                                                                                                                                                                                                                                                                                                                                                                                                                                                                                                                                                                                                                                                                                                                                                                                                                                                                                                                                                                                                                                                                                          Texting and driving Over half of drivers in today's society have this horrible habit of texting and driving. This has to stop immediately, texting and driving puts people's lives at risk. This simple act has caused many fatalities over that last years. Fortunately, the government have put a new law to deal with this problem with our generations problem of texting and driving. I strongly feel that texting and driving is dangerous and should be prohibited. Diving more into detail, texting and driving is hazardous and life threatening. Just imagine you're on the road driving to your friend's house and someone shoots you a text. You look down not even for 5 seconds; then you accidents swerve into the next lane hitting a car. There are so many different scenarios that could go wrong in that situation. Your life is over just because you couldn't wait to text your friend. The consequences that texting and driving comes with just isn't worth it. The cost of a life shouldn't be worth a text message, Snapchat or Instagram DM (Direct Message). Texting and driving has taken many lives. In a recent article I read it said \"2017 U.S. Cell Phone and Driving Statistics. In 2012, 3,328 people were killed in distraction-related crashes. About 421,000 people were injured in crashes involving a distracted driver. In 2017, 11% of drivers under age 20 involved in fatal accidents were reported to be distracted at the time of the crash.\" This cannot go on any longer we must do something to stop these numbers from increasing. Luckily the government has enforced a brand new law called \"Hands Free.\" This law states Drivers cannot have a phone in their hand or touching any part of their body while talking on their phone while driving. If you don't follow these laws they can fine you fifty to one hundred and fifty dollars. I feel that this action was necessary and justified to better protect our society. Over all texting and driving is dangerous, has killed many people and is now on the decline thanks to the new \" Hands Down\" law.  "
      ]
     },
     "execution_count": 13,
     "metadata": {},
     "output_type": "execute_result"
    }
   ],
   "source": [
    "cols = [critique_col, \"score\", \"full_text\"]\n",
    "df[cols].head(10)"
   ]
  },
  {
   "cell_type": "code",
   "execution_count": 14,
   "id": "425b7c9a-2850-42b2-99bb-0ca924e13536",
   "metadata": {},
   "outputs": [],
   "source": [
    "df.to_parquet(f\"output/{input_filename}\", index=False)\n",
    "assert df.notna().all(axis=None)"
   ]
  },
  {
   "cell_type": "code",
   "execution_count": 15,
   "id": "ab103ba7-491f-4375-958e-53be8ddcf657",
   "metadata": {},
   "outputs": [
    {
     "name": "stdout",
     "output_type": "stream",
     "text": [
      "Total time taken 4:47:48.842835\n"
     ]
    }
   ],
   "source": [
    "tim.stop()\n",
    "print(f\"Total time taken {str(tim.elapsed)}\")"
   ]
  }
 ],
 "metadata": {
  "kernelspec": {
   "display_name": "Python 3 (ipykernel)",
   "language": "python",
   "name": "python3"
  },
  "language_info": {
   "codemirror_mode": {
    "name": "ipython",
    "version": 3
   },
   "file_extension": ".py",
   "mimetype": "text/x-python",
   "name": "python",
   "nbconvert_exporter": "python",
   "pygments_lexer": "ipython3",
   "version": "3.10.12"
  }
 },
 "nbformat": 4,
 "nbformat_minor": 5
}
