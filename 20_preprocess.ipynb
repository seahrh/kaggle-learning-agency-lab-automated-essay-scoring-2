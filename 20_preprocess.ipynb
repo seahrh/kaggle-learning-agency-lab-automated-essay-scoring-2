{
 "cells": [
  {
   "cell_type": "code",
   "execution_count": 1,
   "id": "7b4d1d55",
   "metadata": {},
   "outputs": [
    {
     "name": "stdout",
     "output_type": "stream",
     "text": [
      "accelerate=0.30.1, bitsandbytes=0.43.1\n"
     ]
    }
   ],
   "source": [
    "from pathlib import Path\n",
    "import os\n",
    "import sys\n",
    "import gc\n",
    "import re\n",
    "import shutil\n",
    "import json\n",
    "import math\n",
    "import jinja2\n",
    "from collections import defaultdict\n",
    "import numpy as np\n",
    "import pandas as pd\n",
    "import bitsandbytes\n",
    "import accelerate\n",
    "import torch\n",
    "from transformers import AutoTokenizer, AutoModelForSequenceClassification\n",
    "from tqdm import tqdm\n",
    "import matplotlib.pyplot as plt\n",
    "from typing import Dict, List, Tuple, NamedTuple, Callable, Iterable, Set, Optional, Any\n",
    "import scml\n",
    "from scml import pandasx as pdx\n",
    "import lalaes2 as mylib\n",
    "print(f\"accelerate={accelerate.__version__}, bitsandbytes={bitsandbytes.__version__}\")"
   ]
  },
  {
   "cell_type": "code",
   "execution_count": 2,
   "id": "2865272e-90af-487a-b4ec-8e8f7b3ce8f3",
   "metadata": {},
   "outputs": [],
   "source": [
    "version = \"02\"\n",
    "corpus_key = \"comp\"\n",
    "corpus_map = {\n",
    "    \"comp\": Path(\"input/train.csv\"),\n",
    "    \"persuade\": Path(\"input/persuade20/persuade_2.0_human_scores_demo_id_github.csv\"),\n",
    "}\n",
    "# model for pseudo labelling Persuade 2.0 topic\n",
    "directory = Path(\"models/persuade/deberta_v3_base/20240626_132806\")\n",
    "model_max_length = 512\n",
    "basic = mylib.BasicPreprocessor()\n",
    "bow = mylib.BowPreprocessor(drop_stopword=True)"
   ]
  },
  {
   "cell_type": "code",
   "execution_count": 3,
   "id": "e197c9ae",
   "metadata": {},
   "outputs": [],
   "source": [
    "tim = scml.Timer()\n",
    "tim.start()\n",
    "percentiles=[.01, .05, .1, .2, .3, .4, .5, .6, .7, .8, .9, .95, .99]\n",
    "os.environ[\"TOKENIZERS_PARALLELISM\"] = \"false\"\n",
    "pd.set_option(\"max_info_columns\", 9999)\n",
    "pd.set_option(\"display.max_columns\", 9999)\n",
    "pd.set_option(\"display.max_rows\", 9999)\n",
    "pd.set_option('max_colwidth', 9999)\n",
    "tqdm.pandas()\n",
    "scml.seed_everything()"
   ]
  },
  {
   "cell_type": "code",
   "execution_count": 4,
   "id": "be118dc1-d6fe-432e-808b-0228f010eef7",
   "metadata": {},
   "outputs": [
    {
     "name": "stdout",
     "output_type": "stream",
     "text": [
      "device=0, NVIDIA GeForce RTX 4070 Ti SUPER\n",
      "Mem Allocated: 0.0 GB\n",
      "Mem Cached:    0.0 GB\n",
      "device=1, NVIDIA GeForce RTX 4070 Ti SUPER\n",
      "Mem Allocated: 0.0 GB\n",
      "Mem Cached:    0.0 GB\n"
     ]
    }
   ],
   "source": [
    "device = torch.device(\"cpu\")\n",
    "if torch.cuda.is_available():\n",
    "    device = torch.device(\"cuda:1\")\n",
    "    for i in range(torch.cuda.device_count()):\n",
    "        print(f\"device={i}, {torch.cuda.get_device_name(i)}\")\n",
    "        print('Mem Allocated:', round(torch.cuda.memory_allocated(i)/1024**3,1), 'GB')\n",
    "        print('Mem Cached:   ', round(torch.cuda.memory_reserved(i)/1024**3,1), 'GB')\n",
    "else:\n",
    "    print(\"cpu\")"
   ]
  },
  {
   "cell_type": "code",
   "execution_count": 5,
   "id": "75a2772b",
   "metadata": {},
   "outputs": [
    {
     "name": "stdout",
     "output_type": "stream",
     "text": [
      "<class 'pandas.core.frame.DataFrame'>\n",
      "RangeIndex: 17307 entries, 0 to 17306\n",
      "Data columns (total 3 columns):\n",
      " #   Column     Non-Null Count  Dtype \n",
      "---  ------     --------------  ----- \n",
      " 0   essay_id   17307 non-null  object\n",
      " 1   full_text  17307 non-null  object\n",
      " 2   score      17307 non-null  int64 \n",
      "dtypes: int64(1), object(2)\n",
      "memory usage: 405.8+ KB\n"
     ]
    }
   ],
   "source": [
    "df = pd.read_csv(corpus_map[corpus_key], low_memory=False)\n",
    "df.info()"
   ]
  },
  {
   "cell_type": "code",
   "execution_count": 6,
   "id": "006ffd26-1660-4953-a7c8-2bfef0076f47",
   "metadata": {},
   "outputs": [],
   "source": [
    "if corpus_key==\"persuade\":\n",
    "    df = df.rename(columns={\n",
    "        \"essay_id_comp\": \"essay_id\",\n",
    "        \"holistic_essay_score\": \"score\",\n",
    "        \"prompt_name\": \"topic\",\n",
    "        \"assignment\": \"prompt\",\n",
    "    })\n",
    "cols = [\"score\"]\n",
    "df[cols] = df[cols].astype(np.int8)"
   ]
  },
  {
   "cell_type": "code",
   "execution_count": 7,
   "id": "9ca4bcab-df29-491b-a4d0-8b2d609f4e89",
   "metadata": {},
   "outputs": [
    {
     "name": "stdout",
     "output_type": "stream",
     "text": [
      "full_text\n"
     ]
    },
    {
     "name": "stderr",
     "output_type": "stream",
     "text": [
      "100%|███████████████████████████████████████████████████████████████████████████████████████████████████████████████████████████████████████████████| 17307/17307 [00:05<00:00, 3029.10it/s]\n"
     ]
    }
   ],
   "source": [
    "def preprocess_text(fn, col) -> Callable:\n",
    "    def inner(row) -> str:\n",
    "        return fn(row[col])\n",
    "    \n",
    "    return inner\n",
    "\n",
    "\n",
    "cols = [\"full_text\"]\n",
    "for col in cols:\n",
    "    print(col)\n",
    "    df[col] = df.progress_apply(preprocess_text(basic, col), axis=1)"
   ]
  },
  {
   "cell_type": "markdown",
   "id": "9f1c6bd3-8f34-411d-87ae-6a4ce38bc274",
   "metadata": {},
   "source": [
    "# Pseudo Labelling Topic\n",
    "\n",
    "Classify text to 1 of 15 topics from Persuade 2.0 corpus."
   ]
  },
  {
   "cell_type": "code",
   "execution_count": 8,
   "id": "0027824d-0c13-42da-8fa3-6b446d671561",
   "metadata": {},
   "outputs": [
    {
     "name": "stdout",
     "output_type": "stream",
     "text": [
      "DebertaV2TokenizerFast(name_or_path='models/persuade/deberta_v3_base/20240626_132806', vocab_size=128000, model_max_length=512, is_fast=True, padding_side='right', truncation_side='right', special_tokens={'bos_token': '[CLS]', 'eos_token': '[SEP]', 'unk_token': '[UNK]', 'sep_token': '[SEP]', 'pad_token': '[PAD]', 'cls_token': '[CLS]', 'mask_token': '[MASK]'}, clean_up_tokenization_spaces=True),  added_tokens_decoder={\n",
      "\t0: AddedToken(\"[PAD]\", rstrip=False, lstrip=False, single_word=False, normalized=False, special=True),\n",
      "\t1: AddedToken(\"[CLS]\", rstrip=False, lstrip=False, single_word=False, normalized=False, special=True),\n",
      "\t2: AddedToken(\"[SEP]\", rstrip=False, lstrip=False, single_word=False, normalized=False, special=True),\n",
      "\t3: AddedToken(\"[UNK]\", rstrip=False, lstrip=False, single_word=False, normalized=True, special=True),\n",
      "\t128000: AddedToken(\"[MASK]\", rstrip=False, lstrip=False, single_word=False, normalized=False, special=True),\n",
      "}\n",
      "    model_input_names=['input_ids', 'token_type_ids', 'attention_mask']\n",
      "    pad_token_id=0\n",
      "    \n"
     ]
    },
    {
     "name": "stderr",
     "output_type": "stream",
     "text": [
      "/home/pankun/.local/lib/python3.10/site-packages/transformers/convert_slow_tokenizer.py:560: UserWarning: The sentencepiece tokenizer that you are converting to a fast tokenizer uses the byte fallback option which is not implemented in the fast tokenizers. In practice this means that the fast version of the tokenizer can produce unknown tokens whereas the sentencepiece version would have converted these unknown tokens into a sequence of byte tokens matching the original piece of text.\n",
      "  warnings.warn(\n"
     ]
    }
   ],
   "source": [
    "if corpus_key==\"comp\":\n",
    "    tokenizer = AutoTokenizer.from_pretrained(directory, model_max_length=model_max_length)\n",
    "    print(f\"\"\"{tokenizer}\n",
    "    model_input_names={tokenizer.model_input_names}\n",
    "    pad_token_id={tokenizer.pad_token_id}\n",
    "    \"\"\")"
   ]
  },
  {
   "cell_type": "code",
   "execution_count": 9,
   "id": "76e3bae4-7072-4a51-b783-b523209f24c9",
   "metadata": {},
   "outputs": [
    {
     "name": "stdout",
     "output_type": "stream",
     "text": [
      "DebertaV2ForSequenceClassification(\n",
      "  (deberta): DebertaV2Model(\n",
      "    (embeddings): DebertaV2Embeddings(\n",
      "      (word_embeddings): Embedding(128100, 768, padding_idx=0)\n",
      "      (LayerNorm): LayerNorm((768,), eps=1e-07, elementwise_affine=True)\n",
      "      (dropout): StableDropout()\n",
      "    )\n",
      "    (encoder): DebertaV2Encoder(\n",
      "      (layer): ModuleList(\n",
      "        (0-11): 12 x DebertaV2Layer(\n",
      "          (attention): DebertaV2Attention(\n",
      "            (self): DisentangledSelfAttention(\n",
      "              (query_proj): Linear(in_features=768, out_features=768, bias=True)\n",
      "              (key_proj): Linear(in_features=768, out_features=768, bias=True)\n",
      "              (value_proj): Linear(in_features=768, out_features=768, bias=True)\n",
      "              (pos_dropout): StableDropout()\n",
      "              (dropout): StableDropout()\n",
      "            )\n",
      "            (output): DebertaV2SelfOutput(\n",
      "              (dense): Linear(in_features=768, out_features=768, bias=True)\n",
      "              (LayerNorm): LayerNorm((768,), eps=1e-07, elementwise_affine=True)\n",
      "              (dropout): StableDropout()\n",
      "            )\n",
      "          )\n",
      "          (intermediate): DebertaV2Intermediate(\n",
      "            (dense): Linear(in_features=768, out_features=3072, bias=True)\n",
      "            (intermediate_act_fn): GELUActivation()\n",
      "          )\n",
      "          (output): DebertaV2Output(\n",
      "            (dense): Linear(in_features=3072, out_features=768, bias=True)\n",
      "            (LayerNorm): LayerNorm((768,), eps=1e-07, elementwise_affine=True)\n",
      "            (dropout): StableDropout()\n",
      "          )\n",
      "        )\n",
      "      )\n",
      "      (rel_embeddings): Embedding(512, 768)\n",
      "      (LayerNorm): LayerNorm((768,), eps=1e-07, elementwise_affine=True)\n",
      "    )\n",
      "  )\n",
      "  (pooler): ContextPooler(\n",
      "    (dense): Linear(in_features=768, out_features=768, bias=True)\n",
      "    (dropout): StableDropout()\n",
      "  )\n",
      "  (classifier): Linear(in_features=768, out_features=15, bias=True)\n",
      "  (dropout): StableDropout()\n",
      ")\n",
      "DebertaV2Config {\n",
      "  \"_name_or_path\": \"models/persuade/deberta_v3_base/20240626_132806\",\n",
      "  \"architectures\": [\n",
      "    \"DebertaV2ForSequenceClassification\"\n",
      "  ],\n",
      "  \"attention_probs_dropout_prob\": 0.1,\n",
      "  \"gradient_checkpointing\": false,\n",
      "  \"hidden_act\": \"gelu\",\n",
      "  \"hidden_dropout_prob\": 0.1,\n",
      "  \"hidden_size\": 768,\n",
      "  \"id2label\": {\n",
      "    \"0\": \"facial action coding system\",\n",
      "    \"1\": \"distance learning\",\n",
      "    \"2\": \"electoral college work\",\n",
      "    \"3\": \"car free cities\",\n",
      "    \"4\": \"driverless cars\",\n",
      "    \"5\": \"exploring venus\",\n",
      "    \"6\": \"summer projects\",\n",
      "    \"7\": \"mandatory extracurricular activities\",\n",
      "    \"8\": \"cell phones school\",\n",
      "    \"9\": \"grades extracurricular activities\",\n",
      "    \"10\": \"face mars\",\n",
      "    \"11\": \"seeking multiple opinions\",\n",
      "    \"12\": \"community service\",\n",
      "    \"13\": \"cowboy rode waves\",\n",
      "    \"14\": \"phones driving\"\n",
      "  },\n",
      "  \"initializer_range\": 0.02,\n",
      "  \"intermediate_size\": 3072,\n",
      "  \"label2id\": {\n",
      "    \"car free cities\": 3,\n",
      "    \"cell phones school\": 8,\n",
      "    \"community service\": 12,\n",
      "    \"cowboy rode waves\": 13,\n",
      "    \"distance learning\": 1,\n",
      "    \"driverless cars\": 4,\n",
      "    \"electoral college work\": 2,\n",
      "    \"exploring venus\": 5,\n",
      "    \"face mars\": 10,\n",
      "    \"facial action coding system\": 0,\n",
      "    \"grades extracurricular activities\": 9,\n",
      "    \"mandatory extracurricular activities\": 7,\n",
      "    \"phones driving\": 14,\n",
      "    \"seeking multiple opinions\": 11,\n",
      "    \"summer projects\": 6\n",
      "  },\n",
      "  \"layer_norm_eps\": 1e-07,\n",
      "  \"max_position_embeddings\": 512,\n",
      "  \"max_relative_positions\": -1,\n",
      "  \"model_type\": \"deberta-v2\",\n",
      "  \"norm_rel_ebd\": \"layer_norm\",\n",
      "  \"num_attention_heads\": 12,\n",
      "  \"num_hidden_layers\": 12,\n",
      "  \"pad_token_id\": 0,\n",
      "  \"pooler_dropout\": 0,\n",
      "  \"pooler_hidden_act\": \"gelu\",\n",
      "  \"pooler_hidden_size\": 768,\n",
      "  \"pos_att_type\": [\n",
      "    \"p2c\",\n",
      "    \"c2p\"\n",
      "  ],\n",
      "  \"position_biased_input\": false,\n",
      "  \"position_buckets\": 256,\n",
      "  \"problem_type\": \"single_label_classification\",\n",
      "  \"relative_attention\": true,\n",
      "  \"share_att_key\": true,\n",
      "  \"torch_dtype\": \"float32\",\n",
      "  \"transformers_version\": \"4.41.2\",\n",
      "  \"type_vocab_size\": 0,\n",
      "  \"vocab_size\": 128100\n",
      "}\n",
      "\n"
     ]
    }
   ],
   "source": [
    "if corpus_key==\"comp\":\n",
    "    model = AutoModelForSequenceClassification.from_pretrained(directory)\n",
    "    print(model)\n",
    "    print(model.config)"
   ]
  },
  {
   "cell_type": "code",
   "execution_count": 10,
   "id": "0ce4c0a1-de78-4f42-98e6-e6bee0060000",
   "metadata": {},
   "outputs": [
    {
     "name": "stderr",
     "output_type": "stream",
     "text": [
      "persuade topic classification: 100%|██████████████████████████████████████████████████████████████████████████████████████████████████████████████████████| 136/136 [03:33<00:00,  1.57s/it]\n"
     ]
    }
   ],
   "source": [
    "if corpus_key==\"comp\":\n",
    "    y_pred = np.argmax(\n",
    "        mylib.classify_persuade_topic_logits(\n",
    "            ds=mylib.PersuadeDataset(\n",
    "                tokenizer=tokenizer,\n",
    "                texts=df[\"full_text\"].tolist(),\n",
    "            ),\n",
    "            model=model,\n",
    "            batch_size=128,\n",
    "            device=device,\n",
    "            progress_bar=True,\n",
    "        ),\n",
    "        axis=1,\n",
    "    ).flatten()\n",
    "    df[\"topic\"] = [mylib.PersuadeDataset.ID_TO_LABEL[i] for i in y_pred]"
   ]
  },
  {
   "cell_type": "code",
   "execution_count": 11,
   "id": "fdef8ed0-db3e-4c8c-9b8f-c3cc750bf0ff",
   "metadata": {},
   "outputs": [
    {
     "name": "stdout",
     "output_type": "stream",
     "text": [
      "topic\n"
     ]
    },
    {
     "name": "stderr",
     "output_type": "stream",
     "text": [
      "100%|███████████████████████████████████████████████████████████████████████████████████████████████████████████████████████████████████████████████| 17307/17307 [00:08<00:00, 2071.00it/s]\n"
     ]
    }
   ],
   "source": [
    "cols = [\"topic\"]\n",
    "for col in cols:\n",
    "    print(col)\n",
    "    df[col] = df.progress_apply(preprocess_text(bow, col), axis=1)"
   ]
  },
  {
   "cell_type": "code",
   "execution_count": 12,
   "id": "2440d88f-52eb-4404-8949-e8503331095d",
   "metadata": {},
   "outputs": [
    {
     "data": {
      "text/html": [
       "<div>\n",
       "<style scoped>\n",
       "    .dataframe tbody tr th:only-of-type {\n",
       "        vertical-align: middle;\n",
       "    }\n",
       "\n",
       "    .dataframe tbody tr th {\n",
       "        vertical-align: top;\n",
       "    }\n",
       "\n",
       "    .dataframe thead th {\n",
       "        text-align: right;\n",
       "    }\n",
       "</style>\n",
       "<table border=\"1\" class=\"dataframe\">\n",
       "  <thead>\n",
       "    <tr style=\"text-align: right;\">\n",
       "      <th></th>\n",
       "      <th>count</th>\n",
       "      <th>percent</th>\n",
       "    </tr>\n",
       "    <tr>\n",
       "      <th>topic</th>\n",
       "      <th></th>\n",
       "      <th></th>\n",
       "    </tr>\n",
       "  </thead>\n",
       "  <tbody>\n",
       "    <tr>\n",
       "      <th>driverless cars</th>\n",
       "      <td>3499</td>\n",
       "      <td>0.202173</td>\n",
       "    </tr>\n",
       "    <tr>\n",
       "      <th>facial action coding system</th>\n",
       "      <td>3043</td>\n",
       "      <td>0.175825</td>\n",
       "    </tr>\n",
       "    <tr>\n",
       "      <th>exploring venus</th>\n",
       "      <td>3015</td>\n",
       "      <td>0.174207</td>\n",
       "    </tr>\n",
       "    <tr>\n",
       "      <th>face mars</th>\n",
       "      <td>2094</td>\n",
       "      <td>0.120992</td>\n",
       "    </tr>\n",
       "    <tr>\n",
       "      <th>electoral college work</th>\n",
       "      <td>2046</td>\n",
       "      <td>0.118218</td>\n",
       "    </tr>\n",
       "    <tr>\n",
       "      <th>car free cities</th>\n",
       "      <td>1961</td>\n",
       "      <td>0.113307</td>\n",
       "    </tr>\n",
       "    <tr>\n",
       "      <th>cowboy rode waves</th>\n",
       "      <td>1648</td>\n",
       "      <td>0.095222</td>\n",
       "    </tr>\n",
       "    <tr>\n",
       "      <th>mandatory extracurricular activities</th>\n",
       "      <td>1</td>\n",
       "      <td>0.000058</td>\n",
       "    </tr>\n",
       "  </tbody>\n",
       "</table>\n",
       "</div>"
      ],
      "text/plain": [
       "                                      count   percent\n",
       "topic                                                \n",
       "driverless cars                        3499  0.202173\n",
       "facial action coding system            3043  0.175825\n",
       "exploring venus                        3015  0.174207\n",
       "face mars                              2094  0.120992\n",
       "electoral college work                 2046  0.118218\n",
       "car free cities                        1961  0.113307\n",
       "cowboy rode waves                      1648  0.095222\n",
       "mandatory extracurricular activities      1  0.000058"
      ]
     },
     "execution_count": 12,
     "metadata": {},
     "output_type": "execute_result"
    }
   ],
   "source": [
    "pdx.value_counts(df[\"topic\"])"
   ]
  },
  {
   "cell_type": "markdown",
   "id": "a4530228-9c9d-4c40-8f72-12bd08fa06d9",
   "metadata": {},
   "source": [
    "# Review Data"
   ]
  },
  {
   "cell_type": "code",
   "execution_count": 13,
   "id": "05fb760c-df6d-4b49-a929-dd9123241033",
   "metadata": {},
   "outputs": [
    {
     "name": "stdout",
     "output_type": "stream",
     "text": [
      "<class 'pandas.core.frame.DataFrame'>\n",
      "RangeIndex: 17307 entries, 0 to 17306\n",
      "Data columns (total 4 columns):\n",
      " #   Column     Non-Null Count  Dtype \n",
      "---  ------     --------------  ----- \n",
      " 0   essay_id   17307 non-null  object\n",
      " 1   score      17307 non-null  int8  \n",
      " 2   topic      17307 non-null  object\n",
      " 3   full_text  17307 non-null  object\n",
      "dtypes: int8(1), object(3)\n",
      "memory usage: 422.7+ KB\n"
     ]
    }
   ],
   "source": [
    "cols = [\"essay_id\", \"score\", \"topic\", \"full_text\"]\n",
    "df = df[cols]\n",
    "df.info()"
   ]
  },
  {
   "cell_type": "code",
   "execution_count": 14,
   "id": "7cd743ad-c82f-4178-a8d9-f7da4fef3ea5",
   "metadata": {},
   "outputs": [
    {
     "data": {
      "text/html": [
       "<div>\n",
       "<style scoped>\n",
       "    .dataframe tbody tr th:only-of-type {\n",
       "        vertical-align: middle;\n",
       "    }\n",
       "\n",
       "    .dataframe tbody tr th {\n",
       "        vertical-align: top;\n",
       "    }\n",
       "\n",
       "    .dataframe thead th {\n",
       "        text-align: right;\n",
       "    }\n",
       "</style>\n",
       "<table border=\"1\" class=\"dataframe\">\n",
       "  <thead>\n",
       "    <tr style=\"text-align: right;\">\n",
       "      <th></th>\n",
       "      <th>essay_id</th>\n",
       "      <th>score</th>\n",
       "      <th>topic</th>\n",
       "      <th>full_text</th>\n",
       "    </tr>\n",
       "  </thead>\n",
       "  <tbody>\n",
       "    <tr>\n",
       "      <th>0</th>\n",
       "      <td>000d118</td>\n",
       "      <td>3</td>\n",
       "      <td>car free cities</td>\n",
       "      <td>Many people have car where they live. The thing they don't know is that when you use a car alot of thing can happen like you can get in accidet or the smoke that the car has is bad to breath on if someone is walk but in VAUBAN,Germany they dont have that proble because 70 percent of vauban's families do not own cars,and 57 percent sold a car to move there. Street parkig ,driveways and home garages are forbidden on the outskirts of freiburd that near the French and Swiss borders. You probaly won't see a car in Vauban's streets because they are completely \"car free\" but If some that lives in VAUBAN that owns a car ownership is allowed,but there are only two places that you can park a large garages at the edge of the development,where a car owner buys a space but it not cheap to buy one they sell the space for you car for $40,000 along with a home. The vauban people completed this in 2006 ,they said that this an example of a growing trend in Europe,The untile states and some where else are suburban life from auto use this is called \"smart planning.\" The current efforts to drastically reduce greenhouse gas emissions from tailes the passengee cars are responsible for 12 percent of greenhouse gas emissions in Europe and up to 50 percent in some car intensive in the United States. I honeslty think that good idea that they did that is Vaudan because that makes cities denser and better for walking and in VAUBAN there are 5,500 residents within a rectangular square mile. In the artical David Gold berg said that \"All of our development since World war 2 has been centered on the cars,and that will have to change\" and i think that was very true what David Gold said because alot thing we need cars to do we can go anyway were with out cars beacuse some people are a very lazy to walk to place thats why they alot of people use car and i think that it was a good idea that that they did that in VAUBAN so people can see how we really don't need car to go to place from place because we can walk from were we need to go or we can ride bycles with out the use of a car. It good that they are doing that if you thik about your help the earth in way and thats a very good thing to. In the United states ,the Environmental protection Agency is promoting what is called \"car reduced\"communtunties,and the legislators are starting to act,if cautiously. Maany experts expect pubic transport serving suburbs to play a much larger role in a new six years federal transportation bill to approved this year. In previous bill,80 percent of appropriations have by law gone to highways and only 20 percent to other transports. There many good reason why they should do this.</td>\n",
       "    </tr>\n",
       "    <tr>\n",
       "      <th>1</th>\n",
       "      <td>000fe60</td>\n",
       "      <td>3</td>\n",
       "      <td>face mars</td>\n",
       "      <td>I am a scientist at NASA that is discussing the \"face\" on mars. I will be explaining how the \"face\" is a land form. By sharing my information about this isue i will tell you just that. First off, how could it be a martions drawing. There is no plant life on mars as of rite now that we know of, which means so far as we know it is not possible for any type of life. That explains how it could not be made by martians. Also why and how would a martion build a face so big. It just does not make any since that a martian did this. Next, why it is a landform. There are many landforms that are weird here in America, and there is also landforms all around the whole Earth. Many of them look like something we can relate to like a snake a turtle a human... So if there are landforms on earth dont you think landforms are on mars to? Of course! why not? It's just unique that the landform on Mars looks like a human face. Also if there was martians and they were trying to get our attention dont you think we would have saw one by now? Finaly, why you should listen to me. You should listen to me because i am a member of NASA and i've been dealing with all of this stuff that were talking about and people who say martians did this have no relation with NASA and have never worked with anything to relate to this landform. One last thing is that everyone working at NASA says the same thing i say, that the \"face\" is just a landform. To sum all this up the \"face\" on mars is a landform but others would like to beleive it's a martian sculpture. Which every one that works at NASA says it's a landform and they are all the ones working on the planet and taking pictures.</td>\n",
       "    </tr>\n",
       "    <tr>\n",
       "      <th>2</th>\n",
       "      <td>001ab80</td>\n",
       "      <td>4</td>\n",
       "      <td>driverless cars</td>\n",
       "      <td>People always wish they had the same technology that they have seen in movies, or the best new piece of technology that is all over social media. However, nobody seems to think of the risks that these kinds of new technologies may have. Cars have been around for many decades, and now manufacturers are starting to get on the bandwagon and come up with the new and improved technology that they hope will appeal to everyone. As of right now, it seems as though the negative characteristics of these cars consume the positive idea that these manufacturers have tried to convey. Currently, this new technology in cars has a very long way to go before being completely \"driverless.\" Drivers still need to be on alert when they are driving, as well as control the car near any accidents or complicated traffic situations. This seems to totally defeat the purpose of the \"driverless\" car. Eventually the technology may improve, but nobody can be certain that the driverless car will eventually become completely \"driverless.\" This idea just seems like a lot of hard work and money for something that is not very neccessary. If someone does not want to drive their car they can just take a city bus or a subway. There are so many options of transportation that can already solve this problem. Even if masnufacturers are trying to make driving more \"fun,\" driving is not meant to be \"fun\" it is meant to get people where they need to go. Playing around in a car just to have \"fun\" is just a recipe for disaster. The idea of the driverless car also raises many questions about who will be liable when someone gets into an accident in one of these new cars. Many states do not even let people drive semi-automatic cars because there are not even laws that pertain to the liability of anyone who get into an accident while driving these type of cars. If these cars become more popular, states may pass new laws. However, this topic also raises questions about who is able to dictate whether or not it was the car or the human's fault for an accident. Since this technology is so new, there could be many problems with the car's system that nobody has even discovered since they have not drove the car themselves. If someone test drives this kind of car or even purchases one and they get into a crash not knowing what could possibly happen to them, they will want to sue the car manufacturer since they were not aware of any bugs in the car's system. These lawsuits can add up and eventually the manufactuers will be in a bunch of debt, which could cost them their whole idea of the driverless car. The technology car manufacturers are trying to develope may just be a diasaster in the making. There are many alternative options of transportations if you do not feel like driving yourself, and these options are way less expensive than buying a brand new car. Although this technology is relatively new, we can not be certain that this new idea will even pay off in the end, it may just be a waste of money and time. Sometimes the newest technology is not the most benefical.</td>\n",
       "    </tr>\n",
       "    <tr>\n",
       "      <th>3</th>\n",
       "      <td>001bdc0</td>\n",
       "      <td>4</td>\n",
       "      <td>exploring venus</td>\n",
       "      <td>We all heard about Venus, the planet without almost oxygen with earthquakes, erupting volcanoes and temperatures average over 800 degrees Fahrenheit but what if scientist project the futur into this planet ? Through this article, the author uses evidences appealing to reason and concession to make us realize why we should care about studying this planet so that people must give a chance to Venus. Venus is the closest planet to Earth in terms density and size but has a really different climate. As it is evoked by the author: (3) \"A thick atmosphere of almost 97 percent carbon dioxide blankets Venus. Even more challenging are the clouds of highly corrosive sulfuric acid in Venus's atmosphere. On the planet's surface, temperatures average over 800 degrees Fahrenheit....Beyond high pressure and heat, Venusian geology and weather present additional impediments like erupting volcanoes, powerful earthquakes, and frequent lightning strikes to probes seeking to land on its surface.\" The author uses of concession tell us what is the actual climate of Venus. He tell us the truth, he support the fact that studying Venus is a worthy pursuit but he also recognize that there's a danger present continuously. And because he support the idea of studying Venus, he proposes ways to study the planet and find a solution at a reasonable distance. Venus is an inhospitable planet that can almost be considered as an impossible dwelling for humans. But for the author, that can't keep scientist to do their job (studying Venus): (5) \"NASA's possible solution to the hostile conditions on the surface of Venus would allow scientists to float above the fray. Imagine a blimp-like vehicle hovering 30 or so miles above the roiling Venusian landscape. Just as our jet airplanes travel at a higher altitude to fly over many storms, a vehicle hovering over Venus would avoid the unfriendly ground conditions by staying up and out of their way. At thirty-plus miles above the surface, temperatures would still be toasty at around 170 degrees Fahrenheit, but the air pressure would be close to that of sea level on Earth.\" Through this evidence, appealing to reasonning, the author talk about the NASA's possible solution to raise his credibility. But also, to convince the audience that we can only find a solution by studying the planet. In conclusion, despite of Venus hostility put in advance by the concession, the author makes the audience realize that there's a solution but that we can find it only if we study the planet. He make us find out that challenge and curiosity is part of human life. But also that danger and fear should not stop us from discovering new things. After all, we are Humans.</td>\n",
       "    </tr>\n",
       "    <tr>\n",
       "      <th>4</th>\n",
       "      <td>002ba53</td>\n",
       "      <td>3</td>\n",
       "      <td>electoral college work</td>\n",
       "      <td>Dear, State Senator This is a letter to argue in favor of keeping the Electoral College.\"There are many reasons to keep the Electoral College\" one reason is because it is widely regarded as an anachronism, a dispute over the outcome of an Electoral College vote is possible, but it is less likely than a dispute over the popular vote, and the Electoral College restores some of the weight in the political balance that large states (by population) lose by virue of the mal apportionment of the Senate decreed in the Constitution. I am in favor of keeping the Electoral College because,it is widely regarded as an anachronism. A non-democratic method of selecting a president that ought to be [overruled] by declaring the canaditdate who receives the most populare votes the winner. The advocates of this position are correct in arguing that the Electoral College method is not democratic in a method sense.It is the electors who elect the the president ,not the people. But each party selects a slate of electors trusted to vote for the party's nominee (and that trust is rarely betrayed). Another, reason I am in favor of keeping the Electoral College is because, a dispute over the outcome of an Electoral College vote is possible. But it is less likely than a dispute over the popular vote. But it is less likely than a dispute over the popular vote. The reason is that the winning canadate's share of the Electoral College invariably exceeds his share of the popular vote. Last but not least, I am in favor of keeping the Electoral College is because, the Electoral College restores some of the weight in the political balance that large states (by population) lose by virue of the mal apportionment of the Senate decreed in the Constitution. A larger state gets more attintion from presidential canadidates in a campaign than a small state does. It can be argued that Electoral College methods of selecting the president may turn off potential voters for a canadidates who has no hope of carrying their state. But of course no voter's vote swings a national election, and in spite of that, about 1/2 the eligible American population did vote in the [2012's] election. From, PROPER_NAME</td>\n",
       "    </tr>\n",
       "  </tbody>\n",
       "</table>\n",
       "</div>"
      ],
      "text/plain": [
       "  essay_id  score                   topic  \\\n",
       "0  000d118      3         car free cities   \n",
       "1  000fe60      3               face mars   \n",
       "2  001ab80      4         driverless cars   \n",
       "3  001bdc0      4         exploring venus   \n",
       "4  002ba53      3  electoral college work   \n",
       "\n",
       "                                                                                                                                                                                                                                                                                                                                                                                                                                                                                                                                                                                                                                                                                                                                                                                                                                                                                                                                                                                                                                                                                                                                                                                                                                                                                                                                                                                                                                                                                                                                                                                                                                                                                                                                                                                                                                                                                                                                                                                                                                                                                                                                                                                                                                                                                                                                                                                                                                                                                                                                                                                                                                                                                                                                                                                                                                                                                                                                                                                                                                                                                                                                                                                   full_text  \n",
       "0                                                                                                                                                                                                                                                                                                                                                                                                          Many people have car where they live. The thing they don't know is that when you use a car alot of thing can happen like you can get in accidet or the smoke that the car has is bad to breath on if someone is walk but in VAUBAN,Germany they dont have that proble because 70 percent of vauban's families do not own cars,and 57 percent sold a car to move there. Street parkig ,driveways and home garages are forbidden on the outskirts of freiburd that near the French and Swiss borders. You probaly won't see a car in Vauban's streets because they are completely \"car free\" but If some that lives in VAUBAN that owns a car ownership is allowed,but there are only two places that you can park a large garages at the edge of the development,where a car owner buys a space but it not cheap to buy one they sell the space for you car for $40,000 along with a home. The vauban people completed this in 2006 ,they said that this an example of a growing trend in Europe,The untile states and some where else are suburban life from auto use this is called \"smart planning.\" The current efforts to drastically reduce greenhouse gas emissions from tailes the passengee cars are responsible for 12 percent of greenhouse gas emissions in Europe and up to 50 percent in some car intensive in the United States. I honeslty think that good idea that they did that is Vaudan because that makes cities denser and better for walking and in VAUBAN there are 5,500 residents within a rectangular square mile. In the artical David Gold berg said that \"All of our development since World war 2 has been centered on the cars,and that will have to change\" and i think that was very true what David Gold said because alot thing we need cars to do we can go anyway were with out cars beacuse some people are a very lazy to walk to place thats why they alot of people use car and i think that it was a good idea that that they did that in VAUBAN so people can see how we really don't need car to go to place from place because we can walk from were we need to go or we can ride bycles with out the use of a car. It good that they are doing that if you thik about your help the earth in way and thats a very good thing to. In the United states ,the Environmental protection Agency is promoting what is called \"car reduced\"communtunties,and the legislators are starting to act,if cautiously. Maany experts expect pubic transport serving suburbs to play a much larger role in a new six years federal transportation bill to approved this year. In previous bill,80 percent of appropriations have by law gone to highways and only 20 percent to other transports. There many good reason why they should do this.  \n",
       "1                                                                                                                                                                                                                                                                                                                                                                                                                                                                                                                                                                                                                                                                                                                                                                                                                                                                                                                                                                                                                                                                                                                                                                                                                                                                                                                                                                                                                                                          I am a scientist at NASA that is discussing the \"face\" on mars. I will be explaining how the \"face\" is a land form. By sharing my information about this isue i will tell you just that. First off, how could it be a martions drawing. There is no plant life on mars as of rite now that we know of, which means so far as we know it is not possible for any type of life. That explains how it could not be made by martians. Also why and how would a martion build a face so big. It just does not make any since that a martian did this. Next, why it is a landform. There are many landforms that are weird here in America, and there is also landforms all around the whole Earth. Many of them look like something we can relate to like a snake a turtle a human... So if there are landforms on earth dont you think landforms are on mars to? Of course! why not? It's just unique that the landform on Mars looks like a human face. Also if there was martians and they were trying to get our attention dont you think we would have saw one by now? Finaly, why you should listen to me. You should listen to me because i am a member of NASA and i've been dealing with all of this stuff that were talking about and people who say martians did this have no relation with NASA and have never worked with anything to relate to this landform. One last thing is that everyone working at NASA says the same thing i say, that the \"face\" is just a landform. To sum all this up the \"face\" on mars is a landform but others would like to beleive it's a martian sculpture. Which every one that works at NASA says it's a landform and they are all the ones working on the planet and taking pictures.  \n",
       "2  People always wish they had the same technology that they have seen in movies, or the best new piece of technology that is all over social media. However, nobody seems to think of the risks that these kinds of new technologies may have. Cars have been around for many decades, and now manufacturers are starting to get on the bandwagon and come up with the new and improved technology that they hope will appeal to everyone. As of right now, it seems as though the negative characteristics of these cars consume the positive idea that these manufacturers have tried to convey. Currently, this new technology in cars has a very long way to go before being completely \"driverless.\" Drivers still need to be on alert when they are driving, as well as control the car near any accidents or complicated traffic situations. This seems to totally defeat the purpose of the \"driverless\" car. Eventually the technology may improve, but nobody can be certain that the driverless car will eventually become completely \"driverless.\" This idea just seems like a lot of hard work and money for something that is not very neccessary. If someone does not want to drive their car they can just take a city bus or a subway. There are so many options of transportation that can already solve this problem. Even if masnufacturers are trying to make driving more \"fun,\" driving is not meant to be \"fun\" it is meant to get people where they need to go. Playing around in a car just to have \"fun\" is just a recipe for disaster. The idea of the driverless car also raises many questions about who will be liable when someone gets into an accident in one of these new cars. Many states do not even let people drive semi-automatic cars because there are not even laws that pertain to the liability of anyone who get into an accident while driving these type of cars. If these cars become more popular, states may pass new laws. However, this topic also raises questions about who is able to dictate whether or not it was the car or the human's fault for an accident. Since this technology is so new, there could be many problems with the car's system that nobody has even discovered since they have not drove the car themselves. If someone test drives this kind of car or even purchases one and they get into a crash not knowing what could possibly happen to them, they will want to sue the car manufacturer since they were not aware of any bugs in the car's system. These lawsuits can add up and eventually the manufactuers will be in a bunch of debt, which could cost them their whole idea of the driverless car. The technology car manufacturers are trying to develope may just be a diasaster in the making. There are many alternative options of transportations if you do not feel like driving yourself, and these options are way less expensive than buying a brand new car. Although this technology is relatively new, we can not be certain that this new idea will even pay off in the end, it may just be a waste of money and time. Sometimes the newest technology is not the most benefical.  \n",
       "3                                                                                                                                                                                                                                                                                                                                                                                    We all heard about Venus, the planet without almost oxygen with earthquakes, erupting volcanoes and temperatures average over 800 degrees Fahrenheit but what if scientist project the futur into this planet ? Through this article, the author uses evidences appealing to reason and concession to make us realize why we should care about studying this planet so that people must give a chance to Venus. Venus is the closest planet to Earth in terms density and size but has a really different climate. As it is evoked by the author: (3) \"A thick atmosphere of almost 97 percent carbon dioxide blankets Venus. Even more challenging are the clouds of highly corrosive sulfuric acid in Venus's atmosphere. On the planet's surface, temperatures average over 800 degrees Fahrenheit....Beyond high pressure and heat, Venusian geology and weather present additional impediments like erupting volcanoes, powerful earthquakes, and frequent lightning strikes to probes seeking to land on its surface.\" The author uses of concession tell us what is the actual climate of Venus. He tell us the truth, he support the fact that studying Venus is a worthy pursuit but he also recognize that there's a danger present continuously. And because he support the idea of studying Venus, he proposes ways to study the planet and find a solution at a reasonable distance. Venus is an inhospitable planet that can almost be considered as an impossible dwelling for humans. But for the author, that can't keep scientist to do their job (studying Venus): (5) \"NASA's possible solution to the hostile conditions on the surface of Venus would allow scientists to float above the fray. Imagine a blimp-like vehicle hovering 30 or so miles above the roiling Venusian landscape. Just as our jet airplanes travel at a higher altitude to fly over many storms, a vehicle hovering over Venus would avoid the unfriendly ground conditions by staying up and out of their way. At thirty-plus miles above the surface, temperatures would still be toasty at around 170 degrees Fahrenheit, but the air pressure would be close to that of sea level on Earth.\" Through this evidence, appealing to reasonning, the author talk about the NASA's possible solution to raise his credibility. But also, to convince the audience that we can only find a solution by studying the planet. In conclusion, despite of Venus hostility put in advance by the concession, the author makes the audience realize that there's a solution but that we can find it only if we study the planet. He make us find out that challenge and curiosity is part of human life. But also that danger and fear should not stop us from discovering new things. After all, we are Humans.  \n",
       "4                                                                                                                                                                                                                                                                                                                                                                                                                                                                                                                                                                                                                                                                                                                                                                                                                                                                                                             Dear, State Senator This is a letter to argue in favor of keeping the Electoral College.\"There are many reasons to keep the Electoral College\" one reason is because it is widely regarded as an anachronism, a dispute over the outcome of an Electoral College vote is possible, but it is less likely than a dispute over the popular vote, and the Electoral College restores some of the weight in the political balance that large states (by population) lose by virue of the mal apportionment of the Senate decreed in the Constitution. I am in favor of keeping the Electoral College because,it is widely regarded as an anachronism. A non-democratic method of selecting a president that ought to be [overruled] by declaring the canaditdate who receives the most populare votes the winner. The advocates of this position are correct in arguing that the Electoral College method is not democratic in a method sense.It is the electors who elect the the president ,not the people. But each party selects a slate of electors trusted to vote for the party's nominee (and that trust is rarely betrayed). Another, reason I am in favor of keeping the Electoral College is because, a dispute over the outcome of an Electoral College vote is possible. But it is less likely than a dispute over the popular vote. But it is less likely than a dispute over the popular vote. The reason is that the winning canadate's share of the Electoral College invariably exceeds his share of the popular vote. Last but not least, I am in favor of keeping the Electoral College is because, the Electoral College restores some of the weight in the political balance that large states (by population) lose by virue of the mal apportionment of the Senate decreed in the Constitution. A larger state gets more attintion from presidential canadidates in a campaign than a small state does. It can be argued that Electoral College methods of selecting the president may turn off potential voters for a canadidates who has no hope of carrying their state. But of course no voter's vote swings a national election, and in spite of that, about 1/2 the eligible American population did vote in the [2012's] election. From, PROPER_NAME  "
      ]
     },
     "execution_count": 14,
     "metadata": {},
     "output_type": "execute_result"
    }
   ],
   "source": [
    "df.head()"
   ]
  },
  {
   "cell_type": "code",
   "execution_count": 15,
   "id": "425b7c9a-2850-42b2-99bb-0ca924e13536",
   "metadata": {},
   "outputs": [],
   "source": [
    "df.to_parquet(f\"output/{corpus_key}_{version}.parquet\", index=False)\n",
    "assert df.notna().all(axis=None)"
   ]
  },
  {
   "cell_type": "code",
   "execution_count": 16,
   "id": "ab103ba7-491f-4375-958e-53be8ddcf657",
   "metadata": {},
   "outputs": [
    {
     "name": "stdout",
     "output_type": "stream",
     "text": [
      "Total time taken 0:03:55.130938\n"
     ]
    }
   ],
   "source": [
    "tim.stop()\n",
    "print(f\"Total time taken {str(tim.elapsed)}\")"
   ]
  }
 ],
 "metadata": {
  "kernelspec": {
   "display_name": "Python 3 (ipykernel)",
   "language": "python",
   "name": "python3"
  },
  "language_info": {
   "codemirror_mode": {
    "name": "ipython",
    "version": 3
   },
   "file_extension": ".py",
   "mimetype": "text/x-python",
   "name": "python",
   "nbconvert_exporter": "python",
   "pygments_lexer": "ipython3",
   "version": "3.10.12"
  }
 },
 "nbformat": 4,
 "nbformat_minor": 5
}
