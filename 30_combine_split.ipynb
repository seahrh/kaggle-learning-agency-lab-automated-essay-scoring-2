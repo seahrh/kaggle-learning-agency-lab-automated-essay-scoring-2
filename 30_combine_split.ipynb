{
 "cells": [
  {
   "cell_type": "code",
   "execution_count": 1,
   "id": "67f20907-a4c8-4d7b-bc8f-ce5daa901878",
   "metadata": {},
   "outputs": [],
   "source": [
    "import os\n",
    "import json\n",
    "import gc\n",
    "from datetime import datetime\n",
    "from pathlib import Path\n",
    "import numpy as np\n",
    "import pandas as pd\n",
    "from sklearn.model_selection import StratifiedKFold, StratifiedGroupKFold\n",
    "from tqdm import tqdm\n",
    "from typing import Dict, List, Set, Tuple, NamedTuple, Callable\n",
    "import scml\n",
    "from scml import pandasx as pdx"
   ]
  },
  {
   "cell_type": "code",
   "execution_count": 2,
   "id": "f36e6f91-80bc-4277-972f-c525473e08ca",
   "metadata": {},
   "outputs": [],
   "source": [
    "version = \"06\"\n",
    "files = [\n",
    "    Path(\"input/comp_02.parquet\"),\n",
    "    Path(\"input/persuade_02.parquet\"),\n",
    "]\n",
    "n_splits = 15  # 15 topics exist in corpus\n",
    "persuade_topic_classification = False\n",
    "if persuade_topic_classification:\n",
    "    n_splits = 25"
   ]
  },
  {
   "cell_type": "code",
   "execution_count": 3,
   "id": "5a7ed42a-0fae-486d-a30f-f46ef8a29c7e",
   "metadata": {},
   "outputs": [
    {
     "name": "stdout",
     "output_type": "stream",
     "text": [
      "int16, min=-32768, max=32767\n"
     ]
    }
   ],
   "source": [
    "tim = scml.Timer()\n",
    "tim.start()\n",
    "os.environ[\"TOKENIZERS_PARALLELISM\"] = \"false\"\n",
    "percentiles=[.01, .05, .1, .2, .3, .4, .5, .6, .7, .8, .9, .95, .99]\n",
    "pd.set_option(\"max_info_columns\", 9999)\n",
    "pd.set_option(\"display.max_columns\", 9999)\n",
    "pd.set_option(\"display.max_rows\", 9999)\n",
    "pd.set_option('max_colwidth', 9999)\n",
    "tqdm.pandas()\n",
    "scml.seed_everything()\n",
    "info = np.iinfo(np.int16)\n",
    "print(f\"int16, min={info.min}, max={info.max}\")"
   ]
  },
  {
   "cell_type": "code",
   "execution_count": 4,
   "id": "8b15b519-ca2a-49f4-b7c1-659794aecf40",
   "metadata": {},
   "outputs": [
    {
     "name": "stdout",
     "output_type": "stream",
     "text": [
      "<class 'pandas.core.frame.DataFrame'>\n",
      "RangeIndex: 43303 entries, 0 to 43302\n",
      "Data columns (total 6 columns):\n",
      " #   Column                     Non-Null Count  Dtype \n",
      "---  ------                     --------------  ----- \n",
      " 0   essay_id                   43303 non-null  object\n",
      " 1   score                      43303 non-null  int8  \n",
      " 2   ctq_3_Qwen2-1.5B-Instruct  43303 non-null  object\n",
      " 3   topic                      43303 non-null  object\n",
      " 4   full_text                  43303 non-null  object\n",
      " 5   source                     43303 non-null  object\n",
      "dtypes: int8(1), object(5)\n",
      "memory usage: 1.7+ MB\n"
     ]
    }
   ],
   "source": [
    "cols = [\n",
    "    \"essay_id\", \n",
    "    \"score\", \n",
    "    #\"ctq_Qwen2-1.5B-Instruct\", \n",
    "    \"ctq_3_Qwen2-1.5B-Instruct\", \n",
    "    \"topic\", \n",
    "    \"full_text\"\n",
    "]\n",
    "cmb = None\n",
    "for filepath in files:\n",
    "    df = pd.read_parquet(filepath)\n",
    "    df = df[cols]\n",
    "    df[\"source\"] = filepath.stem\n",
    "    if cmb is None:\n",
    "        cmb = df\n",
    "    else:\n",
    "        cmb = pd.concat([cmb, df], ignore_index=True)\n",
    "df = cmb\n",
    "df.info()"
   ]
  },
  {
   "cell_type": "code",
   "execution_count": 5,
   "id": "804e9b0d-d22c-4ae0-8e66-4a72f5d83910",
   "metadata": {},
   "outputs": [
    {
     "name": "stdout",
     "output_type": "stream",
     "text": [
      "12,875 rows dropped: duplicate text\n"
     ]
    }
   ],
   "source": [
    "more = len(df)\n",
    "df = df.drop_duplicates([\"full_text\"], keep=\"first\", ignore_index=True)\n",
    "print(f\"{more - len(df):,} rows dropped: duplicate text\")"
   ]
  },
  {
   "cell_type": "code",
   "execution_count": 6,
   "id": "741cdfb7-d85c-4ef0-97ae-48831a9ee462",
   "metadata": {},
   "outputs": [
    {
     "data": {
      "text/html": [
       "<div>\n",
       "<style scoped>\n",
       "    .dataframe tbody tr th:only-of-type {\n",
       "        vertical-align: middle;\n",
       "    }\n",
       "\n",
       "    .dataframe tbody tr th {\n",
       "        vertical-align: top;\n",
       "    }\n",
       "\n",
       "    .dataframe thead th {\n",
       "        text-align: right;\n",
       "    }\n",
       "</style>\n",
       "<table border=\"1\" class=\"dataframe\">\n",
       "  <thead>\n",
       "    <tr style=\"text-align: right;\">\n",
       "      <th></th>\n",
       "      <th>count</th>\n",
       "      <th>percent</th>\n",
       "    </tr>\n",
       "    <tr>\n",
       "      <th>topic</th>\n",
       "      <th></th>\n",
       "      <th></th>\n",
       "    </tr>\n",
       "  </thead>\n",
       "  <tbody>\n",
       "    <tr>\n",
       "      <th>driverless cars</th>\n",
       "      <td>3499</td>\n",
       "      <td>0.114993</td>\n",
       "    </tr>\n",
       "    <tr>\n",
       "      <th>facial action coding system</th>\n",
       "      <td>3043</td>\n",
       "      <td>0.100007</td>\n",
       "    </tr>\n",
       "    <tr>\n",
       "      <th>exploring venus</th>\n",
       "      <td>3015</td>\n",
       "      <td>0.099086</td>\n",
       "    </tr>\n",
       "    <tr>\n",
       "      <th>distance learning</th>\n",
       "      <td>2157</td>\n",
       "      <td>0.070889</td>\n",
       "    </tr>\n",
       "    <tr>\n",
       "      <th>face mars</th>\n",
       "      <td>2094</td>\n",
       "      <td>0.068818</td>\n",
       "    </tr>\n",
       "    <tr>\n",
       "      <th>electoral college work</th>\n",
       "      <td>2046</td>\n",
       "      <td>0.067241</td>\n",
       "    </tr>\n",
       "    <tr>\n",
       "      <th>car free cities</th>\n",
       "      <td>1963</td>\n",
       "      <td>0.064513</td>\n",
       "    </tr>\n",
       "    <tr>\n",
       "      <th>summer projects</th>\n",
       "      <td>1750</td>\n",
       "      <td>0.057513</td>\n",
       "    </tr>\n",
       "    <tr>\n",
       "      <th>mandatory extracurricular activities</th>\n",
       "      <td>1671</td>\n",
       "      <td>0.054917</td>\n",
       "    </tr>\n",
       "    <tr>\n",
       "      <th>cell phones school</th>\n",
       "      <td>1656</td>\n",
       "      <td>0.054424</td>\n",
       "    </tr>\n",
       "    <tr>\n",
       "      <th>cowboy rode waves</th>\n",
       "      <td>1648</td>\n",
       "      <td>0.054161</td>\n",
       "    </tr>\n",
       "    <tr>\n",
       "      <th>grades extracurricular activities</th>\n",
       "      <td>1626</td>\n",
       "      <td>0.053438</td>\n",
       "    </tr>\n",
       "    <tr>\n",
       "      <th>seeking multiple opinions</th>\n",
       "      <td>1552</td>\n",
       "      <td>0.051006</td>\n",
       "    </tr>\n",
       "    <tr>\n",
       "      <th>community service</th>\n",
       "      <td>1542</td>\n",
       "      <td>0.050677</td>\n",
       "    </tr>\n",
       "    <tr>\n",
       "      <th>phones driving</th>\n",
       "      <td>1166</td>\n",
       "      <td>0.038320</td>\n",
       "    </tr>\n",
       "  </tbody>\n",
       "</table>\n",
       "</div>"
      ],
      "text/plain": [
       "                                      count   percent\n",
       "topic                                                \n",
       "driverless cars                        3499  0.114993\n",
       "facial action coding system            3043  0.100007\n",
       "exploring venus                        3015  0.099086\n",
       "distance learning                      2157  0.070889\n",
       "face mars                              2094  0.068818\n",
       "electoral college work                 2046  0.067241\n",
       "car free cities                        1963  0.064513\n",
       "summer projects                        1750  0.057513\n",
       "mandatory extracurricular activities   1671  0.054917\n",
       "cell phones school                     1656  0.054424\n",
       "cowboy rode waves                      1648  0.054161\n",
       "grades extracurricular activities      1626  0.053438\n",
       "seeking multiple opinions              1552  0.051006\n",
       "community service                      1542  0.050677\n",
       "phones driving                         1166  0.038320"
      ]
     },
     "execution_count": 6,
     "metadata": {},
     "output_type": "execute_result"
    }
   ],
   "source": [
    "pdx.value_counts(df[\"topic\"])"
   ]
  },
  {
   "cell_type": "markdown",
   "id": "0f51d252-e544-497d-b137-671c210ff636",
   "metadata": {},
   "source": [
    "# Train/Test Split"
   ]
  },
  {
   "cell_type": "code",
   "execution_count": 7,
   "id": "499dcc4d-3ede-43ce-949e-ba850c2e524a",
   "metadata": {},
   "outputs": [
    {
     "name": "stdout",
     "output_type": "stream",
     "text": [
      "<class 'pandas.core.frame.DataFrame'>\n",
      "Index: 28334 entries, 0 to 30427\n",
      "Data columns (total 6 columns):\n",
      " #   Column                     Non-Null Count  Dtype \n",
      "---  ------                     --------------  ----- \n",
      " 0   essay_id                   28334 non-null  object\n",
      " 1   score                      28334 non-null  int8  \n",
      " 2   ctq_3_Qwen2-1.5B-Instruct  28334 non-null  object\n",
      " 3   topic                      28334 non-null  object\n",
      " 4   full_text                  28334 non-null  object\n",
      " 5   source                     28334 non-null  object\n",
      "dtypes: int8(1), object(5)\n",
      "memory usage: 1.3+ MB\n"
     ]
    }
   ],
   "source": [
    "dummy = np.zeros(len(df))\n",
    "if persuade_topic_classification:\n",
    "    splitter = StratifiedKFold(n_splits=n_splits, shuffle=True)\n",
    "    for ti, vi in splitter.split(dummy, y=df[\"topic\"]):\n",
    "        tra = df.iloc[ti]\n",
    "        val = df.iloc[vi]\n",
    "        break\n",
    "else:\n",
    "    splitter = StratifiedGroupKFold(n_splits=n_splits, shuffle=True)\n",
    "    for ti, vi in splitter.split(dummy, y=df[\"score\"], groups=df[\"topic\"]):\n",
    "        tra = df.iloc[ti]\n",
    "        val = df.iloc[vi]\n",
    "        break\n",
    "tra.info()"
   ]
  },
  {
   "cell_type": "code",
   "execution_count": 8,
   "id": "ea20a87c-fd91-48dd-9e2e-a2b99b47fba2",
   "metadata": {},
   "outputs": [
    {
     "name": "stdout",
     "output_type": "stream",
     "text": [
      "<class 'pandas.core.frame.DataFrame'>\n",
      "Index: 2094 entries, 1 to 17287\n",
      "Data columns (total 6 columns):\n",
      " #   Column                     Non-Null Count  Dtype \n",
      "---  ------                     --------------  ----- \n",
      " 0   essay_id                   2094 non-null   object\n",
      " 1   score                      2094 non-null   int8  \n",
      " 2   ctq_3_Qwen2-1.5B-Instruct  2094 non-null   object\n",
      " 3   topic                      2094 non-null   object\n",
      " 4   full_text                  2094 non-null   object\n",
      " 5   source                     2094 non-null   object\n",
      "dtypes: int8(1), object(5)\n",
      "memory usage: 100.2+ KB\n"
     ]
    }
   ],
   "source": [
    "val.info()"
   ]
  },
  {
   "cell_type": "code",
   "execution_count": 9,
   "id": "eaca9b29-0868-4717-9a1e-f0c5686778bd",
   "metadata": {},
   "outputs": [],
   "source": [
    "tra.to_parquet(f\"output/tra_{version}.parquet\", index=False)\n",
    "val.to_parquet(f\"output/val_{version}.parquet\", index=False)\n",
    "assert tra.notna().all(axis=None)\n",
    "assert val.notna().all(axis=None)"
   ]
  },
  {
   "cell_type": "code",
   "execution_count": 10,
   "id": "9a998a20-17aa-4a30-8210-5cfbdcf16966",
   "metadata": {},
   "outputs": [
    {
     "name": "stdout",
     "output_type": "stream",
     "text": [
      "Total time taken 0:00:00.861992\n"
     ]
    }
   ],
   "source": [
    "tim.stop()\n",
    "print(f\"Total time taken {str(tim.elapsed)}\")"
   ]
  }
 ],
 "metadata": {
  "kernelspec": {
   "display_name": "Python 3 (ipykernel)",
   "language": "python",
   "name": "python3"
  },
  "language_info": {
   "codemirror_mode": {
    "name": "ipython",
    "version": 3
   },
   "file_extension": ".py",
   "mimetype": "text/x-python",
   "name": "python",
   "nbconvert_exporter": "python",
   "pygments_lexer": "ipython3",
   "version": "3.10.12"
  }
 },
 "nbformat": 4,
 "nbformat_minor": 5
}
