{
 "cells": [
  {
   "cell_type": "code",
   "execution_count": 1,
   "id": "67f20907-a4c8-4d7b-bc8f-ce5daa901878",
   "metadata": {},
   "outputs": [],
   "source": [
    "import os\n",
    "import json\n",
    "import gc\n",
    "from datetime import datetime\n",
    "from pathlib import Path\n",
    "import numpy as np\n",
    "import pandas as pd\n",
    "from sklearn.model_selection import StratifiedKFold\n",
    "from tqdm import tqdm\n",
    "from typing import Dict, List, Set, Tuple, NamedTuple, Callable\n",
    "import scml\n",
    "from scml import pandasx as pdx"
   ]
  },
  {
   "cell_type": "code",
   "execution_count": 2,
   "id": "f36e6f91-80bc-4277-972f-c525473e08ca",
   "metadata": {},
   "outputs": [],
   "source": [
    "version = \"v01\"\n",
    "files = [\n",
    "    Path(\"input/comp.parquet\"),\n",
    "    #Path(\"input/nicholasbroad/nb01.json\"),\n",
    "    #Path(\"input/valentinwerner/vw03.json\"),\n",
    "    #Path(\"input/valentinwerner/pjm12.json\"),\n",
    "]\n",
    "n_splits = 20"
   ]
  },
  {
   "cell_type": "code",
   "execution_count": 3,
   "id": "5a7ed42a-0fae-486d-a30f-f46ef8a29c7e",
   "metadata": {},
   "outputs": [
    {
     "name": "stdout",
     "output_type": "stream",
     "text": [
      "int16, min=-32768, max=32767\n"
     ]
    }
   ],
   "source": [
    "tim = scml.Timer()\n",
    "tim.start()\n",
    "os.environ[\"TOKENIZERS_PARALLELISM\"] = \"false\"\n",
    "percentiles=[.01, .05, .1, .2, .3, .4, .5, .6, .7, .8, .9, .95, .99]\n",
    "pd.set_option(\"max_info_columns\", 9999)\n",
    "pd.set_option(\"display.max_columns\", 9999)\n",
    "pd.set_option(\"display.max_rows\", 9999)\n",
    "pd.set_option('max_colwidth', 9999)\n",
    "tqdm.pandas()\n",
    "scml.seed_everything()\n",
    "info = np.iinfo(np.int16)\n",
    "print(f\"int16, min={info.min}, max={info.max}\")"
   ]
  },
  {
   "cell_type": "code",
   "execution_count": 4,
   "id": "8b15b519-ca2a-49f4-b7c1-659794aecf40",
   "metadata": {},
   "outputs": [
    {
     "name": "stdout",
     "output_type": "stream",
     "text": [
      "<class 'pandas.core.frame.DataFrame'>\n",
      "RangeIndex: 17307 entries, 0 to 17306\n",
      "Data columns (total 4 columns):\n",
      " #   Column      Non-Null Count  Dtype \n",
      "---  ------      --------------  ----- \n",
      " 0   essay_id    17307 non-null  object\n",
      " 1   score       17307 non-null  int8  \n",
      " 2   clean_text  17307 non-null  object\n",
      " 3   source      17307 non-null  object\n",
      "dtypes: int8(1), object(3)\n",
      "memory usage: 422.7+ KB\n"
     ]
    }
   ],
   "source": [
    "cols = [\"essay_id\", \"score\", \"clean_text\"]\n",
    "cmb = None\n",
    "for filepath in files:\n",
    "    df = pd.read_parquet(filepath)\n",
    "    df = df[cols]\n",
    "    df[\"source\"] = filepath.stem\n",
    "    if cmb is None:\n",
    "        cmb = df\n",
    "    else:\n",
    "        cmb = pd.concat([cmb, df], ignore_index=True)\n",
    "cmb.info()"
   ]
  },
  {
   "cell_type": "markdown",
   "id": "0f51d252-e544-497d-b137-671c210ff636",
   "metadata": {},
   "source": [
    "# Train/Test Split"
   ]
  },
  {
   "cell_type": "code",
   "execution_count": 5,
   "id": "499dcc4d-3ede-43ce-949e-ba850c2e524a",
   "metadata": {},
   "outputs": [
    {
     "name": "stderr",
     "output_type": "stream",
     "text": [
      "17307it [00:00, 1137181.12it/s]"
     ]
    },
    {
     "name": "stdout",
     "output_type": "stream",
     "text": [
      "<class 'pandas.core.frame.DataFrame'>\n",
      "Index: 16441 entries, 0 to 17306\n",
      "Data columns (total 5 columns):\n",
      " #   Column      Non-Null Count  Dtype \n",
      "---  ------      --------------  ----- \n",
      " 0   essay_id    16441 non-null  object\n",
      " 1   score       16441 non-null  int8  \n",
      " 2   clean_text  16441 non-null  object\n",
      " 3   source      16441 non-null  object\n",
      " 4   str_level   16441 non-null  object\n",
      "dtypes: int8(1), object(4)\n",
      "memory usage: 658.3+ KB\n"
     ]
    },
    {
     "name": "stderr",
     "output_type": "stream",
     "text": [
      "\n"
     ]
    }
   ],
   "source": [
    "splitter = StratifiedKFold(n_splits=n_splits, shuffle=True)\n",
    "dummy = np.zeros(len(cmb))\n",
    "str_levels = []\n",
    "for t in tqdm(cmb.itertuples()):\n",
    "    score = str(getattr(t, \"score\"))\n",
    "    src = str(getattr(t, \"source\"))\n",
    "    str_levels.append(f\"{score}_{src}\")\n",
    "cmb[\"str_level\"] = str_levels\n",
    "for ti, vi in splitter.split(dummy, y=str_levels):\n",
    "    tra = cmb.iloc[ti]\n",
    "    val = cmb.iloc[vi]\n",
    "    break\n",
    "tra.info()"
   ]
  },
  {
   "cell_type": "code",
   "execution_count": 6,
   "id": "ea20a87c-fd91-48dd-9e2e-a2b99b47fba2",
   "metadata": {},
   "outputs": [
    {
     "name": "stdout",
     "output_type": "stream",
     "text": [
      "<class 'pandas.core.frame.DataFrame'>\n",
      "Index: 866 entries, 12 to 17291\n",
      "Data columns (total 5 columns):\n",
      " #   Column      Non-Null Count  Dtype \n",
      "---  ------      --------------  ----- \n",
      " 0   essay_id    866 non-null    object\n",
      " 1   score       866 non-null    int8  \n",
      " 2   clean_text  866 non-null    object\n",
      " 3   source      866 non-null    object\n",
      " 4   str_level   866 non-null    object\n",
      "dtypes: int8(1), object(4)\n",
      "memory usage: 34.7+ KB\n"
     ]
    }
   ],
   "source": [
    "val.info()"
   ]
  },
  {
   "cell_type": "code",
   "execution_count": 7,
   "id": "b4590f24-8489-449e-a97e-7c6ec4e29574",
   "metadata": {},
   "outputs": [
    {
     "data": {
      "text/html": [
       "<div>\n",
       "<style scoped>\n",
       "    .dataframe tbody tr th:only-of-type {\n",
       "        vertical-align: middle;\n",
       "    }\n",
       "\n",
       "    .dataframe tbody tr th {\n",
       "        vertical-align: top;\n",
       "    }\n",
       "\n",
       "    .dataframe thead th {\n",
       "        text-align: right;\n",
       "    }\n",
       "</style>\n",
       "<table border=\"1\" class=\"dataframe\">\n",
       "  <thead>\n",
       "    <tr style=\"text-align: right;\">\n",
       "      <th></th>\n",
       "      <th>count</th>\n",
       "      <th>percent</th>\n",
       "    </tr>\n",
       "    <tr>\n",
       "      <th>str_level</th>\n",
       "      <th></th>\n",
       "      <th></th>\n",
       "    </tr>\n",
       "  </thead>\n",
       "  <tbody>\n",
       "    <tr>\n",
       "      <th>3_comp</th>\n",
       "      <td>5966</td>\n",
       "      <td>0.362873</td>\n",
       "    </tr>\n",
       "    <tr>\n",
       "      <th>2_comp</th>\n",
       "      <td>4487</td>\n",
       "      <td>0.272915</td>\n",
       "    </tr>\n",
       "    <tr>\n",
       "      <th>4_comp</th>\n",
       "      <td>3729</td>\n",
       "      <td>0.226811</td>\n",
       "    </tr>\n",
       "    <tr>\n",
       "      <th>1_comp</th>\n",
       "      <td>1189</td>\n",
       "      <td>0.072319</td>\n",
       "    </tr>\n",
       "    <tr>\n",
       "      <th>5_comp</th>\n",
       "      <td>922</td>\n",
       "      <td>0.056079</td>\n",
       "    </tr>\n",
       "    <tr>\n",
       "      <th>6_comp</th>\n",
       "      <td>148</td>\n",
       "      <td>0.009002</td>\n",
       "    </tr>\n",
       "  </tbody>\n",
       "</table>\n",
       "</div>"
      ],
      "text/plain": [
       "           count   percent\n",
       "str_level                 \n",
       "3_comp      5966  0.362873\n",
       "2_comp      4487  0.272915\n",
       "4_comp      3729  0.226811\n",
       "1_comp      1189  0.072319\n",
       "5_comp       922  0.056079\n",
       "6_comp       148  0.009002"
      ]
     },
     "execution_count": 7,
     "metadata": {},
     "output_type": "execute_result"
    }
   ],
   "source": [
    "pdx.value_counts(tra[\"str_level\"])"
   ]
  },
  {
   "cell_type": "code",
   "execution_count": 8,
   "id": "4276d048-1b53-4b5f-84bc-a43735263a04",
   "metadata": {},
   "outputs": [
    {
     "data": {
      "text/html": [
       "<div>\n",
       "<style scoped>\n",
       "    .dataframe tbody tr th:only-of-type {\n",
       "        vertical-align: middle;\n",
       "    }\n",
       "\n",
       "    .dataframe tbody tr th {\n",
       "        vertical-align: top;\n",
       "    }\n",
       "\n",
       "    .dataframe thead th {\n",
       "        text-align: right;\n",
       "    }\n",
       "</style>\n",
       "<table border=\"1\" class=\"dataframe\">\n",
       "  <thead>\n",
       "    <tr style=\"text-align: right;\">\n",
       "      <th></th>\n",
       "      <th>count</th>\n",
       "      <th>percent</th>\n",
       "    </tr>\n",
       "    <tr>\n",
       "      <th>str_level</th>\n",
       "      <th></th>\n",
       "      <th></th>\n",
       "    </tr>\n",
       "  </thead>\n",
       "  <tbody>\n",
       "    <tr>\n",
       "      <th>3_comp</th>\n",
       "      <td>314</td>\n",
       "      <td>0.362587</td>\n",
       "    </tr>\n",
       "    <tr>\n",
       "      <th>2_comp</th>\n",
       "      <td>236</td>\n",
       "      <td>0.272517</td>\n",
       "    </tr>\n",
       "    <tr>\n",
       "      <th>4_comp</th>\n",
       "      <td>197</td>\n",
       "      <td>0.227483</td>\n",
       "    </tr>\n",
       "    <tr>\n",
       "      <th>1_comp</th>\n",
       "      <td>63</td>\n",
       "      <td>0.072748</td>\n",
       "    </tr>\n",
       "    <tr>\n",
       "      <th>5_comp</th>\n",
       "      <td>48</td>\n",
       "      <td>0.055427</td>\n",
       "    </tr>\n",
       "    <tr>\n",
       "      <th>6_comp</th>\n",
       "      <td>8</td>\n",
       "      <td>0.009238</td>\n",
       "    </tr>\n",
       "  </tbody>\n",
       "</table>\n",
       "</div>"
      ],
      "text/plain": [
       "           count   percent\n",
       "str_level                 \n",
       "3_comp       314  0.362587\n",
       "2_comp       236  0.272517\n",
       "4_comp       197  0.227483\n",
       "1_comp        63  0.072748\n",
       "5_comp        48  0.055427\n",
       "6_comp         8  0.009238"
      ]
     },
     "execution_count": 8,
     "metadata": {},
     "output_type": "execute_result"
    }
   ],
   "source": [
    "pdx.value_counts(val[\"str_level\"])"
   ]
  },
  {
   "cell_type": "code",
   "execution_count": 9,
   "id": "eaca9b29-0868-4717-9a1e-f0c5686778bd",
   "metadata": {},
   "outputs": [],
   "source": [
    "tra.to_parquet(f\"output/tra_{version}.parquet\", index=False)\n",
    "val.to_parquet(f\"output/val_{version}.parquet\", index=False)\n",
    "assert tra.notna().all(axis=None)\n",
    "assert val.notna().all(axis=None)"
   ]
  },
  {
   "cell_type": "code",
   "execution_count": 10,
   "id": "9a998a20-17aa-4a30-8210-5cfbdcf16966",
   "metadata": {},
   "outputs": [
    {
     "name": "stdout",
     "output_type": "stream",
     "text": [
      "Total time taken 0:00:00.510753\n"
     ]
    }
   ],
   "source": [
    "tim.stop()\n",
    "print(f\"Total time taken {str(tim.elapsed)}\")"
   ]
  }
 ],
 "metadata": {
  "kernelspec": {
   "display_name": "Python 3 (ipykernel)",
   "language": "python",
   "name": "python3"
  },
  "language_info": {
   "codemirror_mode": {
    "name": "ipython",
    "version": 3
   },
   "file_extension": ".py",
   "mimetype": "text/x-python",
   "name": "python",
   "nbconvert_exporter": "python",
   "pygments_lexer": "ipython3",
   "version": "3.10.12"
  }
 },
 "nbformat": 4,
 "nbformat_minor": 5
}
