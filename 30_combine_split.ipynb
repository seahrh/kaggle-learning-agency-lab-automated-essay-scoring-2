{
 "cells": [
  {
   "cell_type": "code",
   "execution_count": 1,
   "id": "67f20907-a4c8-4d7b-bc8f-ce5daa901878",
   "metadata": {},
   "outputs": [],
   "source": [
    "import os\n",
    "import json\n",
    "import gc\n",
    "from datetime import datetime\n",
    "from pathlib import Path\n",
    "import numpy as np\n",
    "import pandas as pd\n",
    "from sklearn.model_selection import StratifiedGroupKFold\n",
    "from tqdm import tqdm\n",
    "from typing import Dict, List, Set, Tuple, NamedTuple, Callable\n",
    "import scml\n",
    "from scml import pandasx as pdx"
   ]
  },
  {
   "cell_type": "code",
   "execution_count": 2,
   "id": "f36e6f91-80bc-4277-972f-c525473e08ca",
   "metadata": {},
   "outputs": [],
   "source": [
    "version = \"02\"\n",
    "files = [\n",
    "    #Path(\"input/comp.parquet\"),\n",
    "    Path(\"input/persuade2.parquet\"),\n",
    "]\n",
    "n_splits = 20"
   ]
  },
  {
   "cell_type": "code",
   "execution_count": 3,
   "id": "5a7ed42a-0fae-486d-a30f-f46ef8a29c7e",
   "metadata": {},
   "outputs": [
    {
     "name": "stdout",
     "output_type": "stream",
     "text": [
      "int16, min=-32768, max=32767\n"
     ]
    }
   ],
   "source": [
    "tim = scml.Timer()\n",
    "tim.start()\n",
    "os.environ[\"TOKENIZERS_PARALLELISM\"] = \"false\"\n",
    "percentiles=[.01, .05, .1, .2, .3, .4, .5, .6, .7, .8, .9, .95, .99]\n",
    "pd.set_option(\"max_info_columns\", 9999)\n",
    "pd.set_option(\"display.max_columns\", 9999)\n",
    "pd.set_option(\"display.max_rows\", 9999)\n",
    "pd.set_option('max_colwidth', 9999)\n",
    "tqdm.pandas()\n",
    "scml.seed_everything()\n",
    "info = np.iinfo(np.int16)\n",
    "print(f\"int16, min={info.min}, max={info.max}\")"
   ]
  },
  {
   "cell_type": "code",
   "execution_count": 4,
   "id": "8b15b519-ca2a-49f4-b7c1-659794aecf40",
   "metadata": {},
   "outputs": [
    {
     "name": "stdout",
     "output_type": "stream",
     "text": [
      "<class 'pandas.core.frame.DataFrame'>\n",
      "RangeIndex: 25996 entries, 0 to 25995\n",
      "Data columns (total 6 columns):\n",
      " #   Column        Non-Null Count  Dtype \n",
      "---  ------        --------------  ----- \n",
      " 0   essay_id      25996 non-null  object\n",
      " 1   score         25996 non-null  int8  \n",
      " 2   prompt_title  25996 non-null  object\n",
      " 3   prompt        25996 non-null  object\n",
      " 4   full_text     25996 non-null  object\n",
      " 5   source        25996 non-null  object\n",
      "dtypes: int8(1), object(5)\n",
      "memory usage: 1.0+ MB\n"
     ]
    }
   ],
   "source": [
    "cols = [\"essay_id\", \"score\", \"prompt_title\", \"prompt\", \"full_text\"]\n",
    "cmb = None\n",
    "for filepath in files:\n",
    "    df = pd.read_parquet(filepath)\n",
    "    df = df[cols]\n",
    "    df[\"source\"] = filepath.stem\n",
    "    if cmb is None:\n",
    "        cmb = df\n",
    "    else:\n",
    "        cmb = pd.concat([cmb, df], ignore_index=True)\n",
    "cmb.info()"
   ]
  },
  {
   "cell_type": "markdown",
   "id": "0f51d252-e544-497d-b137-671c210ff636",
   "metadata": {},
   "source": [
    "# Train/Test Split"
   ]
  },
  {
   "cell_type": "code",
   "execution_count": 5,
   "id": "499dcc4d-3ede-43ce-949e-ba850c2e524a",
   "metadata": {},
   "outputs": [
    {
     "name": "stdout",
     "output_type": "stream",
     "text": [
      "<class 'pandas.core.frame.DataFrame'>\n",
      "Index: 24370 entries, 0 to 25995\n",
      "Data columns (total 6 columns):\n",
      " #   Column        Non-Null Count  Dtype \n",
      "---  ------        --------------  ----- \n",
      " 0   essay_id      24370 non-null  object\n",
      " 1   score         24370 non-null  int8  \n",
      " 2   prompt_title  24370 non-null  object\n",
      " 3   prompt        24370 non-null  object\n",
      " 4   full_text     24370 non-null  object\n",
      " 5   source        24370 non-null  object\n",
      "dtypes: int8(1), object(5)\n",
      "memory usage: 1.1+ MB\n"
     ]
    }
   ],
   "source": [
    "splitter = StratifiedGroupKFold(n_splits=n_splits, shuffle=True)\n",
    "dummy = np.zeros(len(cmb))\n",
    "for ti, vi in splitter.split(dummy, y=cmb[\"score\"], groups=cmb[\"prompt_title\"]):\n",
    "    tra = cmb.iloc[ti]\n",
    "    val = cmb.iloc[vi]\n",
    "    break\n",
    "tra.info()"
   ]
  },
  {
   "cell_type": "code",
   "execution_count": 6,
   "id": "ea20a87c-fd91-48dd-9e2e-a2b99b47fba2",
   "metadata": {},
   "outputs": [
    {
     "name": "stdout",
     "output_type": "stream",
     "text": [
      "<class 'pandas.core.frame.DataFrame'>\n",
      "Index: 1626 entries, 15073 to 16698\n",
      "Data columns (total 6 columns):\n",
      " #   Column        Non-Null Count  Dtype \n",
      "---  ------        --------------  ----- \n",
      " 0   essay_id      1626 non-null   object\n",
      " 1   score         1626 non-null   int8  \n",
      " 2   prompt_title  1626 non-null   object\n",
      " 3   prompt        1626 non-null   object\n",
      " 4   full_text     1626 non-null   object\n",
      " 5   source        1626 non-null   object\n",
      "dtypes: int8(1), object(5)\n",
      "memory usage: 77.8+ KB\n"
     ]
    }
   ],
   "source": [
    "val.info()"
   ]
  },
  {
   "cell_type": "code",
   "execution_count": 7,
   "id": "b4590f24-8489-449e-a97e-7c6ec4e29574",
   "metadata": {},
   "outputs": [],
   "source": [
    "#pdx.value_counts(tra[\"str_level\"])"
   ]
  },
  {
   "cell_type": "code",
   "execution_count": 8,
   "id": "4276d048-1b53-4b5f-84bc-a43735263a04",
   "metadata": {},
   "outputs": [],
   "source": [
    "#pdx.value_counts(val[\"str_level\"])"
   ]
  },
  {
   "cell_type": "code",
   "execution_count": 9,
   "id": "eaca9b29-0868-4717-9a1e-f0c5686778bd",
   "metadata": {},
   "outputs": [],
   "source": [
    "tra.to_parquet(f\"output/tra_{version}.parquet\", index=False)\n",
    "val.to_parquet(f\"output/val_{version}.parquet\", index=False)\n",
    "assert tra.notna().all(axis=None)\n",
    "assert val.notna().all(axis=None)"
   ]
  },
  {
   "cell_type": "code",
   "execution_count": 10,
   "id": "9a998a20-17aa-4a30-8210-5cfbdcf16966",
   "metadata": {},
   "outputs": [
    {
     "name": "stdout",
     "output_type": "stream",
     "text": [
      "Total time taken 0:00:00.559410\n"
     ]
    }
   ],
   "source": [
    "tim.stop()\n",
    "print(f\"Total time taken {str(tim.elapsed)}\")"
   ]
  }
 ],
 "metadata": {
  "kernelspec": {
   "display_name": "Python 3 (ipykernel)",
   "language": "python",
   "name": "python3"
  },
  "language_info": {
   "codemirror_mode": {
    "name": "ipython",
    "version": 3
   },
   "file_extension": ".py",
   "mimetype": "text/x-python",
   "name": "python",
   "nbconvert_exporter": "python",
   "pygments_lexer": "ipython3",
   "version": "3.10.12"
  }
 },
 "nbformat": 4,
 "nbformat_minor": 5
}
