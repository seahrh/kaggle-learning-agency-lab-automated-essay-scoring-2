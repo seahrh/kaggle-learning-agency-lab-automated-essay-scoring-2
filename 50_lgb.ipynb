{
 "cells": [
  {
   "cell_type": "code",
   "execution_count": 1,
   "id": "ef554ca3-6d94-4735-932a-00d21e0d59c1",
   "metadata": {},
   "outputs": [],
   "source": [
    "import os\n",
    "import json\n",
    "import pathlib\n",
    "from datetime import datetime\n",
    "import pandas as pd\n",
    "import numpy as np\n",
    "import scipy\n",
    "import functools\n",
    "from sklearn.metrics import cohen_kappa_score, root_mean_squared_error\n",
    "import lightgbm as lgb\n",
    "from typing import List, Dict, Union, Tuple, NamedTuple\n",
    "from tqdm import tqdm\n",
    "import scml\n",
    "import matplotlib.pyplot as plt\n",
    "import lalaes2 as mylib"
   ]
  },
  {
   "cell_type": "code",
   "execution_count": 2,
   "id": "b1bd4e85-95c0-43ae-97f6-2d3e03dd6db8",
   "metadata": {},
   "outputs": [],
   "source": [
    "version = \"01\"\n",
    "num_boost_round = 1000\n",
    "stopping_rounds = 20\n",
    "feature_fraction = 1.0\n",
    "max_leaves = 32\n",
    "learning_rate = 0.1\n",
    "device = \"cpu\"\n",
    "with open(f\"input/features_{version}.json\") as f:\n",
    "    metadata = json.load(f)\n",
    "feature_names = metadata[\"feature_names\"]"
   ]
  },
  {
   "cell_type": "code",
   "execution_count": 3,
   "id": "3b735e90-7744-4347-8a27-491019daa4ca",
   "metadata": {},
   "outputs": [
    {
     "name": "stdout",
     "output_type": "stream",
     "text": [
      "int16, min=-32768, max=32767\n",
      "job_dir=models/lgb/20240617_121519\n"
     ]
    }
   ],
   "source": [
    "tim = scml.Timer()\n",
    "tim.start()\n",
    "os.environ[\"TOKENIZERS_PARALLELISM\"] = \"false\"\n",
    "percentiles=[.01, .05, .1, .2, .3, .4, .5, .6, .7, .8, .9, .95, .99]\n",
    "pd.set_option(\"max_info_columns\", 9999)\n",
    "pd.set_option(\"display.max_columns\", 9999)\n",
    "pd.set_option(\"display.max_rows\", 9999)\n",
    "pd.set_option('max_colwidth', 9999)\n",
    "tqdm.pandas()\n",
    "scml.seed_everything()\n",
    "info = np.iinfo(np.int16)\n",
    "print(f\"int16, min={info.min}, max={info.max}\")\n",
    "job_ts = datetime.now().strftime('%Y%m%d_%H%M%S')\n",
    "job_dir = pathlib.Path(\"models/lgb\") / job_ts\n",
    "job_dir.mkdir(parents=True, exist_ok=True)\n",
    "print(f\"job_dir={str(job_dir)}\")"
   ]
  },
  {
   "cell_type": "code",
   "execution_count": 4,
   "id": "4fcd990c-cdbb-4de5-8432-d3359fab696c",
   "metadata": {},
   "outputs": [
    {
     "name": "stdout",
     "output_type": "stream",
     "text": [
      "27 features\n",
      "['cw_digit_frac', 'cw_len', 'cw_letter_frac', 'cw_punc_frac', 'cw_repeat_char_frac', 'cw_repeat_substring_frac', 'cw_space_frac', 'cw_stopword_frac', 'cw_unique_word_frac', 'cw_upper_frac', 'deberta_base', 'ts_automated_readability_index', 'ts_coleman_liau_index', 'ts_dale_chall_readability_score', 'ts_flesch_kincaid_grade', 'ts_flesch_reading_ease', 'ts_gunning_fog', 'ts_lexicon_count', 'ts_linsear_write_formula', 'ts_mcalpine_eflaw', 'ts_sentence_count', 'ts_smog_index', 'ts_syllable_count', 'ts_syllables_per_sent', 'ts_syllables_per_word', 'ts_text_standard', 'ts_words_per_sent']\n"
     ]
    }
   ],
   "source": [
    "print(f\"{len(feature_names)} features\\n{feature_names}\")"
   ]
  },
  {
   "cell_type": "code",
   "execution_count": 6,
   "id": "9c6bceb6-865b-439c-874d-0071afe192e4",
   "metadata": {},
   "outputs": [
    {
     "name": "stdout",
     "output_type": "stream",
     "text": [
      "<class 'pandas.core.frame.DataFrame'>\n",
      "RangeIndex: 16441 entries, 0 to 16440\n",
      "Data columns (total 29 columns):\n",
      " #   Column                           Non-Null Count  Dtype  \n",
      "---  ------                           --------------  -----  \n",
      " 0   essay_id                         16441 non-null  object \n",
      " 1   score                            16441 non-null  int8   \n",
      " 2   deberta_base                     16441 non-null  float32\n",
      " 3   cw_len                           16441 non-null  float32\n",
      " 4   cw_digit_frac                    16441 non-null  float32\n",
      " 5   cw_letter_frac                   16441 non-null  float32\n",
      " 6   cw_space_frac                    16441 non-null  float32\n",
      " 7   cw_punc_frac                     16441 non-null  float32\n",
      " 8   cw_upper_frac                    16441 non-null  float32\n",
      " 9   cw_repeat_char_frac              16441 non-null  float32\n",
      " 10  cw_repeat_substring_frac         16441 non-null  float32\n",
      " 11  cw_unique_word_frac              16441 non-null  float32\n",
      " 12  cw_stopword_frac                 16441 non-null  float32\n",
      " 13  ts_syllable_count                16441 non-null  float32\n",
      " 14  ts_lexicon_count                 16441 non-null  float32\n",
      " 15  ts_sentence_count                16441 non-null  float32\n",
      " 16  ts_syllables_per_word            16441 non-null  float32\n",
      " 17  ts_syllables_per_sent            16441 non-null  float32\n",
      " 18  ts_words_per_sent                16441 non-null  float32\n",
      " 19  ts_flesch_reading_ease           16441 non-null  float32\n",
      " 20  ts_flesch_kincaid_grade          16441 non-null  float32\n",
      " 21  ts_gunning_fog                   16441 non-null  float32\n",
      " 22  ts_smog_index                    16441 non-null  float32\n",
      " 23  ts_automated_readability_index   16441 non-null  float32\n",
      " 24  ts_coleman_liau_index            16441 non-null  float32\n",
      " 25  ts_linsear_write_formula         16441 non-null  float32\n",
      " 26  ts_dale_chall_readability_score  16441 non-null  float32\n",
      " 27  ts_text_standard                 16441 non-null  float32\n",
      " 28  ts_mcalpine_eflaw                16441 non-null  float32\n",
      "dtypes: float32(27), int8(1), object(1)\n",
      "memory usage: 1.8+ MB\n"
     ]
    }
   ],
   "source": [
    "tra = pd.read_parquet(f\"input/mtra_{version}.parquet\")\n",
    "tra.info()"
   ]
  },
  {
   "cell_type": "code",
   "execution_count": 7,
   "id": "4cc3cc86-9e76-4892-84c4-da740056586d",
   "metadata": {},
   "outputs": [
    {
     "name": "stdout",
     "output_type": "stream",
     "text": [
      "<class 'pandas.core.frame.DataFrame'>\n",
      "RangeIndex: 866 entries, 0 to 865\n",
      "Data columns (total 29 columns):\n",
      " #   Column                           Non-Null Count  Dtype  \n",
      "---  ------                           --------------  -----  \n",
      " 0   essay_id                         866 non-null    object \n",
      " 1   score                            866 non-null    int8   \n",
      " 2   deberta_base                     866 non-null    float32\n",
      " 3   cw_len                           866 non-null    float32\n",
      " 4   cw_digit_frac                    866 non-null    float32\n",
      " 5   cw_letter_frac                   866 non-null    float32\n",
      " 6   cw_space_frac                    866 non-null    float32\n",
      " 7   cw_punc_frac                     866 non-null    float32\n",
      " 8   cw_upper_frac                    866 non-null    float32\n",
      " 9   cw_repeat_char_frac              866 non-null    float32\n",
      " 10  cw_repeat_substring_frac         866 non-null    float32\n",
      " 11  cw_unique_word_frac              866 non-null    float32\n",
      " 12  cw_stopword_frac                 866 non-null    float32\n",
      " 13  ts_syllable_count                866 non-null    float32\n",
      " 14  ts_lexicon_count                 866 non-null    float32\n",
      " 15  ts_sentence_count                866 non-null    float32\n",
      " 16  ts_syllables_per_word            866 non-null    float32\n",
      " 17  ts_syllables_per_sent            866 non-null    float32\n",
      " 18  ts_words_per_sent                866 non-null    float32\n",
      " 19  ts_flesch_reading_ease           866 non-null    float32\n",
      " 20  ts_flesch_kincaid_grade          866 non-null    float32\n",
      " 21  ts_gunning_fog                   866 non-null    float32\n",
      " 22  ts_smog_index                    866 non-null    float32\n",
      " 23  ts_automated_readability_index   866 non-null    float32\n",
      " 24  ts_coleman_liau_index            866 non-null    float32\n",
      " 25  ts_linsear_write_formula         866 non-null    float32\n",
      " 26  ts_dale_chall_readability_score  866 non-null    float32\n",
      " 27  ts_text_standard                 866 non-null    float32\n",
      " 28  ts_mcalpine_eflaw                866 non-null    float32\n",
      "dtypes: float32(27), int8(1), object(1)\n",
      "memory usage: 99.1+ KB\n"
     ]
    }
   ],
   "source": [
    "val = pd.read_parquet(f\"input/mval_{version}.parquet\")\n",
    "val.info()"
   ]
  },
  {
   "cell_type": "code",
   "execution_count": 8,
   "id": "147e5859-00ac-48cb-b4be-fff19c9ce93f",
   "metadata": {},
   "outputs": [
    {
     "name": "stdout",
     "output_type": "stream",
     "text": [
      "[LightGBM] [Info] Total Bins 3429\n",
      "[LightGBM] [Info] Number of data points in the train set: 16441, number of used features: 15\n",
      "[LightGBM] [Info] Start training from score 2.948422\n",
      "Training until validation scores don't improve for 20 rounds\n",
      "Early stopping, best iteration is:\n",
      "[45]\ttraining's rmse: 0.558743\tvalid_1's rmse: 0.564789\n",
      "Saved models/lgb/20240617_121519/lgb.txt\n"
     ]
    }
   ],
   "source": [
    "tra_ds = lgb.Dataset(tra[feature_names], label=tra[\"score\"])\n",
    "val_ds = lgb.Dataset(val[feature_names], label=val[\"score\"])\n",
    "eval_result = {}\n",
    "b = lgb.train(\n",
    "    {\n",
    "        \"objective\": \"rmse\",\n",
    "        \"feature_fraction\": feature_fraction,\n",
    "        \"bagging_fraction\": 1.0,\n",
    "        \"learning_rate\": learning_rate,\n",
    "        \"min_data_in_leaf\": 20,\n",
    "        \"max_leaves\": max_leaves,\n",
    "        \"metric\": [\"rmse\"],\n",
    "        \"is_training_metric\": True,\n",
    "        \"force_col_wise\": True,  # used only with cpu device type\n",
    "        \"verbose\": 1,  # -1 to mute\n",
    "        \"device\": device,\n",
    "        # small number of bins may reduce training accuracy but may increase general power (deal with over-fitting)\n",
    "        # recommended to use the smaller max_bin (e.g. 63) to get the better speed up\n",
    "        \"max_bin\": 255,\n",
    "    },\n",
    "    tra_ds,\n",
    "    valid_sets=[tra_ds, val_ds],\n",
    "    num_boost_round=num_boost_round,\n",
    "    callbacks=[\n",
    "        lgb.record_evaluation(eval_result=eval_result),\n",
    "        lgb.early_stopping(stopping_rounds=stopping_rounds, verbose=True),\n",
    "    ],\n",
    ")\n",
    "fp = job_dir / \"lgb.txt\"\n",
    "b.save_model(str(fp))\n",
    "print(f\"Saved {fp}\")"
   ]
  },
  {
   "cell_type": "markdown",
   "id": "aa21508d-7a76-4ad2-82e8-a9dda4ede026",
   "metadata": {},
   "source": [
    "# Loss Curves"
   ]
  },
  {
   "cell_type": "code",
   "execution_count": 9,
   "id": "d45c7594-a0c8-47f8-aaa7-f487a55ef798",
   "metadata": {},
   "outputs": [
    {
     "data": {
      "image/png": "[encoded data removed]",
      "text/plain": [
       "<Figure size 500x300 with 1 Axes>"
      ]
     },
     "metadata": {},
     "output_type": "display_data"
    }
   ],
   "source": [
    "lgb.plot_metric(\n",
    "    eval_result, \n",
    "    metric=\"rmse\", \n",
    "    figsize=(5, 3),\n",
    "    title=\"Train vs Validation Loss\",\n",
    ")\n",
    "plt.show()"
   ]
  },
  {
   "cell_type": "markdown",
   "id": "410eff7c-b9d9-45bb-aa77-26b489d89525",
   "metadata": {},
   "source": [
    "# Evaluation and Best Thresholds\n",
    "\n",
    "Competition Metric: Quadratic Weighted Kappa"
   ]
  },
  {
   "cell_type": "code",
   "execution_count": 10,
   "id": "aa5c7fb5-d66b-4a9f-b7e0-9bccd02cee6b",
   "metadata": {},
   "outputs": [
    {
     "name": "stdout",
     "output_type": "stream",
     "text": [
      "CPU times: user 135 ms, sys: 19.8 ms, total: 154 ms\n",
      "Wall time: 13.7 ms\n"
     ]
    }
   ],
   "source": [
    "%%time\n",
    "logits = b.predict(val[feature_names])"
   ]
  },
  {
   "cell_type": "code",
   "execution_count": 11,
   "id": "09b79483-26bf-42b2-bd1b-50ca65080464",
   "metadata": {},
   "outputs": [
    {
     "name": "stdout",
     "output_type": "stream",
     "text": [
      "QWK=0.8014\n",
      "RMSE=0.5648\n",
      "thresholds=[1.5679287510412498, 2.5150679100687494, 3.4973218989187504, 4.4458222753237475, 5.526982087151248]\n"
     ]
    }
   ],
   "source": [
    "y_true = val[\"score\"].tolist()\n",
    "thresholds = mylib.optimize_thresholds(y_true=y_true, logits=logits)\n",
    "qwk = mylib.qwk_metric(y_true=y_true, logits=logits, thresholds=thresholds)\n",
    "rmse = root_mean_squared_error(y_true, logits)\n",
    "print(f\"QWK={qwk:.4f}\\nRMSE={rmse:.4f}\\nthresholds={thresholds}\")"
   ]
  },
  {
   "cell_type": "markdown",
   "id": "7b72d7ab-f13a-418e-9dac-1855985bae39",
   "metadata": {},
   "source": [
    "# Feature Importance"
   ]
  },
  {
   "cell_type": "code",
   "execution_count": 12,
   "id": "e840613b-8a8a-4f18-83cd-04f75fd538ed",
   "metadata": {},
   "outputs": [
    {
     "name": "stdout",
     "output_type": "stream",
     "text": [
      "\n",
      "Saved models/lgb/20240617_121519/features.csv\n"
     ]
    },
    {
     "data": {
      "text/html": [
       "<div>\n",
       "<style scoped>\n",
       "    .dataframe tbody tr th:only-of-type {\n",
       "        vertical-align: middle;\n",
       "    }\n",
       "\n",
       "    .dataframe tbody tr th {\n",
       "        vertical-align: top;\n",
       "    }\n",
       "\n",
       "    .dataframe thead th {\n",
       "        text-align: right;\n",
       "    }\n",
       "</style>\n",
       "<table border=\"1\" class=\"dataframe\">\n",
       "  <thead>\n",
       "    <tr style=\"text-align: right;\">\n",
       "      <th></th>\n",
       "      <th>0</th>\n",
       "      <th>1</th>\n",
       "      <th>2</th>\n",
       "      <th>3</th>\n",
       "      <th>4</th>\n",
       "      <th>5</th>\n",
       "      <th>6</th>\n",
       "      <th>7</th>\n",
       "      <th>8</th>\n",
       "      <th>9</th>\n",
       "      <th>10</th>\n",
       "      <th>11</th>\n",
       "      <th>12</th>\n",
       "      <th>13</th>\n",
       "      <th>14</th>\n",
       "    </tr>\n",
       "  </thead>\n",
       "  <tbody>\n",
       "    <tr>\n",
       "      <th>importance</th>\n",
       "      <td>355</td>\n",
       "      <td>143</td>\n",
       "      <td>125</td>\n",
       "      <td>112</td>\n",
       "      <td>100</td>\n",
       "      <td>77</td>\n",
       "      <td>72</td>\n",
       "      <td>72</td>\n",
       "      <td>70</td>\n",
       "      <td>67</td>\n",
       "      <td>63</td>\n",
       "      <td>40</td>\n",
       "      <td>38</td>\n",
       "      <td>31</td>\n",
       "      <td>30</td>\n",
       "    </tr>\n",
       "    <tr>\n",
       "      <th>feature</th>\n",
       "      <td>deberta_base</td>\n",
       "      <td>ts_dale_chall_readability_score</td>\n",
       "      <td>cw_stopword_frac</td>\n",
       "      <td>ts_linsear_write_formula</td>\n",
       "      <td>ts_syllables_per_word</td>\n",
       "      <td>ts_coleman_liau_index</td>\n",
       "      <td>ts_smog_index</td>\n",
       "      <td>ts_words_per_sent</td>\n",
       "      <td>ts_gunning_fog</td>\n",
       "      <td>ts_mcalpine_eflaw</td>\n",
       "      <td>ts_syllables_per_sent</td>\n",
       "      <td>ts_flesch_reading_ease</td>\n",
       "      <td>ts_flesch_kincaid_grade</td>\n",
       "      <td>ts_text_standard</td>\n",
       "      <td>ts_automated_readability_index</td>\n",
       "    </tr>\n",
       "  </tbody>\n",
       "</table>\n",
       "</div>"
      ],
      "text/plain": [
       "                      0                                1                 2   \\\n",
       "importance           355                              143               125   \n",
       "feature     deberta_base  ts_dale_chall_readability_score  cw_stopword_frac   \n",
       "\n",
       "                                  3                      4   \\\n",
       "importance                       112                    100   \n",
       "feature     ts_linsear_write_formula  ts_syllables_per_word   \n",
       "\n",
       "                               5              6                  7   \\\n",
       "importance                     77             72                 72   \n",
       "feature     ts_coleman_liau_index  ts_smog_index  ts_words_per_sent   \n",
       "\n",
       "                        8                  9                      10  \\\n",
       "importance              70                 67                     63   \n",
       "feature     ts_gunning_fog  ts_mcalpine_eflaw  ts_syllables_per_sent   \n",
       "\n",
       "                                11                       12                13  \\\n",
       "importance                      40                       38                31   \n",
       "feature     ts_flesch_reading_ease  ts_flesch_kincaid_grade  ts_text_standard   \n",
       "\n",
       "                                        14  \n",
       "importance                              30  \n",
       "feature     ts_automated_readability_index  "
      ]
     },
     "metadata": {},
     "output_type": "display_data"
    }
   ],
   "source": [
    "scores = b.feature_importance().tolist()\n",
    "rows = []\n",
    "for i in range(len(scores)):\n",
    "    rows.append({'importance': scores[i], 'feature': feature_names[i]})\n",
    "df = pd.DataFrame.from_records(rows)\n",
    "df = df.sort_values('importance', ascending=False, ignore_index=True)\n",
    "_path = job_dir / \"features.csv\"\n",
    "df.to_csv(_path, index=True)\n",
    "print(f\"\\nSaved {_path}\")\n",
    "display(df.T.head())"
   ]
  },
  {
   "cell_type": "code",
   "execution_count": 13,
   "id": "75537c74-2727-407c-86cb-a3453e57cfed",
   "metadata": {},
   "outputs": [
    {
     "name": "stdout",
     "output_type": "stream",
     "text": [
      "Total time taken 0:01:37.436039\n"
     ]
    }
   ],
   "source": [
    "tim.stop()\n",
    "print(f\"Total time taken {str(tim.elapsed)}\")"
   ]
  }
 ],
 "metadata": {
  "kernelspec": {
   "display_name": "Python 3 (ipykernel)",
   "language": "python",
   "name": "python3"
  },
  "language_info": {
   "codemirror_mode": {
    "name": "ipython",
    "version": 3
   },
   "file_extension": ".py",
   "mimetype": "text/x-python",
   "name": "python",
   "nbconvert_exporter": "python",
   "pygments_lexer": "ipython3",
   "version": "3.10.12"
  }
 },
 "nbformat": 4,
 "nbformat_minor": 5
}
