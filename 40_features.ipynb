{
 "cells": [
  {
   "cell_type": "code",
   "execution_count": 1,
   "id": "332fead7-d569-4430-b51c-1c24bd0a5d46",
   "metadata": {},
   "outputs": [],
   "source": [
    "from pathlib import Path\n",
    "import os\n",
    "import sys\n",
    "import gc\n",
    "import shutil\n",
    "import json\n",
    "import math\n",
    "import uuid\n",
    "from collections import defaultdict\n",
    "import numpy as np\n",
    "import pandas as pd\n",
    "from sklearn.model_selection import StratifiedKFold\n",
    "from tqdm import tqdm\n",
    "import matplotlib.pyplot as plt\n",
    "from typing import Dict, List, Tuple, NamedTuple, Callable, Iterable, Set, Optional, Any\n",
    "import textstat\n",
    "import scml\n",
    "import lalaes2 as mylib"
   ]
  },
  {
   "cell_type": "code",
   "execution_count": 2,
   "id": "94239019-008f-4d71-9213-e49fc9ec5d1b",
   "metadata": {},
   "outputs": [],
   "source": [
    "version = \"v01\"\n",
    "n_splits = 5\n",
    "features = []\n",
    "text_col = \"clean_text\""
   ]
  },
  {
   "cell_type": "code",
   "execution_count": 3,
   "id": "b04098da-12ed-416d-8c15-6f172b877258",
   "metadata": {},
   "outputs": [],
   "source": [
    "tim = scml.Timer()\n",
    "tim.start()\n",
    "percentiles=[.01, .05, .1, .2, .3, .4, .5, .6, .7, .8, .9, .95, .99]\n",
    "os.environ[\"TOKENIZERS_PARALLELISM\"] = \"false\"\n",
    "pd.set_option(\"max_info_columns\", 9999)\n",
    "pd.set_option(\"display.max_columns\", 9999)\n",
    "pd.set_option(\"display.max_rows\", 9999)\n",
    "pd.set_option('max_colwidth', 9999)\n",
    "tqdm.pandas()\n",
    "scml.seed_everything()"
   ]
  },
  {
   "cell_type": "code",
   "execution_count": 4,
   "id": "6ede0ad9-73f2-4d07-924b-bf04842f55a1",
   "metadata": {},
   "outputs": [
    {
     "name": "stdout",
     "output_type": "stream",
     "text": [
      "<class 'pandas.core.frame.DataFrame'>\n",
      "RangeIndex: 866 entries, 0 to 865\n",
      "Data columns (total 3 columns):\n",
      " #   Column      Non-Null Count  Dtype \n",
      "---  ------      --------------  ----- \n",
      " 0   essay_id    866 non-null    object\n",
      " 1   score       866 non-null    int8  \n",
      " 2   clean_text  866 non-null    object\n",
      "dtypes: int8(1), object(2)\n",
      "memory usage: 14.5+ KB\n"
     ]
    }
   ],
   "source": [
    "df = pd.read_parquet(f\"input/val_{version}.parquet\")\n",
    "df = df.drop(columns=[\"source\", \"str_level\"])\n",
    "df.info()"
   ]
  },
  {
   "cell_type": "markdown",
   "id": "d245483f-34d6-4cc5-bbd2-f5e1d0ba406b",
   "metadata": {},
   "source": [
    "# Character & Word-level Features"
   ]
  },
  {
   "cell_type": "code",
   "execution_count": 5,
   "id": "be553850-d849-4f08-b817-740ccdb21893",
   "metadata": {},
   "outputs": [
    {
     "name": "stdout",
     "output_type": "stream",
     "text": [
      "CPU times: user 1 ms, sys: 689 µs, total: 1.69 ms\n",
      "Wall time: 1.58 ms\n"
     ]
    }
   ],
   "source": [
    "%%time\n",
    "col = \"cw_len\"\n",
    "df[col] = df[text_col].str.len()\n",
    "features.append(col)"
   ]
  },
  {
   "cell_type": "code",
   "execution_count": 6,
   "id": "6c370b3b-5bd0-410a-99db-d7f2b62b8679",
   "metadata": {},
   "outputs": [
    {
     "name": "stdout",
     "output_type": "stream",
     "text": [
      "cw_digit_frac\n"
     ]
    },
    {
     "name": "stderr",
     "output_type": "stream",
     "text": [
      "100%|██████████████████████████████████████████████████████████████████████████████████████████████████████████████████████████████████████████████████| 866/866 [00:00<00:00, 14761.41it/s]\n"
     ]
    },
    {
     "name": "stdout",
     "output_type": "stream",
     "text": [
      "cw_letter_frac\n"
     ]
    },
    {
     "name": "stderr",
     "output_type": "stream",
     "text": [
      "100%|██████████████████████████████████████████████████████████████████████████████████████████████████████████████████████████████████████████████████| 866/866 [00:00<00:00, 14156.53it/s]\n"
     ]
    },
    {
     "name": "stdout",
     "output_type": "stream",
     "text": [
      "cw_space_frac\n"
     ]
    },
    {
     "name": "stderr",
     "output_type": "stream",
     "text": [
      "100%|██████████████████████████████████████████████████████████████████████████████████████████████████████████████████████████████████████████████████| 866/866 [00:00<00:00, 14716.62it/s]\n"
     ]
    },
    {
     "name": "stdout",
     "output_type": "stream",
     "text": [
      "cw_punc_frac\n"
     ]
    },
    {
     "name": "stderr",
     "output_type": "stream",
     "text": [
      "100%|██████████████████████████████████████████████████████████████████████████████████████████████████████████████████████████████████████████████████| 866/866 [00:00<00:00, 12104.41it/s]\n"
     ]
    },
    {
     "name": "stdout",
     "output_type": "stream",
     "text": [
      "cw_upper_frac\n"
     ]
    },
    {
     "name": "stderr",
     "output_type": "stream",
     "text": [
      "100%|██████████████████████████████████████████████████████████████████████████████████████████████████████████████████████████████████████████████████| 866/866 [00:00<00:00, 14455.98it/s]\n"
     ]
    },
    {
     "name": "stdout",
     "output_type": "stream",
     "text": [
      "cw_repeat_char_frac\n"
     ]
    },
    {
     "name": "stderr",
     "output_type": "stream",
     "text": [
      "100%|███████████████████████████████████████████████████████████████████████████████████████████████████████████████████████████████████████████████████| 866/866 [00:00<00:00, 6185.34it/s]\n"
     ]
    },
    {
     "name": "stdout",
     "output_type": "stream",
     "text": [
      "cw_repeat_substring_frac\n"
     ]
    },
    {
     "name": "stderr",
     "output_type": "stream",
     "text": [
      "100%|█████████████████████████████████████████████████████████████████████████████████████████████████████████████████████████████████████████████████████| 866/866 [00:37<00:00, 23.14it/s]\n"
     ]
    },
    {
     "name": "stdout",
     "output_type": "stream",
     "text": [
      "cw_unique_word_frac\n"
     ]
    },
    {
     "name": "stderr",
     "output_type": "stream",
     "text": [
      "100%|██████████████████████████████████████████████████████████████████████████████████████████████████████████████████████████████████████████████████| 866/866 [00:00<00:00, 30884.26it/s]\n"
     ]
    },
    {
     "name": "stdout",
     "output_type": "stream",
     "text": [
      "cw_stopword_frac\n"
     ]
    },
    {
     "name": "stderr",
     "output_type": "stream",
     "text": [
      "100%|██████████████████████████████████████████████████████████████████████████████████████████████████████████████████████████████████████████████████| 866/866 [00:00<00:00, 28978.85it/s]\n"
     ]
    }
   ],
   "source": [
    "def digit_frac(row) -> float:\n",
    "    return mylib.digit_frac(row[text_col])\n",
    "\n",
    "\n",
    "def letter_frac(row) -> float:\n",
    "    return mylib.letter_frac(row[text_col])\n",
    "\n",
    "\n",
    "def space_frac(row) -> float:\n",
    "    return mylib.space_frac(row[text_col])\n",
    "\n",
    "\n",
    "def punc_frac(row) -> float:\n",
    "    return mylib.punc_frac(row[text_col])\n",
    "\n",
    "\n",
    "def upper_frac(row) -> float:\n",
    "    return mylib.upper_frac(row[text_col])\n",
    "\n",
    "\n",
    "def repeat_char_frac(row) -> float:\n",
    "    return mylib.repeat_char_frac(row[text_col])\n",
    "\n",
    "\n",
    "def repeat_substring_frac(row) -> float:\n",
    "    return mylib.repeat_substring_frac(row[text_col])\n",
    "\n",
    "\n",
    "def unique_word_frac(row) -> float:\n",
    "    return mylib.unique_word_frac(row[text_col])\n",
    "\n",
    "\n",
    "sf = mylib.StopwordFraction()\n",
    "\n",
    "\n",
    "def stopword_frac(row) -> float:\n",
    "    return sf(row[text_col])\n",
    "\n",
    "\n",
    "\n",
    "cw_fns: List[Tuple[str, Callable]] = [\n",
    "    (\"cw_digit_frac\", digit_frac),\n",
    "    (\"cw_letter_frac\", letter_frac),\n",
    "    (\"cw_space_frac\", space_frac),\n",
    "    (\"cw_punc_frac\", punc_frac),\n",
    "    (\"cw_upper_frac\", upper_frac),\n",
    "    (\"cw_repeat_char_frac\", repeat_char_frac),\n",
    "    (\"cw_repeat_substring_frac\", repeat_substring_frac),\n",
    "    (\"cw_unique_word_frac\", unique_word_frac),\n",
    "    (\"cw_stopword_frac\", stopword_frac),\n",
    "]   \n",
    "for col, fn in cw_fns:\n",
    "    print(col)\n",
    "    df[col] = df.progress_apply(fn, axis=1)\n",
    "    features.append(col)\n",
    "df[features] = df[features].astype(np.float32)"
   ]
  },
  {
   "cell_type": "markdown",
   "id": "9d09695b-2de8-41b0-8ba5-d236e06f7f3d",
   "metadata": {},
   "source": [
    "# Textstat Features"
   ]
  },
  {
   "cell_type": "code",
   "execution_count": 7,
   "id": "b4edd078-7f7b-4189-beb0-35d7fa17e85a",
   "metadata": {},
   "outputs": [
    {
     "name": "stdout",
     "output_type": "stream",
     "text": [
      "ts_syllable_count\n"
     ]
    },
    {
     "name": "stderr",
     "output_type": "stream",
     "text": [
      "100%|███████████████████████████████████████████████████████████████████████████████████████████████████████████████████████████████████████████████████| 866/866 [00:00<00:00, 2444.05it/s]\n"
     ]
    },
    {
     "name": "stdout",
     "output_type": "stream",
     "text": [
      "ts_lexicon_count\n"
     ]
    },
    {
     "name": "stderr",
     "output_type": "stream",
     "text": [
      "100%|██████████████████████████████████████████████████████████████████████████████████████████████████████████████████████████████████████████████████| 866/866 [00:00<00:00, 28604.58it/s]\n"
     ]
    },
    {
     "name": "stdout",
     "output_type": "stream",
     "text": [
      "ts_sentence_count\n"
     ]
    },
    {
     "name": "stderr",
     "output_type": "stream",
     "text": [
      "100%|██████████████████████████████████████████████████████████████████████████████████████████████████████████████████████████████████████████████████| 866/866 [00:00<00:00, 17576.73it/s]\n"
     ]
    },
    {
     "name": "stdout",
     "output_type": "stream",
     "text": [
      "ts_syllables_per_word\n"
     ]
    },
    {
     "name": "stderr",
     "output_type": "stream",
     "text": [
      "100%|█████████████████████████████████████████████████████████████████████████████████████████████████████████████████████████████████████████████████| 866/866 [00:00<00:00, 208284.15it/s]\n"
     ]
    },
    {
     "name": "stdout",
     "output_type": "stream",
     "text": [
      "ts_syllables_per_sent\n"
     ]
    },
    {
     "name": "stderr",
     "output_type": "stream",
     "text": [
      "100%|█████████████████████████████████████████████████████████████████████████████████████████████████████████████████████████████████████████████████| 866/866 [00:00<00:00, 192183.45it/s]\n"
     ]
    },
    {
     "name": "stdout",
     "output_type": "stream",
     "text": [
      "ts_words_per_sent\n"
     ]
    },
    {
     "name": "stderr",
     "output_type": "stream",
     "text": [
      "100%|█████████████████████████████████████████████████████████████████████████████████████████████████████████████████████████████████████████████████| 866/866 [00:00<00:00, 169060.61it/s]\n"
     ]
    },
    {
     "name": "stdout",
     "output_type": "stream",
     "text": [
      "ts_flesch_reading_ease\n"
     ]
    },
    {
     "name": "stderr",
     "output_type": "stream",
     "text": [
      "100%|███████████████████████████████████████████████████████████████████████████████████████████████████████████████████████████████████████████████████| 866/866 [00:00<00:00, 3520.02it/s]\n"
     ]
    },
    {
     "name": "stdout",
     "output_type": "stream",
     "text": [
      "ts_flesch_kincaid_grade\n"
     ]
    },
    {
     "name": "stderr",
     "output_type": "stream",
     "text": [
      "100%|███████████████████████████████████████████████████████████████████████████████████████████████████████████████████████████████████████████████████| 866/866 [00:00<00:00, 3699.26it/s]\n"
     ]
    },
    {
     "name": "stdout",
     "output_type": "stream",
     "text": [
      "ts_gunning_fog\n"
     ]
    },
    {
     "name": "stderr",
     "output_type": "stream",
     "text": [
      "100%|███████████████████████████████████████████████████████████████████████████████████████████████████████████████████████████████████████████████████| 866/866 [00:00<00:00, 2890.59it/s]\n"
     ]
    },
    {
     "name": "stdout",
     "output_type": "stream",
     "text": [
      "ts_smog_index\n"
     ]
    },
    {
     "name": "stderr",
     "output_type": "stream",
     "text": [
      "100%|███████████████████████████████████████████████████████████████████████████████████████████████████████████████████████████████████████████████████| 866/866 [00:00<00:00, 2722.32it/s]\n"
     ]
    },
    {
     "name": "stdout",
     "output_type": "stream",
     "text": [
      "ts_automated_readability_index\n"
     ]
    },
    {
     "name": "stderr",
     "output_type": "stream",
     "text": [
      "100%|███████████████████████████████████████████████████████████████████████████████████████████████████████████████████████████████████████████████████| 866/866 [00:00<00:00, 7711.43it/s]\n"
     ]
    },
    {
     "name": "stdout",
     "output_type": "stream",
     "text": [
      "ts_coleman_liau_index\n"
     ]
    },
    {
     "name": "stderr",
     "output_type": "stream",
     "text": [
      "100%|███████████████████████████████████████████████████████████████████████████████████████████████████████████████████████████████████████████████████| 866/866 [00:00<00:00, 7385.09it/s]\n"
     ]
    },
    {
     "name": "stdout",
     "output_type": "stream",
     "text": [
      "ts_linsear_write_formula\n"
     ]
    },
    {
     "name": "stderr",
     "output_type": "stream",
     "text": [
      "100%|███████████████████████████████████████████████████████████████████████████████████████████████████████████████████████████████████████████████████| 866/866 [00:00<00:00, 8374.80it/s]\n"
     ]
    },
    {
     "name": "stdout",
     "output_type": "stream",
     "text": [
      "ts_dale_chall_readability_score\n"
     ]
    },
    {
     "name": "stderr",
     "output_type": "stream",
     "text": [
      "100%|███████████████████████████████████████████████████████████████████████████████████████████████████████████████████████████████████████████████████| 866/866 [00:00<00:00, 2815.11it/s]\n"
     ]
    },
    {
     "name": "stdout",
     "output_type": "stream",
     "text": [
      "ts_text_standard\n"
     ]
    },
    {
     "name": "stderr",
     "output_type": "stream",
     "text": [
      "100%|████████████████████████████████████████████████████████████████████████████████████████████████████████████████████████████████████████████████████| 866/866 [00:01<00:00, 818.89it/s]\n"
     ]
    },
    {
     "name": "stdout",
     "output_type": "stream",
     "text": [
      "ts_mcalpine_eflaw\n"
     ]
    },
    {
     "name": "stderr",
     "output_type": "stream",
     "text": [
      "100%|███████████████████████████████████████████████████████████████████████████████████████████████████████████████████████████████████████████████████| 866/866 [00:00<00:00, 9066.61it/s]\n"
     ]
    }
   ],
   "source": [
    "def syllable_count(row) -> int:\n",
    "    return textstat.syllable_count(row[text_col])\n",
    "\n",
    "\n",
    "def lexicon_count(row) -> int:\n",
    "    return textstat.lexicon_count(row[text_col])\n",
    "\n",
    "\n",
    "def sentence_count(row) -> int:\n",
    "    return textstat.sentence_count(row[text_col])\n",
    "\n",
    "\n",
    "def syllables_per_word(row) -> float:\n",
    "    return row[\"ts_syllable_count\"] / (row[\"ts_lexicon_count\"] + 1)\n",
    "\n",
    "\n",
    "def syllables_per_sent(row) -> float:\n",
    "    return row[\"ts_syllable_count\"] / (row[\"ts_sentence_count\"] + 1)\n",
    "\n",
    "\n",
    "def words_per_sent(row) -> float:\n",
    "    return row[\"ts_lexicon_count\"] / (row[\"ts_sentence_count\"] + 1)\n",
    "\n",
    "\n",
    "def flesch_reading_ease(row) -> float:\n",
    "    return textstat.flesch_reading_ease(row[text_col])\n",
    "\n",
    "\n",
    "def flesch_kincaid_grade(row) -> float:\n",
    "    return textstat.flesch_kincaid_grade(row[text_col])\n",
    "\n",
    "\n",
    "def gunning_fog(row) -> float:\n",
    "    return textstat.gunning_fog(row[text_col])\n",
    "\n",
    "\n",
    "def smog_index(row) -> float:\n",
    "    return textstat.smog_index(row[text_col])\n",
    "\n",
    "\n",
    "def automated_readability_index(row) -> float:\n",
    "    return textstat.automated_readability_index(row[text_col])\n",
    "\n",
    "\n",
    "def coleman_liau_index(row) -> float:\n",
    "    return textstat.coleman_liau_index(row[text_col])\n",
    "\n",
    "\n",
    "def linsear_write_formula(row) -> float:\n",
    "    return textstat.linsear_write_formula(row[text_col])\n",
    "\n",
    "\n",
    "def dale_chall_readability_score(row) -> float:\n",
    "    return textstat.dale_chall_readability_score(row[text_col])\n",
    "\n",
    "\n",
    "def text_standard(row) -> float:\n",
    "    return textstat.text_standard(row[text_col], float_output=True)\n",
    "\n",
    "\n",
    "def mcalpine_eflaw(row) -> float:\n",
    "    return textstat.mcalpine_eflaw(row[text_col])\n",
    "\n",
    "\n",
    "textstat_fns: List[Tuple[str, Callable]] = [\n",
    "    (\"ts_syllable_count\", syllable_count),\n",
    "    (\"ts_lexicon_count\", lexicon_count),\n",
    "    (\"ts_sentence_count\", sentence_count),\n",
    "    (\"ts_syllables_per_word\", syllables_per_word),\n",
    "    (\"ts_syllables_per_sent\", syllables_per_sent),\n",
    "    (\"ts_words_per_sent\", words_per_sent),\n",
    "    (\"ts_flesch_reading_ease\", flesch_reading_ease),\n",
    "    (\"ts_flesch_kincaid_grade\", flesch_kincaid_grade),\n",
    "    (\"ts_gunning_fog\", gunning_fog),\n",
    "    (\"ts_smog_index\", smog_index),\n",
    "    (\"ts_automated_readability_index\", automated_readability_index),\n",
    "    (\"ts_coleman_liau_index\", coleman_liau_index),\n",
    "    (\"ts_linsear_write_formula\", linsear_write_formula),\n",
    "    (\"ts_dale_chall_readability_score\", dale_chall_readability_score),\n",
    "    (\"ts_text_standard\", text_standard),\n",
    "    (\"ts_mcalpine_eflaw\", mcalpine_eflaw),\n",
    "]    \n",
    "for col, fn in textstat_fns:\n",
    "    print(col)\n",
    "    df[col] = df.progress_apply(fn, axis=1)\n",
    "    features.append(col)\n",
    "df[features] = df[features].astype(np.float32)"
   ]
  },
  {
   "cell_type": "markdown",
   "id": "6ead88db-6794-4e8f-b68e-22d9db8fe88e",
   "metadata": {},
   "source": [
    "# Review Data"
   ]
  },
  {
   "cell_type": "code",
   "execution_count": 13,
   "id": "912007b0-01f9-4d51-bbff-c63e6f785de4",
   "metadata": {},
   "outputs": [
    {
     "name": "stdout",
     "output_type": "stream",
     "text": [
      "<class 'pandas.core.frame.DataFrame'>\n",
      "RangeIndex: 866 entries, 0 to 865\n",
      "Data columns (total 28 columns):\n",
      " #   Column                           Non-Null Count  Dtype  \n",
      "---  ------                           --------------  -----  \n",
      " 0   essay_id                         866 non-null    object \n",
      " 1   score                            866 non-null    int8   \n",
      " 2   cw_len                           866 non-null    float32\n",
      " 3   cw_digit_frac                    866 non-null    float32\n",
      " 4   cw_letter_frac                   866 non-null    float32\n",
      " 5   cw_space_frac                    866 non-null    float32\n",
      " 6   cw_punc_frac                     866 non-null    float32\n",
      " 7   cw_upper_frac                    866 non-null    float32\n",
      " 8   cw_repeat_char_frac              866 non-null    float32\n",
      " 9   cw_repeat_substring_frac         866 non-null    float32\n",
      " 10  cw_unique_word_frac              866 non-null    float32\n",
      " 11  cw_stopword_frac                 866 non-null    float32\n",
      " 12  ts_syllable_count                866 non-null    float32\n",
      " 13  ts_lexicon_count                 866 non-null    float32\n",
      " 14  ts_sentence_count                866 non-null    float32\n",
      " 15  ts_syllables_per_word            866 non-null    float32\n",
      " 16  ts_syllables_per_sent            866 non-null    float32\n",
      " 17  ts_words_per_sent                866 non-null    float32\n",
      " 18  ts_flesch_reading_ease           866 non-null    float32\n",
      " 19  ts_flesch_kincaid_grade          866 non-null    float32\n",
      " 20  ts_gunning_fog                   866 non-null    float32\n",
      " 21  ts_smog_index                    866 non-null    float32\n",
      " 22  ts_automated_readability_index   866 non-null    float32\n",
      " 23  ts_coleman_liau_index            866 non-null    float32\n",
      " 24  ts_linsear_write_formula         866 non-null    float32\n",
      " 25  ts_dale_chall_readability_score  866 non-null    float32\n",
      " 26  ts_text_standard                 866 non-null    float32\n",
      " 27  ts_mcalpine_eflaw                866 non-null    float32\n",
      "dtypes: float32(26), int8(1), object(1)\n",
      "memory usage: 95.7+ KB\n"
     ]
    }
   ],
   "source": [
    "df[features] = df[features].astype(np.float32)\n",
    "df = df.drop(columns=[\"clean_text\"])\n",
    "df.info()"
   ]
  },
  {
   "cell_type": "code",
   "execution_count": 14,
   "id": "f1cc7c9a-fd09-4cc5-bdc6-1351be8f966a",
   "metadata": {},
   "outputs": [
    {
     "data": {
      "text/html": [
       "<div>\n",
       "<style scoped>\n",
       "    .dataframe tbody tr th:only-of-type {\n",
       "        vertical-align: middle;\n",
       "    }\n",
       "\n",
       "    .dataframe tbody tr th {\n",
       "        vertical-align: top;\n",
       "    }\n",
       "\n",
       "    .dataframe thead th {\n",
       "        text-align: right;\n",
       "    }\n",
       "</style>\n",
       "<table border=\"1\" class=\"dataframe\">\n",
       "  <thead>\n",
       "    <tr style=\"text-align: right;\">\n",
       "      <th></th>\n",
       "      <th>cw_digit_frac</th>\n",
       "      <th>cw_len</th>\n",
       "      <th>cw_letter_frac</th>\n",
       "      <th>cw_punc_frac</th>\n",
       "      <th>cw_repeat_char_frac</th>\n",
       "      <th>cw_repeat_substring_frac</th>\n",
       "      <th>cw_space_frac</th>\n",
       "      <th>cw_stopword_frac</th>\n",
       "      <th>cw_unique_word_frac</th>\n",
       "      <th>cw_upper_frac</th>\n",
       "      <th>ts_automated_readability_index</th>\n",
       "      <th>ts_coleman_liau_index</th>\n",
       "      <th>ts_dale_chall_readability_score</th>\n",
       "      <th>ts_flesch_kincaid_grade</th>\n",
       "      <th>ts_flesch_reading_ease</th>\n",
       "      <th>ts_gunning_fog</th>\n",
       "      <th>ts_lexicon_count</th>\n",
       "      <th>ts_linsear_write_formula</th>\n",
       "      <th>ts_mcalpine_eflaw</th>\n",
       "      <th>ts_sentence_count</th>\n",
       "      <th>ts_smog_index</th>\n",
       "      <th>ts_syllable_count</th>\n",
       "      <th>ts_syllables_per_sent</th>\n",
       "      <th>ts_syllables_per_word</th>\n",
       "      <th>ts_text_standard</th>\n",
       "      <th>ts_words_per_sent</th>\n",
       "    </tr>\n",
       "  </thead>\n",
       "  <tbody>\n",
       "    <tr>\n",
       "      <th>count</th>\n",
       "      <td>866.000000</td>\n",
       "      <td>866.000000</td>\n",
       "      <td>866.000000</td>\n",
       "      <td>866.000000</td>\n",
       "      <td>866.000000</td>\n",
       "      <td>866.000000</td>\n",
       "      <td>866.000000</td>\n",
       "      <td>866.000000</td>\n",
       "      <td>866.000000</td>\n",
       "      <td>866.000000</td>\n",
       "      <td>866.000000</td>\n",
       "      <td>866.000000</td>\n",
       "      <td>866.000000</td>\n",
       "      <td>866.000000</td>\n",
       "      <td>866.000000</td>\n",
       "      <td>866.000000</td>\n",
       "      <td>866.000000</td>\n",
       "      <td>866.000000</td>\n",
       "      <td>866.000000</td>\n",
       "      <td>866.000000</td>\n",
       "      <td>866.000000</td>\n",
       "      <td>866.000000</td>\n",
       "      <td>866.000000</td>\n",
       "      <td>866.000000</td>\n",
       "      <td>866.00000</td>\n",
       "      <td>866.000000</td>\n",
       "    </tr>\n",
       "    <tr>\n",
       "      <th>mean</th>\n",
       "      <td>0.002611</td>\n",
       "      <td>2060.635010</td>\n",
       "      <td>0.795851</td>\n",
       "      <td>0.020361</td>\n",
       "      <td>0.015119</td>\n",
       "      <td>0.002907</td>\n",
       "      <td>0.181177</td>\n",
       "      <td>0.504496</td>\n",
       "      <td>0.533583</td>\n",
       "      <td>0.018148</td>\n",
       "      <td>11.009238</td>\n",
       "      <td>8.253776</td>\n",
       "      <td>7.593972</td>\n",
       "      <td>9.188222</td>\n",
       "      <td>68.661377</td>\n",
       "      <td>10.897321</td>\n",
       "      <td>370.844116</td>\n",
       "      <td>10.499711</td>\n",
       "      <td>31.437298</td>\n",
       "      <td>19.625866</td>\n",
       "      <td>10.107390</td>\n",
       "      <td>509.431885</td>\n",
       "      <td>26.972654</td>\n",
       "      <td>1.362833</td>\n",
       "      <td>9.80485</td>\n",
       "      <td>19.788095</td>\n",
       "    </tr>\n",
       "    <tr>\n",
       "      <th>std</th>\n",
       "      <td>0.003620</td>\n",
       "      <td>849.165894</td>\n",
       "      <td>0.011515</td>\n",
       "      <td>0.006710</td>\n",
       "      <td>0.004385</td>\n",
       "      <td>0.007891</td>\n",
       "      <td>0.010704</td>\n",
       "      <td>0.048059</td>\n",
       "      <td>0.075234</td>\n",
       "      <td>0.009073</td>\n",
       "      <td>15.534221</td>\n",
       "      <td>1.855127</td>\n",
       "      <td>1.734166</td>\n",
       "      <td>12.169928</td>\n",
       "      <td>32.334080</td>\n",
       "      <td>12.454148</td>\n",
       "      <td>147.202759</td>\n",
       "      <td>5.296445</td>\n",
       "      <td>45.399860</td>\n",
       "      <td>8.809137</td>\n",
       "      <td>1.943423</td>\n",
       "      <td>212.012878</td>\n",
       "      <td>20.295984</td>\n",
       "      <td>0.092970</td>\n",
       "      <td>12.05920</td>\n",
       "      <td>15.702071</td>\n",
       "    </tr>\n",
       "    <tr>\n",
       "      <th>min</th>\n",
       "      <td>0.000000</td>\n",
       "      <td>732.000000</td>\n",
       "      <td>0.743163</td>\n",
       "      <td>0.000000</td>\n",
       "      <td>0.004212</td>\n",
       "      <td>0.000000</td>\n",
       "      <td>0.155241</td>\n",
       "      <td>0.354054</td>\n",
       "      <td>0.264228</td>\n",
       "      <td>0.000000</td>\n",
       "      <td>2.800000</td>\n",
       "      <td>3.190000</td>\n",
       "      <td>5.380000</td>\n",
       "      <td>2.200000</td>\n",
       "      <td>-628.880005</td>\n",
       "      <td>3.910000</td>\n",
       "      <td>151.000000</td>\n",
       "      <td>2.800000</td>\n",
       "      <td>12.100000</td>\n",
       "      <td>1.000000</td>\n",
       "      <td>0.000000</td>\n",
       "      <td>190.000000</td>\n",
       "      <td>10.962963</td>\n",
       "      <td>1.108434</td>\n",
       "      <td>0.00000</td>\n",
       "      <td>8.500000</td>\n",
       "    </tr>\n",
       "    <tr>\n",
       "      <th>1%</th>\n",
       "      <td>0.000000</td>\n",
       "      <td>843.000000</td>\n",
       "      <td>0.765810</td>\n",
       "      <td>0.006005</td>\n",
       "      <td>0.006511</td>\n",
       "      <td>0.000000</td>\n",
       "      <td>0.159538</td>\n",
       "      <td>0.385154</td>\n",
       "      <td>0.361339</td>\n",
       "      <td>0.000906</td>\n",
       "      <td>3.565000</td>\n",
       "      <td>3.959500</td>\n",
       "      <td>5.800000</td>\n",
       "      <td>3.265000</td>\n",
       "      <td>37.691500</td>\n",
       "      <td>5.416500</td>\n",
       "      <td>159.300000</td>\n",
       "      <td>4.235606</td>\n",
       "      <td>14.765000</td>\n",
       "      <td>4.000000</td>\n",
       "      <td>5.765000</td>\n",
       "      <td>205.600000</td>\n",
       "      <td>13.469216</td>\n",
       "      <td>1.153609</td>\n",
       "      <td>5.00000</td>\n",
       "      <td>10.195938</td>\n",
       "    </tr>\n",
       "    <tr>\n",
       "      <th>5%</th>\n",
       "      <td>0.000000</td>\n",
       "      <td>969.000000</td>\n",
       "      <td>0.776374</td>\n",
       "      <td>0.010542</td>\n",
       "      <td>0.008457</td>\n",
       "      <td>0.000000</td>\n",
       "      <td>0.164993</td>\n",
       "      <td>0.427421</td>\n",
       "      <td>0.410804</td>\n",
       "      <td>0.006928</td>\n",
       "      <td>5.400000</td>\n",
       "      <td>5.155000</td>\n",
       "      <td>6.172500</td>\n",
       "      <td>4.800000</td>\n",
       "      <td>53.077499</td>\n",
       "      <td>6.655000</td>\n",
       "      <td>180.000000</td>\n",
       "      <td>5.458333</td>\n",
       "      <td>18.425000</td>\n",
       "      <td>8.000000</td>\n",
       "      <td>7.400000</td>\n",
       "      <td>238.500000</td>\n",
       "      <td>16.406060</td>\n",
       "      <td>1.208756</td>\n",
       "      <td>6.00000</td>\n",
       "      <td>12.396826</td>\n",
       "    </tr>\n",
       "    <tr>\n",
       "      <th>10%</th>\n",
       "      <td>0.000000</td>\n",
       "      <td>1087.500000</td>\n",
       "      <td>0.781379</td>\n",
       "      <td>0.012364</td>\n",
       "      <td>0.009790</td>\n",
       "      <td>0.000000</td>\n",
       "      <td>0.168216</td>\n",
       "      <td>0.446998</td>\n",
       "      <td>0.439701</td>\n",
       "      <td>0.009094</td>\n",
       "      <td>6.150000</td>\n",
       "      <td>5.840000</td>\n",
       "      <td>6.400000</td>\n",
       "      <td>5.400000</td>\n",
       "      <td>57.400002</td>\n",
       "      <td>7.280000</td>\n",
       "      <td>202.000000</td>\n",
       "      <td>6.000000</td>\n",
       "      <td>19.900000</td>\n",
       "      <td>9.500000</td>\n",
       "      <td>7.900000</td>\n",
       "      <td>269.500000</td>\n",
       "      <td>17.884259</td>\n",
       "      <td>1.241224</td>\n",
       "      <td>6.00000</td>\n",
       "      <td>13.362500</td>\n",
       "    </tr>\n",
       "    <tr>\n",
       "      <th>20%</th>\n",
       "      <td>0.000000</td>\n",
       "      <td>1314.000000</td>\n",
       "      <td>0.786875</td>\n",
       "      <td>0.015158</td>\n",
       "      <td>0.011118</td>\n",
       "      <td>0.000000</td>\n",
       "      <td>0.171930</td>\n",
       "      <td>0.467442</td>\n",
       "      <td>0.466775</td>\n",
       "      <td>0.011138</td>\n",
       "      <td>7.300000</td>\n",
       "      <td>6.660000</td>\n",
       "      <td>6.710000</td>\n",
       "      <td>6.300000</td>\n",
       "      <td>61.900002</td>\n",
       "      <td>8.080000</td>\n",
       "      <td>241.000000</td>\n",
       "      <td>6.857143</td>\n",
       "      <td>21.700001</td>\n",
       "      <td>12.000000</td>\n",
       "      <td>8.700000</td>\n",
       "      <td>322.000000</td>\n",
       "      <td>19.769230</td>\n",
       "      <td>1.284289</td>\n",
       "      <td>7.00000</td>\n",
       "      <td>14.709678</td>\n",
       "    </tr>\n",
       "    <tr>\n",
       "      <th>30%</th>\n",
       "      <td>0.000000</td>\n",
       "      <td>1482.000000</td>\n",
       "      <td>0.790532</td>\n",
       "      <td>0.016810</td>\n",
       "      <td>0.012684</td>\n",
       "      <td>0.000778</td>\n",
       "      <td>0.174986</td>\n",
       "      <td>0.479837</td>\n",
       "      <td>0.493053</td>\n",
       "      <td>0.013238</td>\n",
       "      <td>8.100000</td>\n",
       "      <td>7.245000</td>\n",
       "      <td>6.970000</td>\n",
       "      <td>6.900000</td>\n",
       "      <td>65.730003</td>\n",
       "      <td>8.570000</td>\n",
       "      <td>274.000000</td>\n",
       "      <td>7.666667</td>\n",
       "      <td>23.400000</td>\n",
       "      <td>14.000000</td>\n",
       "      <td>9.300000</td>\n",
       "      <td>364.500000</td>\n",
       "      <td>21.358655</td>\n",
       "      <td>1.314428</td>\n",
       "      <td>7.00000</td>\n",
       "      <td>15.666667</td>\n",
       "    </tr>\n",
       "    <tr>\n",
       "      <th>40%</th>\n",
       "      <td>0.000835</td>\n",
       "      <td>1700.000000</td>\n",
       "      <td>0.793531</td>\n",
       "      <td>0.018519</td>\n",
       "      <td>0.013810</td>\n",
       "      <td>0.001460</td>\n",
       "      <td>0.177907</td>\n",
       "      <td>0.492891</td>\n",
       "      <td>0.514706</td>\n",
       "      <td>0.014957</td>\n",
       "      <td>8.900000</td>\n",
       "      <td>7.770000</td>\n",
       "      <td>7.230000</td>\n",
       "      <td>7.400000</td>\n",
       "      <td>68.599998</td>\n",
       "      <td>9.100000</td>\n",
       "      <td>310.000000</td>\n",
       "      <td>8.333333</td>\n",
       "      <td>24.799999</td>\n",
       "      <td>16.000000</td>\n",
       "      <td>9.700000</td>\n",
       "      <td>420.000000</td>\n",
       "      <td>22.853659</td>\n",
       "      <td>1.339181</td>\n",
       "      <td>8.00000</td>\n",
       "      <td>16.727272</td>\n",
       "    </tr>\n",
       "    <tr>\n",
       "      <th>50%</th>\n",
       "      <td>0.001503</td>\n",
       "      <td>1926.500000</td>\n",
       "      <td>0.796072</td>\n",
       "      <td>0.020160</td>\n",
       "      <td>0.014911</td>\n",
       "      <td>0.001976</td>\n",
       "      <td>0.180249</td>\n",
       "      <td>0.503247</td>\n",
       "      <td>0.531406</td>\n",
       "      <td>0.016907</td>\n",
       "      <td>9.600000</td>\n",
       "      <td>8.250000</td>\n",
       "      <td>7.430000</td>\n",
       "      <td>8.100000</td>\n",
       "      <td>71.239998</td>\n",
       "      <td>9.630000</td>\n",
       "      <td>344.000000</td>\n",
       "      <td>9.000000</td>\n",
       "      <td>26.450000</td>\n",
       "      <td>19.000000</td>\n",
       "      <td>10.100000</td>\n",
       "      <td>472.000000</td>\n",
       "      <td>24.339674</td>\n",
       "      <td>1.362512</td>\n",
       "      <td>9.00000</td>\n",
       "      <td>17.765568</td>\n",
       "    </tr>\n",
       "    <tr>\n",
       "      <th>60%</th>\n",
       "      <td>0.002227</td>\n",
       "      <td>2139.000000</td>\n",
       "      <td>0.798873</td>\n",
       "      <td>0.021627</td>\n",
       "      <td>0.015709</td>\n",
       "      <td>0.002554</td>\n",
       "      <td>0.183256</td>\n",
       "      <td>0.514528</td>\n",
       "      <td>0.552901</td>\n",
       "      <td>0.018895</td>\n",
       "      <td>10.400000</td>\n",
       "      <td>8.750000</td>\n",
       "      <td>7.640000</td>\n",
       "      <td>8.700000</td>\n",
       "      <td>73.309998</td>\n",
       "      <td>10.280000</td>\n",
       "      <td>388.000000</td>\n",
       "      <td>11.000000</td>\n",
       "      <td>28.100000</td>\n",
       "      <td>21.000000</td>\n",
       "      <td>10.600000</td>\n",
       "      <td>532.000000</td>\n",
       "      <td>26.125000</td>\n",
       "      <td>1.383673</td>\n",
       "      <td>9.00000</td>\n",
       "      <td>18.884615</td>\n",
       "    </tr>\n",
       "    <tr>\n",
       "      <th>70%</th>\n",
       "      <td>0.003196</td>\n",
       "      <td>2412.500000</td>\n",
       "      <td>0.802039</td>\n",
       "      <td>0.023554</td>\n",
       "      <td>0.017063</td>\n",
       "      <td>0.003232</td>\n",
       "      <td>0.186180</td>\n",
       "      <td>0.528582</td>\n",
       "      <td>0.575453</td>\n",
       "      <td>0.021445</td>\n",
       "      <td>11.100000</td>\n",
       "      <td>9.250000</td>\n",
       "      <td>7.875000</td>\n",
       "      <td>9.300000</td>\n",
       "      <td>76.660004</td>\n",
       "      <td>10.860000</td>\n",
       "      <td>435.000000</td>\n",
       "      <td>11.800000</td>\n",
       "      <td>30.349999</td>\n",
       "      <td>23.500000</td>\n",
       "      <td>11.000000</td>\n",
       "      <td>599.000000</td>\n",
       "      <td>27.964286</td>\n",
       "      <td>1.410326</td>\n",
       "      <td>10.00000</td>\n",
       "      <td>20.261364</td>\n",
       "    </tr>\n",
       "    <tr>\n",
       "      <th>80%</th>\n",
       "      <td>0.004204</td>\n",
       "      <td>2703.000000</td>\n",
       "      <td>0.805556</td>\n",
       "      <td>0.025465</td>\n",
       "      <td>0.018831</td>\n",
       "      <td>0.004205</td>\n",
       "      <td>0.190076</td>\n",
       "      <td>0.540373</td>\n",
       "      <td>0.598901</td>\n",
       "      <td>0.024796</td>\n",
       "      <td>12.300000</td>\n",
       "      <td>9.860000</td>\n",
       "      <td>8.190000</td>\n",
       "      <td>10.300000</td>\n",
       "      <td>79.699997</td>\n",
       "      <td>11.640000</td>\n",
       "      <td>479.000000</td>\n",
       "      <td>13.200000</td>\n",
       "      <td>33.299999</td>\n",
       "      <td>26.000000</td>\n",
       "      <td>11.500000</td>\n",
       "      <td>667.000000</td>\n",
       "      <td>30.549999</td>\n",
       "      <td>1.442890</td>\n",
       "      <td>11.00000</td>\n",
       "      <td>22.106382</td>\n",
       "    </tr>\n",
       "    <tr>\n",
       "      <th>90%</th>\n",
       "      <td>0.006656</td>\n",
       "      <td>3240.000000</td>\n",
       "      <td>0.809883</td>\n",
       "      <td>0.028207</td>\n",
       "      <td>0.021007</td>\n",
       "      <td>0.006599</td>\n",
       "      <td>0.195318</td>\n",
       "      <td>0.564331</td>\n",
       "      <td>0.630791</td>\n",
       "      <td>0.029006</td>\n",
       "      <td>14.250000</td>\n",
       "      <td>10.620000</td>\n",
       "      <td>8.705000</td>\n",
       "      <td>11.900000</td>\n",
       "      <td>83.049999</td>\n",
       "      <td>13.540000</td>\n",
       "      <td>574.500000</td>\n",
       "      <td>15.250000</td>\n",
       "      <td>39.850000</td>\n",
       "      <td>31.000000</td>\n",
       "      <td>12.300000</td>\n",
       "      <td>803.500000</td>\n",
       "      <td>35.479567</td>\n",
       "      <td>1.485019</td>\n",
       "      <td>12.00000</td>\n",
       "      <td>25.914286</td>\n",
       "    </tr>\n",
       "    <tr>\n",
       "      <th>95%</th>\n",
       "      <td>0.009293</td>\n",
       "      <td>3707.250000</td>\n",
       "      <td>0.813443</td>\n",
       "      <td>0.030814</td>\n",
       "      <td>0.022806</td>\n",
       "      <td>0.008328</td>\n",
       "      <td>0.200149</td>\n",
       "      <td>0.582415</td>\n",
       "      <td>0.653926</td>\n",
       "      <td>0.032686</td>\n",
       "      <td>16.375000</td>\n",
       "      <td>11.237500</td>\n",
       "      <td>9.220000</td>\n",
       "      <td>13.300000</td>\n",
       "      <td>87.750002</td>\n",
       "      <td>15.160000</td>\n",
       "      <td>661.500000</td>\n",
       "      <td>18.187500</td>\n",
       "      <td>47.375001</td>\n",
       "      <td>36.000000</td>\n",
       "      <td>13.000000</td>\n",
       "      <td>925.000000</td>\n",
       "      <td>41.473215</td>\n",
       "      <td>1.519212</td>\n",
       "      <td>14.00000</td>\n",
       "      <td>30.168832</td>\n",
       "    </tr>\n",
       "    <tr>\n",
       "      <th>99%</th>\n",
       "      <td>0.018551</td>\n",
       "      <td>4388.350000</td>\n",
       "      <td>0.820339</td>\n",
       "      <td>0.038119</td>\n",
       "      <td>0.026914</td>\n",
       "      <td>0.014580</td>\n",
       "      <td>0.208886</td>\n",
       "      <td>0.632502</td>\n",
       "      <td>0.693645</td>\n",
       "      <td>0.039688</td>\n",
       "      <td>25.740000</td>\n",
       "      <td>12.407000</td>\n",
       "      <td>10.293500</td>\n",
       "      <td>20.945000</td>\n",
       "      <td>93.499501</td>\n",
       "      <td>23.239499</td>\n",
       "      <td>783.100000</td>\n",
       "      <td>27.850000</td>\n",
       "      <td>74.909999</td>\n",
       "      <td>44.000000</td>\n",
       "      <td>14.635000</td>\n",
       "      <td>1104.350000</td>\n",
       "      <td>54.668334</td>\n",
       "      <td>1.573022</td>\n",
       "      <td>19.00000</td>\n",
       "      <td>43.958570</td>\n",
       "    </tr>\n",
       "    <tr>\n",
       "      <th>max</th>\n",
       "      <td>0.030324</td>\n",
       "      <td>6339.000000</td>\n",
       "      <td>0.836561</td>\n",
       "      <td>0.065808</td>\n",
       "      <td>0.029111</td>\n",
       "      <td>0.213382</td>\n",
       "      <td>0.216770</td>\n",
       "      <td>0.664474</td>\n",
       "      <td>0.771930</td>\n",
       "      <td>0.141873</td>\n",
       "      <td>355.600006</td>\n",
       "      <td>14.230000</td>\n",
       "      <td>41.070000</td>\n",
       "      <td>278.600006</td>\n",
       "      <td>99.059998</td>\n",
       "      <td>286.670013</td>\n",
       "      <td>1039.000000</td>\n",
       "      <td>63.000000</td>\n",
       "      <td>1043.000000</td>\n",
       "      <td>90.000000</td>\n",
       "      <td>19.799999</td>\n",
       "      <td>1576.000000</td>\n",
       "      <td>462.500000</td>\n",
       "      <td>1.632558</td>\n",
       "      <td>279.00000</td>\n",
       "      <td>357.500000</td>\n",
       "    </tr>\n",
       "  </tbody>\n",
       "</table>\n",
       "</div>"
      ],
      "text/plain": [
       "       cw_digit_frac       cw_len  cw_letter_frac  cw_punc_frac  \\\n",
       "count     866.000000   866.000000      866.000000    866.000000   \n",
       "mean        0.002611  2060.635010        0.795851      0.020361   \n",
       "std         0.003620   849.165894        0.011515      0.006710   \n",
       "min         0.000000   732.000000        0.743163      0.000000   \n",
       "1%          0.000000   843.000000        0.765810      0.006005   \n",
       "5%          0.000000   969.000000        0.776374      0.010542   \n",
       "10%         0.000000  1087.500000        0.781379      0.012364   \n",
       "20%         0.000000  1314.000000        0.786875      0.015158   \n",
       "30%         0.000000  1482.000000        0.790532      0.016810   \n",
       "40%         0.000835  1700.000000        0.793531      0.018519   \n",
       "50%         0.001503  1926.500000        0.796072      0.020160   \n",
       "60%         0.002227  2139.000000        0.798873      0.021627   \n",
       "70%         0.003196  2412.500000        0.802039      0.023554   \n",
       "80%         0.004204  2703.000000        0.805556      0.025465   \n",
       "90%         0.006656  3240.000000        0.809883      0.028207   \n",
       "95%         0.009293  3707.250000        0.813443      0.030814   \n",
       "99%         0.018551  4388.350000        0.820339      0.038119   \n",
       "max         0.030324  6339.000000        0.836561      0.065808   \n",
       "\n",
       "       cw_repeat_char_frac  cw_repeat_substring_frac  cw_space_frac  \\\n",
       "count           866.000000                866.000000     866.000000   \n",
       "mean              0.015119                  0.002907       0.181177   \n",
       "std               0.004385                  0.007891       0.010704   \n",
       "min               0.004212                  0.000000       0.155241   \n",
       "1%                0.006511                  0.000000       0.159538   \n",
       "5%                0.008457                  0.000000       0.164993   \n",
       "10%               0.009790                  0.000000       0.168216   \n",
       "20%               0.011118                  0.000000       0.171930   \n",
       "30%               0.012684                  0.000778       0.174986   \n",
       "40%               0.013810                  0.001460       0.177907   \n",
       "50%               0.014911                  0.001976       0.180249   \n",
       "60%               0.015709                  0.002554       0.183256   \n",
       "70%               0.017063                  0.003232       0.186180   \n",
       "80%               0.018831                  0.004205       0.190076   \n",
       "90%               0.021007                  0.006599       0.195318   \n",
       "95%               0.022806                  0.008328       0.200149   \n",
       "99%               0.026914                  0.014580       0.208886   \n",
       "max               0.029111                  0.213382       0.216770   \n",
       "\n",
       "       cw_stopword_frac  cw_unique_word_frac  cw_upper_frac  \\\n",
       "count        866.000000           866.000000     866.000000   \n",
       "mean           0.504496             0.533583       0.018148   \n",
       "std            0.048059             0.075234       0.009073   \n",
       "min            0.354054             0.264228       0.000000   \n",
       "1%             0.385154             0.361339       0.000906   \n",
       "5%             0.427421             0.410804       0.006928   \n",
       "10%            0.446998             0.439701       0.009094   \n",
       "20%            0.467442             0.466775       0.011138   \n",
       "30%            0.479837             0.493053       0.013238   \n",
       "40%            0.492891             0.514706       0.014957   \n",
       "50%            0.503247             0.531406       0.016907   \n",
       "60%            0.514528             0.552901       0.018895   \n",
       "70%            0.528582             0.575453       0.021445   \n",
       "80%            0.540373             0.598901       0.024796   \n",
       "90%            0.564331             0.630791       0.029006   \n",
       "95%            0.582415             0.653926       0.032686   \n",
       "99%            0.632502             0.693645       0.039688   \n",
       "max            0.664474             0.771930       0.141873   \n",
       "\n",
       "       ts_automated_readability_index  ts_coleman_liau_index  \\\n",
       "count                      866.000000             866.000000   \n",
       "mean                        11.009238               8.253776   \n",
       "std                         15.534221               1.855127   \n",
       "min                          2.800000               3.190000   \n",
       "1%                           3.565000               3.959500   \n",
       "5%                           5.400000               5.155000   \n",
       "10%                          6.150000               5.840000   \n",
       "20%                          7.300000               6.660000   \n",
       "30%                          8.100000               7.245000   \n",
       "40%                          8.900000               7.770000   \n",
       "50%                          9.600000               8.250000   \n",
       "60%                         10.400000               8.750000   \n",
       "70%                         11.100000               9.250000   \n",
       "80%                         12.300000               9.860000   \n",
       "90%                         14.250000              10.620000   \n",
       "95%                         16.375000              11.237500   \n",
       "99%                         25.740000              12.407000   \n",
       "max                        355.600006              14.230000   \n",
       "\n",
       "       ts_dale_chall_readability_score  ts_flesch_kincaid_grade  \\\n",
       "count                       866.000000               866.000000   \n",
       "mean                          7.593972                 9.188222   \n",
       "std                           1.734166                12.169928   \n",
       "min                           5.380000                 2.200000   \n",
       "1%                            5.800000                 3.265000   \n",
       "5%                            6.172500                 4.800000   \n",
       "10%                           6.400000                 5.400000   \n",
       "20%                           6.710000                 6.300000   \n",
       "30%                           6.970000                 6.900000   \n",
       "40%                           7.230000                 7.400000   \n",
       "50%                           7.430000                 8.100000   \n",
       "60%                           7.640000                 8.700000   \n",
       "70%                           7.875000                 9.300000   \n",
       "80%                           8.190000                10.300000   \n",
       "90%                           8.705000                11.900000   \n",
       "95%                           9.220000                13.300000   \n",
       "99%                          10.293500                20.945000   \n",
       "max                          41.070000               278.600006   \n",
       "\n",
       "       ts_flesch_reading_ease  ts_gunning_fog  ts_lexicon_count  \\\n",
       "count              866.000000      866.000000        866.000000   \n",
       "mean                68.661377       10.897321        370.844116   \n",
       "std                 32.334080       12.454148        147.202759   \n",
       "min               -628.880005        3.910000        151.000000   \n",
       "1%                  37.691500        5.416500        159.300000   \n",
       "5%                  53.077499        6.655000        180.000000   \n",
       "10%                 57.400002        7.280000        202.000000   \n",
       "20%                 61.900002        8.080000        241.000000   \n",
       "30%                 65.730003        8.570000        274.000000   \n",
       "40%                 68.599998        9.100000        310.000000   \n",
       "50%                 71.239998        9.630000        344.000000   \n",
       "60%                 73.309998       10.280000        388.000000   \n",
       "70%                 76.660004       10.860000        435.000000   \n",
       "80%                 79.699997       11.640000        479.000000   \n",
       "90%                 83.049999       13.540000        574.500000   \n",
       "95%                 87.750002       15.160000        661.500000   \n",
       "99%                 93.499501       23.239499        783.100000   \n",
       "max                 99.059998      286.670013       1039.000000   \n",
       "\n",
       "       ts_linsear_write_formula  ts_mcalpine_eflaw  ts_sentence_count  \\\n",
       "count                866.000000         866.000000         866.000000   \n",
       "mean                  10.499711          31.437298          19.625866   \n",
       "std                    5.296445          45.399860           8.809137   \n",
       "min                    2.800000          12.100000           1.000000   \n",
       "1%                     4.235606          14.765000           4.000000   \n",
       "5%                     5.458333          18.425000           8.000000   \n",
       "10%                    6.000000          19.900000           9.500000   \n",
       "20%                    6.857143          21.700001          12.000000   \n",
       "30%                    7.666667          23.400000          14.000000   \n",
       "40%                    8.333333          24.799999          16.000000   \n",
       "50%                    9.000000          26.450000          19.000000   \n",
       "60%                   11.000000          28.100000          21.000000   \n",
       "70%                   11.800000          30.349999          23.500000   \n",
       "80%                   13.200000          33.299999          26.000000   \n",
       "90%                   15.250000          39.850000          31.000000   \n",
       "95%                   18.187500          47.375001          36.000000   \n",
       "99%                   27.850000          74.909999          44.000000   \n",
       "max                   63.000000        1043.000000          90.000000   \n",
       "\n",
       "       ts_smog_index  ts_syllable_count  ts_syllables_per_sent  \\\n",
       "count     866.000000         866.000000             866.000000   \n",
       "mean       10.107390         509.431885              26.972654   \n",
       "std         1.943423         212.012878              20.295984   \n",
       "min         0.000000         190.000000              10.962963   \n",
       "1%          5.765000         205.600000              13.469216   \n",
       "5%          7.400000         238.500000              16.406060   \n",
       "10%         7.900000         269.500000              17.884259   \n",
       "20%         8.700000         322.000000              19.769230   \n",
       "30%         9.300000         364.500000              21.358655   \n",
       "40%         9.700000         420.000000              22.853659   \n",
       "50%        10.100000         472.000000              24.339674   \n",
       "60%        10.600000         532.000000              26.125000   \n",
       "70%        11.000000         599.000000              27.964286   \n",
       "80%        11.500000         667.000000              30.549999   \n",
       "90%        12.300000         803.500000              35.479567   \n",
       "95%        13.000000         925.000000              41.473215   \n",
       "99%        14.635000        1104.350000              54.668334   \n",
       "max        19.799999        1576.000000             462.500000   \n",
       "\n",
       "       ts_syllables_per_word  ts_text_standard  ts_words_per_sent  \n",
       "count             866.000000         866.00000         866.000000  \n",
       "mean                1.362833           9.80485          19.788095  \n",
       "std                 0.092970          12.05920          15.702071  \n",
       "min                 1.108434           0.00000           8.500000  \n",
       "1%                  1.153609           5.00000          10.195938  \n",
       "5%                  1.208756           6.00000          12.396826  \n",
       "10%                 1.241224           6.00000          13.362500  \n",
       "20%                 1.284289           7.00000          14.709678  \n",
       "30%                 1.314428           7.00000          15.666667  \n",
       "40%                 1.339181           8.00000          16.727272  \n",
       "50%                 1.362512           9.00000          17.765568  \n",
       "60%                 1.383673           9.00000          18.884615  \n",
       "70%                 1.410326          10.00000          20.261364  \n",
       "80%                 1.442890          11.00000          22.106382  \n",
       "90%                 1.485019          12.00000          25.914286  \n",
       "95%                 1.519212          14.00000          30.168832  \n",
       "99%                 1.573022          19.00000          43.958570  \n",
       "max                 1.632558         279.00000         357.500000  "
      ]
     },
     "execution_count": 14,
     "metadata": {},
     "output_type": "execute_result"
    }
   ],
   "source": [
    "df[features].describe(percentiles=percentiles)"
   ]
  },
  {
   "cell_type": "code",
   "execution_count": 15,
   "id": "b0647126-daf3-463e-87d4-aabf36a6b7cd",
   "metadata": {},
   "outputs": [],
   "source": [
    "features.sort()\n",
    "with open(f\"output/features_{version}.json\", \"w\") as f:\n",
    "    json.dump({\"feature_names\": features}, f)"
   ]
  },
  {
   "cell_type": "code",
   "execution_count": 16,
   "id": "8f9d2e33-9ab5-4b08-9319-75afdae9d3c5",
   "metadata": {},
   "outputs": [],
   "source": [
    "df.to_parquet(f\"output/features_{version}.parquet\", index=False)\n",
    "assert df.notna().all(axis=None)"
   ]
  },
  {
   "cell_type": "code",
   "execution_count": 17,
   "id": "14144e74-7635-4e68-a2f0-407026ab0a08",
   "metadata": {},
   "outputs": [
    {
     "ename": "RuntimeError",
     "evalue": "Not started",
     "output_type": "error",
     "traceback": [
      "\u001b[0;31m---------------------------------------------------------------------------\u001b[0m",
      "\u001b[0;31mRuntimeError\u001b[0m                              Traceback (most recent call last)",
      "Cell \u001b[0;32mIn[17], line 1\u001b[0m\n\u001b[0;32m----> 1\u001b[0m \u001b[43mtim\u001b[49m\u001b[38;5;241;43m.\u001b[39;49m\u001b[43mstop\u001b[49m\u001b[43m(\u001b[49m\u001b[43m)\u001b[49m\n\u001b[1;32m      2\u001b[0m \u001b[38;5;28mprint\u001b[39m(\u001b[38;5;124mf\u001b[39m\u001b[38;5;124m\"\u001b[39m\u001b[38;5;124mTotal time taken \u001b[39m\u001b[38;5;132;01m{\u001b[39;00m\u001b[38;5;28mstr\u001b[39m(tim\u001b[38;5;241m.\u001b[39melapsed)\u001b[38;5;132;01m}\u001b[39;00m\u001b[38;5;124m\"\u001b[39m)\n",
      "File \u001b[0;32m~/.local/lib/python3.10/site-packages/scml/timex.py:22\u001b[0m, in \u001b[0;36mTimer.stop\u001b[0;34m(self)\u001b[0m\n\u001b[1;32m     20\u001b[0m \u001b[38;5;28;01mdef\u001b[39;00m \u001b[38;5;21mstop\u001b[39m(\u001b[38;5;28mself\u001b[39m):\n\u001b[1;32m     21\u001b[0m     \u001b[38;5;28;01mif\u001b[39;00m \u001b[38;5;28mself\u001b[39m\u001b[38;5;241m.\u001b[39m_start \u001b[38;5;129;01mis\u001b[39;00m \u001b[38;5;28;01mNone\u001b[39;00m:\n\u001b[0;32m---> 22\u001b[0m         \u001b[38;5;28;01mraise\u001b[39;00m \u001b[38;5;167;01mRuntimeError\u001b[39;00m(\u001b[38;5;124m\"\u001b[39m\u001b[38;5;124mNot started\u001b[39m\u001b[38;5;124m\"\u001b[39m)\n\u001b[1;32m     23\u001b[0m     ns \u001b[38;5;241m=\u001b[39m \u001b[38;5;28mself\u001b[39m\u001b[38;5;241m.\u001b[39m_func() \u001b[38;5;241m-\u001b[39m \u001b[38;5;28mself\u001b[39m\u001b[38;5;241m.\u001b[39m_start\n\u001b[1;32m     24\u001b[0m     \u001b[38;5;28mself\u001b[39m\u001b[38;5;241m.\u001b[39melapsed \u001b[38;5;241m=\u001b[39m timedelta(microseconds\u001b[38;5;241m=\u001b[39mmath\u001b[38;5;241m.\u001b[39mceil(ns \u001b[38;5;241m/\u001b[39m \u001b[38;5;241m1000\u001b[39m))\n",
      "\u001b[0;31mRuntimeError\u001b[0m: Not started"
     ]
    }
   ],
   "source": [
    "tim.stop()\n",
    "print(f\"Total time taken {str(tim.elapsed)}\")"
   ]
  }
 ],
 "metadata": {
  "kernelspec": {
   "display_name": "Python 3 (ipykernel)",
   "language": "python",
   "name": "python3"
  },
  "language_info": {
   "codemirror_mode": {
    "name": "ipython",
    "version": 3
   },
   "file_extension": ".py",
   "mimetype": "text/x-python",
   "name": "python",
   "nbconvert_exporter": "python",
   "pygments_lexer": "ipython3",
   "version": "3.10.12"
  }
 },
 "nbformat": 4,
 "nbformat_minor": 5
}
