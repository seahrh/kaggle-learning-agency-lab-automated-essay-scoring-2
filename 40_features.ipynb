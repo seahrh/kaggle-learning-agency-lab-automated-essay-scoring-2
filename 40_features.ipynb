{
 "cells": [
  {
   "cell_type": "code",
   "execution_count": 1,
   "id": "332fead7-d569-4430-b51c-1c24bd0a5d46",
   "metadata": {},
   "outputs": [],
   "source": [
    "from pathlib import Path\n",
    "import os\n",
    "import sys\n",
    "import gc\n",
    "import shutil\n",
    "import json\n",
    "import math\n",
    "import uuid\n",
    "from collections import defaultdict\n",
    "import numpy as np\n",
    "import pandas as pd\n",
    "from sklearn.model_selection import StratifiedKFold\n",
    "from transformers import AutoTokenizer, AutoModelForSequenceClassification\n",
    "import torch\n",
    "from tqdm import tqdm\n",
    "import matplotlib.pyplot as plt\n",
    "from typing import Dict, List, Tuple, NamedTuple, Callable, Iterable, Set, Optional, Any\n",
    "import textstat\n",
    "import scml\n",
    "from scml import pandasx as pdx\n",
    "import lalaes2 as mylib"
   ]
  },
  {
   "cell_type": "code",
   "execution_count": 2,
   "id": "94239019-008f-4d71-9213-e49fc9ec5d1b",
   "metadata": {},
   "outputs": [],
   "source": [
    "version = \"01\"\n",
    "n_splits = 5\n",
    "text_col = \"clean_text\"\n",
    "features = []"
   ]
  },
  {
   "cell_type": "code",
   "execution_count": 3,
   "id": "5a06dcfd-c68f-48f4-a7d2-60cc12bc0704",
   "metadata": {},
   "outputs": [],
   "source": [
    "class ModelConf(NamedTuple):\n",
    "    name: str\n",
    "    directory: Path\n",
    "    model_max_length: int\n",
    "    batch_size: int\n",
    "    model_class: str = \"auto\"\n",
    "\n",
    "\n",
    "models_conf: List[ModelConf] = [\n",
    "    ModelConf(\n",
    "        name=\"deberta_base\", \n",
    "        directory=Path(\"models/aes2/deberta_v3_base/20240610_172052\"),\n",
    "        model_max_length=512,\n",
    "        batch_size=128,\n",
    "    ),\n",
    "]"
   ]
  },
  {
   "cell_type": "code",
   "execution_count": 4,
   "id": "b04098da-12ed-416d-8c15-6f172b877258",
   "metadata": {},
   "outputs": [],
   "source": [
    "tim = scml.Timer()\n",
    "tim.start()\n",
    "percentiles=[.01, .05, .1, .2, .3, .4, .5, .6, .7, .8, .9, .95, .99]\n",
    "os.environ[\"TOKENIZERS_PARALLELISM\"] = \"false\"\n",
    "pd.set_option(\"max_info_columns\", 9999)\n",
    "pd.set_option(\"display.max_columns\", 9999)\n",
    "pd.set_option(\"display.max_rows\", 9999)\n",
    "pd.set_option('max_colwidth', 9999)\n",
    "tqdm.pandas()\n",
    "scml.seed_everything()"
   ]
  },
  {
   "cell_type": "code",
   "execution_count": 5,
   "id": "6ede0ad9-73f2-4d07-924b-bf04842f55a1",
   "metadata": {},
   "outputs": [
    {
     "name": "stdout",
     "output_type": "stream",
     "text": [
      "<class 'pandas.core.frame.DataFrame'>\n",
      "RangeIndex: 866 entries, 0 to 865\n",
      "Data columns (total 3 columns):\n",
      " #   Column      Non-Null Count  Dtype \n",
      "---  ------      --------------  ----- \n",
      " 0   essay_id    866 non-null    object\n",
      " 1   score       866 non-null    int8  \n",
      " 2   clean_text  866 non-null    object\n",
      "dtypes: int8(1), object(2)\n",
      "memory usage: 14.5+ KB\n"
     ]
    }
   ],
   "source": [
    "df = pd.read_parquet(f\"input/val_{version}.parquet\")\n",
    "df = df.drop(columns=[\"source\", \"str_level\"])\n",
    "df.info()"
   ]
  },
  {
   "cell_type": "markdown",
   "id": "c835b935-1859-4b91-b58a-797d84bde73d",
   "metadata": {},
   "source": [
    "# Base Model Inference"
   ]
  },
  {
   "cell_type": "code",
   "execution_count": 6,
   "id": "0ddfed61-693c-4188-9199-c7b2cc759738",
   "metadata": {},
   "outputs": [
    {
     "name": "stdout",
     "output_type": "stream",
     "text": [
      "deberta_base\n"
     ]
    },
    {
     "name": "stderr",
     "output_type": "stream",
     "text": [
      "/home/pankun/.local/lib/python3.10/site-packages/transformers/convert_slow_tokenizer.py:560: UserWarning: The sentencepiece tokenizer that you are converting to a fast tokenizer uses the byte fallback option which is not implemented in the fast tokenizers. In practice this means that the fast version of the tokenizer can produce unknown tokens whereas the sentencepiece version would have converted these unknown tokens into a sequence of byte tokens matching the original piece of text.\n",
      "  warnings.warn(\n",
      "predict hms score: 100%|██████████████████████████████████████████████████████████████████████████████████████████████████████████████████████████████████████| 7/7 [00:10<00:00,  1.54s/it]\n"
     ]
    }
   ],
   "source": [
    "for mc in models_conf:\n",
    "    print(mc.name)\n",
    "    df[mc.name] = mylib.predict_holistic_score(\n",
    "        ds=mylib.Aes2Dataset(\n",
    "            tokenizer=AutoTokenizer.from_pretrained(mc.directory, model_max_length=mc.model_max_length),\n",
    "            texts=df[text_col].tolist(),\n",
    "        ),\n",
    "        model=AutoModelForSequenceClassification.from_pretrained(mc.directory),\n",
    "        batch_size=mc.batch_size,\n",
    "        device=torch.device(\"cuda:1\"),\n",
    "        progress_bar=True,\n",
    "    )\n",
    "    features.append(mc.name)"
   ]
  },
  {
   "cell_type": "markdown",
   "id": "d245483f-34d6-4cc5-bbd2-f5e1d0ba406b",
   "metadata": {},
   "source": [
    "# Character & Word-level Features"
   ]
  },
  {
   "cell_type": "code",
   "execution_count": 7,
   "id": "be553850-d849-4f08-b817-740ccdb21893",
   "metadata": {},
   "outputs": [
    {
     "name": "stdout",
     "output_type": "stream",
     "text": [
      "CPU times: user 977 µs, sys: 247 µs, total: 1.22 ms\n",
      "Wall time: 1.16 ms\n"
     ]
    }
   ],
   "source": [
    "%%time\n",
    "col = \"cw_len\"\n",
    "df[col] = df[text_col].str.len()\n",
    "features.append(col)"
   ]
  },
  {
   "cell_type": "code",
   "execution_count": 8,
   "id": "6c370b3b-5bd0-410a-99db-d7f2b62b8679",
   "metadata": {},
   "outputs": [
    {
     "name": "stdout",
     "output_type": "stream",
     "text": [
      "cw_digit_frac\n"
     ]
    },
    {
     "name": "stderr",
     "output_type": "stream",
     "text": [
      "100%|██████████████████████████████████████████████████████████████████████████████████████████████████████████████████████████████████████████████████| 866/866 [00:00<00:00, 15239.02it/s]\n"
     ]
    },
    {
     "name": "stdout",
     "output_type": "stream",
     "text": [
      "cw_letter_frac\n"
     ]
    },
    {
     "name": "stderr",
     "output_type": "stream",
     "text": [
      "100%|██████████████████████████████████████████████████████████████████████████████████████████████████████████████████████████████████████████████████| 866/866 [00:00<00:00, 13538.54it/s]\n"
     ]
    },
    {
     "name": "stdout",
     "output_type": "stream",
     "text": [
      "cw_space_frac\n"
     ]
    },
    {
     "name": "stderr",
     "output_type": "stream",
     "text": [
      "100%|██████████████████████████████████████████████████████████████████████████████████████████████████████████████████████████████████████████████████| 866/866 [00:00<00:00, 14315.54it/s]\n"
     ]
    },
    {
     "name": "stdout",
     "output_type": "stream",
     "text": [
      "cw_punc_frac\n"
     ]
    },
    {
     "name": "stderr",
     "output_type": "stream",
     "text": [
      "100%|██████████████████████████████████████████████████████████████████████████████████████████████████████████████████████████████████████████████████| 866/866 [00:00<00:00, 13254.76it/s]\n"
     ]
    },
    {
     "name": "stdout",
     "output_type": "stream",
     "text": [
      "cw_upper_frac\n"
     ]
    },
    {
     "name": "stderr",
     "output_type": "stream",
     "text": [
      "100%|██████████████████████████████████████████████████████████████████████████████████████████████████████████████████████████████████████████████████| 866/866 [00:00<00:00, 13104.50it/s]\n"
     ]
    },
    {
     "name": "stdout",
     "output_type": "stream",
     "text": [
      "cw_repeat_char_frac\n"
     ]
    },
    {
     "name": "stderr",
     "output_type": "stream",
     "text": [
      "100%|███████████████████████████████████████████████████████████████████████████████████████████████████████████████████████████████████████████████████| 866/866 [00:00<00:00, 6056.90it/s]\n"
     ]
    },
    {
     "name": "stdout",
     "output_type": "stream",
     "text": [
      "cw_repeat_substring_frac\n"
     ]
    },
    {
     "name": "stderr",
     "output_type": "stream",
     "text": [
      "100%|█████████████████████████████████████████████████████████████████████████████████████████████████████████████████████████████████████████████████████| 866/866 [00:37<00:00, 23.36it/s]\n"
     ]
    },
    {
     "name": "stdout",
     "output_type": "stream",
     "text": [
      "cw_unique_word_frac\n"
     ]
    },
    {
     "name": "stderr",
     "output_type": "stream",
     "text": [
      "100%|██████████████████████████████████████████████████████████████████████████████████████████████████████████████████████████████████████████████████| 866/866 [00:00<00:00, 33378.06it/s]\n"
     ]
    },
    {
     "name": "stdout",
     "output_type": "stream",
     "text": [
      "cw_stopword_frac\n"
     ]
    },
    {
     "name": "stderr",
     "output_type": "stream",
     "text": [
      "100%|██████████████████████████████████████████████████████████████████████████████████████████████████████████████████████████████████████████████████| 866/866 [00:00<00:00, 28849.04it/s]\n"
     ]
    }
   ],
   "source": [
    "def digit_frac(row) -> float:\n",
    "    return mylib.digit_frac(row[text_col])\n",
    "\n",
    "\n",
    "def letter_frac(row) -> float:\n",
    "    return mylib.letter_frac(row[text_col])\n",
    "\n",
    "\n",
    "def space_frac(row) -> float:\n",
    "    return mylib.space_frac(row[text_col])\n",
    "\n",
    "\n",
    "def punc_frac(row) -> float:\n",
    "    return mylib.punc_frac(row[text_col])\n",
    "\n",
    "\n",
    "def upper_frac(row) -> float:\n",
    "    return mylib.upper_frac(row[text_col])\n",
    "\n",
    "\n",
    "def repeat_char_frac(row) -> float:\n",
    "    return mylib.repeat_char_frac(row[text_col])\n",
    "\n",
    "\n",
    "def repeat_substring_frac(row) -> float:\n",
    "    return mylib.repeat_substring_frac(row[text_col])\n",
    "\n",
    "\n",
    "def unique_word_frac(row) -> float:\n",
    "    return mylib.unique_word_frac(row[text_col])\n",
    "\n",
    "\n",
    "sf = mylib.StopwordFraction()\n",
    "\n",
    "\n",
    "def stopword_frac(row) -> float:\n",
    "    return sf(row[text_col])\n",
    "\n",
    "\n",
    "\n",
    "cw_fns: List[Tuple[str, Callable]] = [\n",
    "    (\"cw_digit_frac\", digit_frac),\n",
    "    (\"cw_letter_frac\", letter_frac),\n",
    "    (\"cw_space_frac\", space_frac),\n",
    "    (\"cw_punc_frac\", punc_frac),\n",
    "    (\"cw_upper_frac\", upper_frac),\n",
    "    (\"cw_repeat_char_frac\", repeat_char_frac),\n",
    "    (\"cw_repeat_substring_frac\", repeat_substring_frac),\n",
    "    (\"cw_unique_word_frac\", unique_word_frac),\n",
    "    (\"cw_stopword_frac\", stopword_frac),\n",
    "]   \n",
    "for col, fn in cw_fns:\n",
    "    print(col)\n",
    "    df[col] = df.progress_apply(fn, axis=1)\n",
    "    features.append(col)\n",
    "df[features] = df[features].astype(np.float32)"
   ]
  },
  {
   "cell_type": "markdown",
   "id": "9d09695b-2de8-41b0-8ba5-d236e06f7f3d",
   "metadata": {},
   "source": [
    "# Textstat Features"
   ]
  },
  {
   "cell_type": "code",
   "execution_count": 9,
   "id": "b4edd078-7f7b-4189-beb0-35d7fa17e85a",
   "metadata": {},
   "outputs": [
    {
     "name": "stdout",
     "output_type": "stream",
     "text": [
      "ts_syllable_count\n"
     ]
    },
    {
     "name": "stderr",
     "output_type": "stream",
     "text": [
      "100%|███████████████████████████████████████████████████████████████████████████████████████████████████████████████████████████████████████████████████| 866/866 [00:00<00:00, 2472.00it/s]\n"
     ]
    },
    {
     "name": "stdout",
     "output_type": "stream",
     "text": [
      "ts_lexicon_count\n"
     ]
    },
    {
     "name": "stderr",
     "output_type": "stream",
     "text": [
      "100%|██████████████████████████████████████████████████████████████████████████████████████████████████████████████████████████████████████████████████| 866/866 [00:00<00:00, 27821.31it/s]\n"
     ]
    },
    {
     "name": "stdout",
     "output_type": "stream",
     "text": [
      "ts_sentence_count\n"
     ]
    },
    {
     "name": "stderr",
     "output_type": "stream",
     "text": [
      "100%|██████████████████████████████████████████████████████████████████████████████████████████████████████████████████████████████████████████████████| 866/866 [00:00<00:00, 16174.32it/s]\n"
     ]
    },
    {
     "name": "stdout",
     "output_type": "stream",
     "text": [
      "ts_syllables_per_word\n"
     ]
    },
    {
     "name": "stderr",
     "output_type": "stream",
     "text": [
      "100%|█████████████████████████████████████████████████████████████████████████████████████████████████████████████████████████████████████████████████| 866/866 [00:00<00:00, 169779.72it/s]\n"
     ]
    },
    {
     "name": "stdout",
     "output_type": "stream",
     "text": [
      "ts_syllables_per_sent\n"
     ]
    },
    {
     "name": "stderr",
     "output_type": "stream",
     "text": [
      "100%|█████████████████████████████████████████████████████████████████████████████████████████████████████████████████████████████████████████████████| 866/866 [00:00<00:00, 138535.69it/s]\n"
     ]
    },
    {
     "name": "stdout",
     "output_type": "stream",
     "text": [
      "ts_words_per_sent\n"
     ]
    },
    {
     "name": "stderr",
     "output_type": "stream",
     "text": [
      "100%|██████████████████████████████████████████████████████████████████████████████████████████████████████████████████████████████████████████████████| 866/866 [00:00<00:00, 87852.64it/s]\n"
     ]
    },
    {
     "name": "stdout",
     "output_type": "stream",
     "text": [
      "ts_flesch_reading_ease\n"
     ]
    },
    {
     "name": "stderr",
     "output_type": "stream",
     "text": [
      "100%|███████████████████████████████████████████████████████████████████████████████████████████████████████████████████████████████████████████████████| 866/866 [00:00<00:00, 3495.48it/s]\n"
     ]
    },
    {
     "name": "stdout",
     "output_type": "stream",
     "text": [
      "ts_flesch_kincaid_grade\n"
     ]
    },
    {
     "name": "stderr",
     "output_type": "stream",
     "text": [
      "100%|███████████████████████████████████████████████████████████████████████████████████████████████████████████████████████████████████████████████████| 866/866 [00:00<00:00, 3504.33it/s]\n"
     ]
    },
    {
     "name": "stdout",
     "output_type": "stream",
     "text": [
      "ts_gunning_fog\n"
     ]
    },
    {
     "name": "stderr",
     "output_type": "stream",
     "text": [
      "100%|███████████████████████████████████████████████████████████████████████████████████████████████████████████████████████████████████████████████████| 866/866 [00:00<00:00, 2859.57it/s]\n"
     ]
    },
    {
     "name": "stdout",
     "output_type": "stream",
     "text": [
      "ts_smog_index\n"
     ]
    },
    {
     "name": "stderr",
     "output_type": "stream",
     "text": [
      "100%|███████████████████████████████████████████████████████████████████████████████████████████████████████████████████████████████████████████████████| 866/866 [00:00<00:00, 2718.79it/s]\n"
     ]
    },
    {
     "name": "stdout",
     "output_type": "stream",
     "text": [
      "ts_automated_readability_index\n"
     ]
    },
    {
     "name": "stderr",
     "output_type": "stream",
     "text": [
      "100%|███████████████████████████████████████████████████████████████████████████████████████████████████████████████████████████████████████████████████| 866/866 [00:00<00:00, 8102.33it/s]\n"
     ]
    },
    {
     "name": "stdout",
     "output_type": "stream",
     "text": [
      "ts_coleman_liau_index\n"
     ]
    },
    {
     "name": "stderr",
     "output_type": "stream",
     "text": [
      "100%|███████████████████████████████████████████████████████████████████████████████████████████████████████████████████████████████████████████████████| 866/866 [00:00<00:00, 7259.50it/s]\n"
     ]
    },
    {
     "name": "stdout",
     "output_type": "stream",
     "text": [
      "ts_linsear_write_formula\n"
     ]
    },
    {
     "name": "stderr",
     "output_type": "stream",
     "text": [
      "100%|███████████████████████████████████████████████████████████████████████████████████████████████████████████████████████████████████████████████████| 866/866 [00:00<00:00, 8381.39it/s]\n"
     ]
    },
    {
     "name": "stdout",
     "output_type": "stream",
     "text": [
      "ts_dale_chall_readability_score\n"
     ]
    },
    {
     "name": "stderr",
     "output_type": "stream",
     "text": [
      "100%|███████████████████████████████████████████████████████████████████████████████████████████████████████████████████████████████████████████████████| 866/866 [00:00<00:00, 2894.90it/s]\n"
     ]
    },
    {
     "name": "stdout",
     "output_type": "stream",
     "text": [
      "ts_text_standard\n"
     ]
    },
    {
     "name": "stderr",
     "output_type": "stream",
     "text": [
      "100%|████████████████████████████████████████████████████████████████████████████████████████████████████████████████████████████████████████████████████| 866/866 [00:01<00:00, 826.18it/s]\n"
     ]
    },
    {
     "name": "stdout",
     "output_type": "stream",
     "text": [
      "ts_mcalpine_eflaw\n"
     ]
    },
    {
     "name": "stderr",
     "output_type": "stream",
     "text": [
      "100%|███████████████████████████████████████████████████████████████████████████████████████████████████████████████████████████████████████████████████| 866/866 [00:00<00:00, 9131.46it/s]\n"
     ]
    }
   ],
   "source": [
    "def syllable_count(row) -> int:\n",
    "    return textstat.syllable_count(row[text_col])\n",
    "\n",
    "\n",
    "def lexicon_count(row) -> int:\n",
    "    return textstat.lexicon_count(row[text_col])\n",
    "\n",
    "\n",
    "def sentence_count(row) -> int:\n",
    "    return textstat.sentence_count(row[text_col])\n",
    "\n",
    "\n",
    "def syllables_per_word(row) -> float:\n",
    "    return row[\"ts_syllable_count\"] / (row[\"ts_lexicon_count\"] + 1)\n",
    "\n",
    "\n",
    "def syllables_per_sent(row) -> float:\n",
    "    return row[\"ts_syllable_count\"] / (row[\"ts_sentence_count\"] + 1)\n",
    "\n",
    "\n",
    "def words_per_sent(row) -> float:\n",
    "    return row[\"ts_lexicon_count\"] / (row[\"ts_sentence_count\"] + 1)\n",
    "\n",
    "\n",
    "def flesch_reading_ease(row) -> float:\n",
    "    return textstat.flesch_reading_ease(row[text_col])\n",
    "\n",
    "\n",
    "def flesch_kincaid_grade(row) -> float:\n",
    "    return textstat.flesch_kincaid_grade(row[text_col])\n",
    "\n",
    "\n",
    "def gunning_fog(row) -> float:\n",
    "    return textstat.gunning_fog(row[text_col])\n",
    "\n",
    "\n",
    "def smog_index(row) -> float:\n",
    "    return textstat.smog_index(row[text_col])\n",
    "\n",
    "\n",
    "def automated_readability_index(row) -> float:\n",
    "    return textstat.automated_readability_index(row[text_col])\n",
    "\n",
    "\n",
    "def coleman_liau_index(row) -> float:\n",
    "    return textstat.coleman_liau_index(row[text_col])\n",
    "\n",
    "\n",
    "def linsear_write_formula(row) -> float:\n",
    "    return textstat.linsear_write_formula(row[text_col])\n",
    "\n",
    "\n",
    "def dale_chall_readability_score(row) -> float:\n",
    "    return textstat.dale_chall_readability_score(row[text_col])\n",
    "\n",
    "\n",
    "def text_standard(row) -> float:\n",
    "    return textstat.text_standard(row[text_col], float_output=True)\n",
    "\n",
    "\n",
    "def mcalpine_eflaw(row) -> float:\n",
    "    return textstat.mcalpine_eflaw(row[text_col])\n",
    "\n",
    "\n",
    "textstat_fns: List[Tuple[str, Callable]] = [\n",
    "    (\"ts_syllable_count\", syllable_count),\n",
    "    (\"ts_lexicon_count\", lexicon_count),\n",
    "    (\"ts_sentence_count\", sentence_count),\n",
    "    (\"ts_syllables_per_word\", syllables_per_word),\n",
    "    (\"ts_syllables_per_sent\", syllables_per_sent),\n",
    "    (\"ts_words_per_sent\", words_per_sent),\n",
    "    (\"ts_flesch_reading_ease\", flesch_reading_ease),\n",
    "    (\"ts_flesch_kincaid_grade\", flesch_kincaid_grade),\n",
    "    (\"ts_gunning_fog\", gunning_fog),\n",
    "    (\"ts_smog_index\", smog_index),\n",
    "    (\"ts_automated_readability_index\", automated_readability_index),\n",
    "    (\"ts_coleman_liau_index\", coleman_liau_index),\n",
    "    (\"ts_linsear_write_formula\", linsear_write_formula),\n",
    "    (\"ts_dale_chall_readability_score\", dale_chall_readability_score),\n",
    "    (\"ts_text_standard\", text_standard),\n",
    "    (\"ts_mcalpine_eflaw\", mcalpine_eflaw),\n",
    "]    \n",
    "for col, fn in textstat_fns:\n",
    "    print(col)\n",
    "    df[col] = df.progress_apply(fn, axis=1)\n",
    "    features.append(col)\n",
    "df[features] = df[features].astype(np.float32)"
   ]
  },
  {
   "cell_type": "markdown",
   "id": "7de393f7-8aa6-42ae-8fa4-98f5be988116",
   "metadata": {},
   "source": [
    "# Train/Test Split"
   ]
  },
  {
   "cell_type": "code",
   "execution_count": 10,
   "id": "ecc6a7d6-42b5-4275-a442-f282af865858",
   "metadata": {},
   "outputs": [
    {
     "name": "stderr",
     "output_type": "stream",
     "text": [
      "/tmp/ipykernel_76796/2611437346.py:6: FutureWarning: ChainedAssignmentError: behaviour will change in pandas 3.0!\n",
      "You are setting values through chained assignment. Currently this works in certain cases, but when using Copy-on-Write (which will become the default behaviour in pandas 3.0) this will never work to update the original DataFrame or Series, because the intermediate object on which we are setting values will behave as a copy.\n",
      "A typical example is when you are setting values in a column of a DataFrame, like:\n",
      "\n",
      "df[\"col\"][row_indexer] = value\n",
      "\n",
      "Use `df.loc[row_indexer, \"col\"] = values` instead, to perform the assignment in a single step and ensure this keeps updating the original `df`.\n",
      "\n",
      "See the caveats in the documentation: https://pandas.pydata.org/pandas-docs/stable/user_guide/indexing.html#returning-a-view-versus-a-copy\n",
      "\n",
      "  df[col].iloc[vi] = 1\n",
      "/tmp/ipykernel_76796/2611437346.py:6: SettingWithCopyWarning: \n",
      "A value is trying to be set on a copy of a slice from a DataFrame\n",
      "\n",
      "See the caveats in the documentation: https://pandas.pydata.org/pandas-docs/stable/user_guide/indexing.html#returning-a-view-versus-a-copy\n",
      "  df[col].iloc[vi] = 1\n"
     ]
    }
   ],
   "source": [
    "splitter = StratifiedKFold(n_splits=n_splits, shuffle=True)\n",
    "dummy = np.zeros(len(df))\n",
    "col = \"is_test\"\n",
    "df[col] = 0\n",
    "for _, vi in splitter.split(dummy, y=df[\"score\"].tolist()):\n",
    "    df[col].iloc[vi] = 1\n",
    "    break\n",
    "df[col] = df[col].astype(np.int8)"
   ]
  },
  {
   "cell_type": "markdown",
   "id": "6ead88db-6794-4e8f-b68e-22d9db8fe88e",
   "metadata": {},
   "source": [
    "# Review Data"
   ]
  },
  {
   "cell_type": "code",
   "execution_count": 11,
   "id": "912007b0-01f9-4d51-bbff-c63e6f785de4",
   "metadata": {},
   "outputs": [
    {
     "name": "stdout",
     "output_type": "stream",
     "text": [
      "<class 'pandas.core.frame.DataFrame'>\n",
      "RangeIndex: 866 entries, 0 to 865\n",
      "Data columns (total 30 columns):\n",
      " #   Column                           Non-Null Count  Dtype  \n",
      "---  ------                           --------------  -----  \n",
      " 0   essay_id                         866 non-null    object \n",
      " 1   score                            866 non-null    int8   \n",
      " 2   deberta_base                     866 non-null    float32\n",
      " 3   cw_len                           866 non-null    float32\n",
      " 4   cw_digit_frac                    866 non-null    float32\n",
      " 5   cw_letter_frac                   866 non-null    float32\n",
      " 6   cw_space_frac                    866 non-null    float32\n",
      " 7   cw_punc_frac                     866 non-null    float32\n",
      " 8   cw_upper_frac                    866 non-null    float32\n",
      " 9   cw_repeat_char_frac              866 non-null    float32\n",
      " 10  cw_repeat_substring_frac         866 non-null    float32\n",
      " 11  cw_unique_word_frac              866 non-null    float32\n",
      " 12  cw_stopword_frac                 866 non-null    float32\n",
      " 13  ts_syllable_count                866 non-null    float32\n",
      " 14  ts_lexicon_count                 866 non-null    float32\n",
      " 15  ts_sentence_count                866 non-null    float32\n",
      " 16  ts_syllables_per_word            866 non-null    float32\n",
      " 17  ts_syllables_per_sent            866 non-null    float32\n",
      " 18  ts_words_per_sent                866 non-null    float32\n",
      " 19  ts_flesch_reading_ease           866 non-null    float32\n",
      " 20  ts_flesch_kincaid_grade          866 non-null    float32\n",
      " 21  ts_gunning_fog                   866 non-null    float32\n",
      " 22  ts_smog_index                    866 non-null    float32\n",
      " 23  ts_automated_readability_index   866 non-null    float32\n",
      " 24  ts_coleman_liau_index            866 non-null    float32\n",
      " 25  ts_linsear_write_formula         866 non-null    float32\n",
      " 26  ts_dale_chall_readability_score  866 non-null    float32\n",
      " 27  ts_text_standard                 866 non-null    float32\n",
      " 28  ts_mcalpine_eflaw                866 non-null    float32\n",
      " 29  is_test                          866 non-null    int8   \n",
      "dtypes: float32(27), int8(2), object(1)\n",
      "memory usage: 99.9+ KB\n"
     ]
    }
   ],
   "source": [
    "df[features] = df[features].astype(np.float32)\n",
    "df = df.drop(columns=[\"clean_text\"])\n",
    "df.info()"
   ]
  },
  {
   "cell_type": "code",
   "execution_count": 12,
   "id": "f1cc7c9a-fd09-4cc5-bdc6-1351be8f966a",
   "metadata": {},
   "outputs": [
    {
     "data": {
      "text/html": [
       "<div>\n",
       "<style scoped>\n",
       "    .dataframe tbody tr th:only-of-type {\n",
       "        vertical-align: middle;\n",
       "    }\n",
       "\n",
       "    .dataframe tbody tr th {\n",
       "        vertical-align: top;\n",
       "    }\n",
       "\n",
       "    .dataframe thead th {\n",
       "        text-align: right;\n",
       "    }\n",
       "</style>\n",
       "<table border=\"1\" class=\"dataframe\">\n",
       "  <thead>\n",
       "    <tr style=\"text-align: right;\">\n",
       "      <th></th>\n",
       "      <th>score</th>\n",
       "      <th>deberta_base</th>\n",
       "      <th>cw_len</th>\n",
       "      <th>cw_digit_frac</th>\n",
       "      <th>cw_letter_frac</th>\n",
       "      <th>cw_space_frac</th>\n",
       "      <th>cw_punc_frac</th>\n",
       "      <th>cw_upper_frac</th>\n",
       "      <th>cw_repeat_char_frac</th>\n",
       "      <th>cw_repeat_substring_frac</th>\n",
       "      <th>cw_unique_word_frac</th>\n",
       "      <th>cw_stopword_frac</th>\n",
       "      <th>ts_syllable_count</th>\n",
       "      <th>ts_lexicon_count</th>\n",
       "      <th>ts_sentence_count</th>\n",
       "      <th>ts_syllables_per_word</th>\n",
       "      <th>ts_syllables_per_sent</th>\n",
       "      <th>ts_words_per_sent</th>\n",
       "      <th>ts_flesch_reading_ease</th>\n",
       "      <th>ts_flesch_kincaid_grade</th>\n",
       "      <th>ts_gunning_fog</th>\n",
       "      <th>ts_smog_index</th>\n",
       "      <th>ts_automated_readability_index</th>\n",
       "      <th>ts_coleman_liau_index</th>\n",
       "      <th>ts_linsear_write_formula</th>\n",
       "      <th>ts_dale_chall_readability_score</th>\n",
       "      <th>ts_text_standard</th>\n",
       "      <th>ts_mcalpine_eflaw</th>\n",
       "      <th>is_test</th>\n",
       "    </tr>\n",
       "  </thead>\n",
       "  <tbody>\n",
       "    <tr>\n",
       "      <th>count</th>\n",
       "      <td>866.000000</td>\n",
       "      <td>866.000000</td>\n",
       "      <td>866.000000</td>\n",
       "      <td>866.000000</td>\n",
       "      <td>866.000000</td>\n",
       "      <td>866.000000</td>\n",
       "      <td>866.000000</td>\n",
       "      <td>866.000000</td>\n",
       "      <td>866.000000</td>\n",
       "      <td>866.000000</td>\n",
       "      <td>866.000000</td>\n",
       "      <td>866.000000</td>\n",
       "      <td>866.000000</td>\n",
       "      <td>866.000000</td>\n",
       "      <td>866.000000</td>\n",
       "      <td>866.000000</td>\n",
       "      <td>866.000000</td>\n",
       "      <td>866.000000</td>\n",
       "      <td>866.000000</td>\n",
       "      <td>866.000000</td>\n",
       "      <td>866.000000</td>\n",
       "      <td>866.000000</td>\n",
       "      <td>866.000000</td>\n",
       "      <td>866.000000</td>\n",
       "      <td>866.000000</td>\n",
       "      <td>866.000000</td>\n",
       "      <td>866.00000</td>\n",
       "      <td>866.000000</td>\n",
       "      <td>866.000000</td>\n",
       "    </tr>\n",
       "    <tr>\n",
       "      <th>mean</th>\n",
       "      <td>2.948037</td>\n",
       "      <td>3.145202</td>\n",
       "      <td>2060.635010</td>\n",
       "      <td>0.002611</td>\n",
       "      <td>0.795851</td>\n",
       "      <td>0.181177</td>\n",
       "      <td>0.020361</td>\n",
       "      <td>0.018148</td>\n",
       "      <td>0.015119</td>\n",
       "      <td>0.002907</td>\n",
       "      <td>0.533583</td>\n",
       "      <td>0.504496</td>\n",
       "      <td>509.431885</td>\n",
       "      <td>370.844116</td>\n",
       "      <td>19.625866</td>\n",
       "      <td>1.362833</td>\n",
       "      <td>26.972654</td>\n",
       "      <td>19.788095</td>\n",
       "      <td>68.661377</td>\n",
       "      <td>9.188222</td>\n",
       "      <td>10.897321</td>\n",
       "      <td>10.107390</td>\n",
       "      <td>11.009238</td>\n",
       "      <td>8.253776</td>\n",
       "      <td>10.499711</td>\n",
       "      <td>7.593972</td>\n",
       "      <td>9.80485</td>\n",
       "      <td>31.437298</td>\n",
       "      <td>0.200924</td>\n",
       "    </tr>\n",
       "    <tr>\n",
       "      <th>std</th>\n",
       "      <td>1.046139</td>\n",
       "      <td>0.929500</td>\n",
       "      <td>849.165894</td>\n",
       "      <td>0.003620</td>\n",
       "      <td>0.011515</td>\n",
       "      <td>0.010704</td>\n",
       "      <td>0.006710</td>\n",
       "      <td>0.009073</td>\n",
       "      <td>0.004385</td>\n",
       "      <td>0.007891</td>\n",
       "      <td>0.075234</td>\n",
       "      <td>0.048059</td>\n",
       "      <td>212.012878</td>\n",
       "      <td>147.202759</td>\n",
       "      <td>8.809137</td>\n",
       "      <td>0.092970</td>\n",
       "      <td>20.295984</td>\n",
       "      <td>15.702071</td>\n",
       "      <td>32.334080</td>\n",
       "      <td>12.169928</td>\n",
       "      <td>12.454148</td>\n",
       "      <td>1.943423</td>\n",
       "      <td>15.534221</td>\n",
       "      <td>1.855127</td>\n",
       "      <td>5.296445</td>\n",
       "      <td>1.734166</td>\n",
       "      <td>12.05920</td>\n",
       "      <td>45.399860</td>\n",
       "      <td>0.400923</td>\n",
       "    </tr>\n",
       "    <tr>\n",
       "      <th>min</th>\n",
       "      <td>1.000000</td>\n",
       "      <td>1.406469</td>\n",
       "      <td>732.000000</td>\n",
       "      <td>0.000000</td>\n",
       "      <td>0.743163</td>\n",
       "      <td>0.155241</td>\n",
       "      <td>0.000000</td>\n",
       "      <td>0.000000</td>\n",
       "      <td>0.004212</td>\n",
       "      <td>0.000000</td>\n",
       "      <td>0.264228</td>\n",
       "      <td>0.354054</td>\n",
       "      <td>190.000000</td>\n",
       "      <td>151.000000</td>\n",
       "      <td>1.000000</td>\n",
       "      <td>1.108434</td>\n",
       "      <td>10.962963</td>\n",
       "      <td>8.500000</td>\n",
       "      <td>-628.880005</td>\n",
       "      <td>2.200000</td>\n",
       "      <td>3.910000</td>\n",
       "      <td>0.000000</td>\n",
       "      <td>2.800000</td>\n",
       "      <td>3.190000</td>\n",
       "      <td>2.800000</td>\n",
       "      <td>5.380000</td>\n",
       "      <td>0.00000</td>\n",
       "      <td>12.100000</td>\n",
       "      <td>0.000000</td>\n",
       "    </tr>\n",
       "    <tr>\n",
       "      <th>1%</th>\n",
       "      <td>1.000000</td>\n",
       "      <td>1.488527</td>\n",
       "      <td>843.000000</td>\n",
       "      <td>0.000000</td>\n",
       "      <td>0.765810</td>\n",
       "      <td>0.159538</td>\n",
       "      <td>0.006005</td>\n",
       "      <td>0.000906</td>\n",
       "      <td>0.006511</td>\n",
       "      <td>0.000000</td>\n",
       "      <td>0.361339</td>\n",
       "      <td>0.385154</td>\n",
       "      <td>205.600000</td>\n",
       "      <td>159.300000</td>\n",
       "      <td>4.000000</td>\n",
       "      <td>1.153609</td>\n",
       "      <td>13.469216</td>\n",
       "      <td>10.195938</td>\n",
       "      <td>37.691500</td>\n",
       "      <td>3.265000</td>\n",
       "      <td>5.416500</td>\n",
       "      <td>5.765000</td>\n",
       "      <td>3.565000</td>\n",
       "      <td>3.959500</td>\n",
       "      <td>4.235606</td>\n",
       "      <td>5.800000</td>\n",
       "      <td>5.00000</td>\n",
       "      <td>14.765000</td>\n",
       "      <td>0.000000</td>\n",
       "    </tr>\n",
       "    <tr>\n",
       "      <th>5%</th>\n",
       "      <td>1.000000</td>\n",
       "      <td>1.790974</td>\n",
       "      <td>969.000000</td>\n",
       "      <td>0.000000</td>\n",
       "      <td>0.776374</td>\n",
       "      <td>0.164993</td>\n",
       "      <td>0.010542</td>\n",
       "      <td>0.006928</td>\n",
       "      <td>0.008457</td>\n",
       "      <td>0.000000</td>\n",
       "      <td>0.410804</td>\n",
       "      <td>0.427421</td>\n",
       "      <td>238.500000</td>\n",
       "      <td>180.000000</td>\n",
       "      <td>8.000000</td>\n",
       "      <td>1.208756</td>\n",
       "      <td>16.406060</td>\n",
       "      <td>12.396826</td>\n",
       "      <td>53.077499</td>\n",
       "      <td>4.800000</td>\n",
       "      <td>6.655000</td>\n",
       "      <td>7.400000</td>\n",
       "      <td>5.400000</td>\n",
       "      <td>5.155000</td>\n",
       "      <td>5.458333</td>\n",
       "      <td>6.172500</td>\n",
       "      <td>6.00000</td>\n",
       "      <td>18.425000</td>\n",
       "      <td>0.000000</td>\n",
       "    </tr>\n",
       "    <tr>\n",
       "      <th>10%</th>\n",
       "      <td>2.000000</td>\n",
       "      <td>1.988272</td>\n",
       "      <td>1087.500000</td>\n",
       "      <td>0.000000</td>\n",
       "      <td>0.781379</td>\n",
       "      <td>0.168216</td>\n",
       "      <td>0.012364</td>\n",
       "      <td>0.009094</td>\n",
       "      <td>0.009790</td>\n",
       "      <td>0.000000</td>\n",
       "      <td>0.439701</td>\n",
       "      <td>0.446998</td>\n",
       "      <td>269.500000</td>\n",
       "      <td>202.000000</td>\n",
       "      <td>9.500000</td>\n",
       "      <td>1.241224</td>\n",
       "      <td>17.884259</td>\n",
       "      <td>13.362500</td>\n",
       "      <td>57.400002</td>\n",
       "      <td>5.400000</td>\n",
       "      <td>7.280000</td>\n",
       "      <td>7.900000</td>\n",
       "      <td>6.150000</td>\n",
       "      <td>5.840000</td>\n",
       "      <td>6.000000</td>\n",
       "      <td>6.400000</td>\n",
       "      <td>6.00000</td>\n",
       "      <td>19.900000</td>\n",
       "      <td>0.000000</td>\n",
       "    </tr>\n",
       "    <tr>\n",
       "      <th>20%</th>\n",
       "      <td>2.000000</td>\n",
       "      <td>2.232888</td>\n",
       "      <td>1314.000000</td>\n",
       "      <td>0.000000</td>\n",
       "      <td>0.786875</td>\n",
       "      <td>0.171930</td>\n",
       "      <td>0.015158</td>\n",
       "      <td>0.011138</td>\n",
       "      <td>0.011118</td>\n",
       "      <td>0.000000</td>\n",
       "      <td>0.466775</td>\n",
       "      <td>0.467442</td>\n",
       "      <td>322.000000</td>\n",
       "      <td>241.000000</td>\n",
       "      <td>12.000000</td>\n",
       "      <td>1.284289</td>\n",
       "      <td>19.769230</td>\n",
       "      <td>14.709678</td>\n",
       "      <td>61.900002</td>\n",
       "      <td>6.300000</td>\n",
       "      <td>8.080000</td>\n",
       "      <td>8.700000</td>\n",
       "      <td>7.300000</td>\n",
       "      <td>6.660000</td>\n",
       "      <td>6.857143</td>\n",
       "      <td>6.710000</td>\n",
       "      <td>7.00000</td>\n",
       "      <td>21.700001</td>\n",
       "      <td>0.000000</td>\n",
       "    </tr>\n",
       "    <tr>\n",
       "      <th>30%</th>\n",
       "      <td>2.000000</td>\n",
       "      <td>2.532599</td>\n",
       "      <td>1482.000000</td>\n",
       "      <td>0.000000</td>\n",
       "      <td>0.790532</td>\n",
       "      <td>0.174986</td>\n",
       "      <td>0.016810</td>\n",
       "      <td>0.013238</td>\n",
       "      <td>0.012684</td>\n",
       "      <td>0.000778</td>\n",
       "      <td>0.493053</td>\n",
       "      <td>0.479837</td>\n",
       "      <td>364.500000</td>\n",
       "      <td>274.000000</td>\n",
       "      <td>14.000000</td>\n",
       "      <td>1.314428</td>\n",
       "      <td>21.358655</td>\n",
       "      <td>15.666667</td>\n",
       "      <td>65.730003</td>\n",
       "      <td>6.900000</td>\n",
       "      <td>8.570000</td>\n",
       "      <td>9.300000</td>\n",
       "      <td>8.100000</td>\n",
       "      <td>7.245000</td>\n",
       "      <td>7.666667</td>\n",
       "      <td>6.970000</td>\n",
       "      <td>7.00000</td>\n",
       "      <td>23.400000</td>\n",
       "      <td>0.000000</td>\n",
       "    </tr>\n",
       "    <tr>\n",
       "      <th>40%</th>\n",
       "      <td>3.000000</td>\n",
       "      <td>2.775798</td>\n",
       "      <td>1700.000000</td>\n",
       "      <td>0.000835</td>\n",
       "      <td>0.793531</td>\n",
       "      <td>0.177907</td>\n",
       "      <td>0.018519</td>\n",
       "      <td>0.014957</td>\n",
       "      <td>0.013810</td>\n",
       "      <td>0.001460</td>\n",
       "      <td>0.514706</td>\n",
       "      <td>0.492891</td>\n",
       "      <td>420.000000</td>\n",
       "      <td>310.000000</td>\n",
       "      <td>16.000000</td>\n",
       "      <td>1.339181</td>\n",
       "      <td>22.853659</td>\n",
       "      <td>16.727272</td>\n",
       "      <td>68.599998</td>\n",
       "      <td>7.400000</td>\n",
       "      <td>9.100000</td>\n",
       "      <td>9.700000</td>\n",
       "      <td>8.900000</td>\n",
       "      <td>7.770000</td>\n",
       "      <td>8.333333</td>\n",
       "      <td>7.230000</td>\n",
       "      <td>8.00000</td>\n",
       "      <td>24.799999</td>\n",
       "      <td>0.000000</td>\n",
       "    </tr>\n",
       "    <tr>\n",
       "      <th>50%</th>\n",
       "      <td>3.000000</td>\n",
       "      <td>3.060134</td>\n",
       "      <td>1926.500000</td>\n",
       "      <td>0.001503</td>\n",
       "      <td>0.796072</td>\n",
       "      <td>0.180249</td>\n",
       "      <td>0.020160</td>\n",
       "      <td>0.016907</td>\n",
       "      <td>0.014911</td>\n",
       "      <td>0.001976</td>\n",
       "      <td>0.531406</td>\n",
       "      <td>0.503247</td>\n",
       "      <td>472.000000</td>\n",
       "      <td>344.000000</td>\n",
       "      <td>19.000000</td>\n",
       "      <td>1.362512</td>\n",
       "      <td>24.339674</td>\n",
       "      <td>17.765568</td>\n",
       "      <td>71.239998</td>\n",
       "      <td>8.100000</td>\n",
       "      <td>9.630000</td>\n",
       "      <td>10.100000</td>\n",
       "      <td>9.600000</td>\n",
       "      <td>8.250000</td>\n",
       "      <td>9.000000</td>\n",
       "      <td>7.430000</td>\n",
       "      <td>9.00000</td>\n",
       "      <td>26.450000</td>\n",
       "      <td>0.000000</td>\n",
       "    </tr>\n",
       "    <tr>\n",
       "      <th>60%</th>\n",
       "      <td>3.000000</td>\n",
       "      <td>3.349352</td>\n",
       "      <td>2139.000000</td>\n",
       "      <td>0.002227</td>\n",
       "      <td>0.798873</td>\n",
       "      <td>0.183256</td>\n",
       "      <td>0.021627</td>\n",
       "      <td>0.018895</td>\n",
       "      <td>0.015709</td>\n",
       "      <td>0.002554</td>\n",
       "      <td>0.552901</td>\n",
       "      <td>0.514528</td>\n",
       "      <td>532.000000</td>\n",
       "      <td>388.000000</td>\n",
       "      <td>21.000000</td>\n",
       "      <td>1.383673</td>\n",
       "      <td>26.125000</td>\n",
       "      <td>18.884615</td>\n",
       "      <td>73.309998</td>\n",
       "      <td>8.700000</td>\n",
       "      <td>10.280000</td>\n",
       "      <td>10.600000</td>\n",
       "      <td>10.400000</td>\n",
       "      <td>8.750000</td>\n",
       "      <td>11.000000</td>\n",
       "      <td>7.640000</td>\n",
       "      <td>9.00000</td>\n",
       "      <td>28.100000</td>\n",
       "      <td>0.000000</td>\n",
       "    </tr>\n",
       "    <tr>\n",
       "      <th>70%</th>\n",
       "      <td>3.000000</td>\n",
       "      <td>3.641643</td>\n",
       "      <td>2412.500000</td>\n",
       "      <td>0.003196</td>\n",
       "      <td>0.802039</td>\n",
       "      <td>0.186180</td>\n",
       "      <td>0.023554</td>\n",
       "      <td>0.021445</td>\n",
       "      <td>0.017063</td>\n",
       "      <td>0.003232</td>\n",
       "      <td>0.575453</td>\n",
       "      <td>0.528582</td>\n",
       "      <td>599.000000</td>\n",
       "      <td>435.000000</td>\n",
       "      <td>23.500000</td>\n",
       "      <td>1.410326</td>\n",
       "      <td>27.964286</td>\n",
       "      <td>20.261364</td>\n",
       "      <td>76.660004</td>\n",
       "      <td>9.300000</td>\n",
       "      <td>10.860000</td>\n",
       "      <td>11.000000</td>\n",
       "      <td>11.100000</td>\n",
       "      <td>9.250000</td>\n",
       "      <td>11.800000</td>\n",
       "      <td>7.875000</td>\n",
       "      <td>10.00000</td>\n",
       "      <td>30.349999</td>\n",
       "      <td>0.000000</td>\n",
       "    </tr>\n",
       "    <tr>\n",
       "      <th>80%</th>\n",
       "      <td>4.000000</td>\n",
       "      <td>4.039609</td>\n",
       "      <td>2703.000000</td>\n",
       "      <td>0.004204</td>\n",
       "      <td>0.805556</td>\n",
       "      <td>0.190076</td>\n",
       "      <td>0.025465</td>\n",
       "      <td>0.024796</td>\n",
       "      <td>0.018831</td>\n",
       "      <td>0.004205</td>\n",
       "      <td>0.598901</td>\n",
       "      <td>0.540373</td>\n",
       "      <td>667.000000</td>\n",
       "      <td>479.000000</td>\n",
       "      <td>26.000000</td>\n",
       "      <td>1.442890</td>\n",
       "      <td>30.549999</td>\n",
       "      <td>22.106382</td>\n",
       "      <td>79.699997</td>\n",
       "      <td>10.300000</td>\n",
       "      <td>11.640000</td>\n",
       "      <td>11.500000</td>\n",
       "      <td>12.300000</td>\n",
       "      <td>9.860000</td>\n",
       "      <td>13.200000</td>\n",
       "      <td>8.190000</td>\n",
       "      <td>11.00000</td>\n",
       "      <td>33.299999</td>\n",
       "      <td>1.000000</td>\n",
       "    </tr>\n",
       "    <tr>\n",
       "      <th>90%</th>\n",
       "      <td>4.000000</td>\n",
       "      <td>4.475882</td>\n",
       "      <td>3240.000000</td>\n",
       "      <td>0.006656</td>\n",
       "      <td>0.809883</td>\n",
       "      <td>0.195318</td>\n",
       "      <td>0.028207</td>\n",
       "      <td>0.029006</td>\n",
       "      <td>0.021007</td>\n",
       "      <td>0.006599</td>\n",
       "      <td>0.630791</td>\n",
       "      <td>0.564331</td>\n",
       "      <td>803.500000</td>\n",
       "      <td>574.500000</td>\n",
       "      <td>31.000000</td>\n",
       "      <td>1.485019</td>\n",
       "      <td>35.479567</td>\n",
       "      <td>25.914286</td>\n",
       "      <td>83.049999</td>\n",
       "      <td>11.900000</td>\n",
       "      <td>13.540000</td>\n",
       "      <td>12.300000</td>\n",
       "      <td>14.250000</td>\n",
       "      <td>10.620000</td>\n",
       "      <td>15.250000</td>\n",
       "      <td>8.705000</td>\n",
       "      <td>12.00000</td>\n",
       "      <td>39.850000</td>\n",
       "      <td>1.000000</td>\n",
       "    </tr>\n",
       "    <tr>\n",
       "      <th>95%</th>\n",
       "      <td>5.000000</td>\n",
       "      <td>4.796795</td>\n",
       "      <td>3707.250000</td>\n",
       "      <td>0.009293</td>\n",
       "      <td>0.813443</td>\n",
       "      <td>0.200149</td>\n",
       "      <td>0.030814</td>\n",
       "      <td>0.032686</td>\n",
       "      <td>0.022806</td>\n",
       "      <td>0.008328</td>\n",
       "      <td>0.653926</td>\n",
       "      <td>0.582415</td>\n",
       "      <td>925.000000</td>\n",
       "      <td>661.500000</td>\n",
       "      <td>36.000000</td>\n",
       "      <td>1.519212</td>\n",
       "      <td>41.473215</td>\n",
       "      <td>30.168832</td>\n",
       "      <td>87.750002</td>\n",
       "      <td>13.300000</td>\n",
       "      <td>15.160000</td>\n",
       "      <td>13.000000</td>\n",
       "      <td>16.375000</td>\n",
       "      <td>11.237500</td>\n",
       "      <td>18.187500</td>\n",
       "      <td>9.220000</td>\n",
       "      <td>14.00000</td>\n",
       "      <td>47.375001</td>\n",
       "      <td>1.000000</td>\n",
       "    </tr>\n",
       "    <tr>\n",
       "      <th>99%</th>\n",
       "      <td>5.000000</td>\n",
       "      <td>5.156409</td>\n",
       "      <td>4388.350000</td>\n",
       "      <td>0.018551</td>\n",
       "      <td>0.820339</td>\n",
       "      <td>0.208886</td>\n",
       "      <td>0.038119</td>\n",
       "      <td>0.039688</td>\n",
       "      <td>0.026914</td>\n",
       "      <td>0.014580</td>\n",
       "      <td>0.693645</td>\n",
       "      <td>0.632502</td>\n",
       "      <td>1104.350000</td>\n",
       "      <td>783.100000</td>\n",
       "      <td>44.000000</td>\n",
       "      <td>1.573022</td>\n",
       "      <td>54.668334</td>\n",
       "      <td>43.958570</td>\n",
       "      <td>93.499501</td>\n",
       "      <td>20.945000</td>\n",
       "      <td>23.239499</td>\n",
       "      <td>14.635000</td>\n",
       "      <td>25.740000</td>\n",
       "      <td>12.407000</td>\n",
       "      <td>27.850000</td>\n",
       "      <td>10.293500</td>\n",
       "      <td>19.00000</td>\n",
       "      <td>74.909999</td>\n",
       "      <td>1.000000</td>\n",
       "    </tr>\n",
       "    <tr>\n",
       "      <th>max</th>\n",
       "      <td>6.000000</td>\n",
       "      <td>5.408005</td>\n",
       "      <td>6339.000000</td>\n",
       "      <td>0.030324</td>\n",
       "      <td>0.836561</td>\n",
       "      <td>0.216770</td>\n",
       "      <td>0.065808</td>\n",
       "      <td>0.141873</td>\n",
       "      <td>0.029111</td>\n",
       "      <td>0.213382</td>\n",
       "      <td>0.771930</td>\n",
       "      <td>0.664474</td>\n",
       "      <td>1576.000000</td>\n",
       "      <td>1039.000000</td>\n",
       "      <td>90.000000</td>\n",
       "      <td>1.632558</td>\n",
       "      <td>462.500000</td>\n",
       "      <td>357.500000</td>\n",
       "      <td>99.059998</td>\n",
       "      <td>278.600006</td>\n",
       "      <td>286.670013</td>\n",
       "      <td>19.799999</td>\n",
       "      <td>355.600006</td>\n",
       "      <td>14.230000</td>\n",
       "      <td>63.000000</td>\n",
       "      <td>41.070000</td>\n",
       "      <td>279.00000</td>\n",
       "      <td>1043.000000</td>\n",
       "      <td>1.000000</td>\n",
       "    </tr>\n",
       "  </tbody>\n",
       "</table>\n",
       "</div>"
      ],
      "text/plain": [
       "            score  deberta_base       cw_len  cw_digit_frac  cw_letter_frac  \\\n",
       "count  866.000000    866.000000   866.000000     866.000000      866.000000   \n",
       "mean     2.948037      3.145202  2060.635010       0.002611        0.795851   \n",
       "std      1.046139      0.929500   849.165894       0.003620        0.011515   \n",
       "min      1.000000      1.406469   732.000000       0.000000        0.743163   \n",
       "1%       1.000000      1.488527   843.000000       0.000000        0.765810   \n",
       "5%       1.000000      1.790974   969.000000       0.000000        0.776374   \n",
       "10%      2.000000      1.988272  1087.500000       0.000000        0.781379   \n",
       "20%      2.000000      2.232888  1314.000000       0.000000        0.786875   \n",
       "30%      2.000000      2.532599  1482.000000       0.000000        0.790532   \n",
       "40%      3.000000      2.775798  1700.000000       0.000835        0.793531   \n",
       "50%      3.000000      3.060134  1926.500000       0.001503        0.796072   \n",
       "60%      3.000000      3.349352  2139.000000       0.002227        0.798873   \n",
       "70%      3.000000      3.641643  2412.500000       0.003196        0.802039   \n",
       "80%      4.000000      4.039609  2703.000000       0.004204        0.805556   \n",
       "90%      4.000000      4.475882  3240.000000       0.006656        0.809883   \n",
       "95%      5.000000      4.796795  3707.250000       0.009293        0.813443   \n",
       "99%      5.000000      5.156409  4388.350000       0.018551        0.820339   \n",
       "max      6.000000      5.408005  6339.000000       0.030324        0.836561   \n",
       "\n",
       "       cw_space_frac  cw_punc_frac  cw_upper_frac  cw_repeat_char_frac  \\\n",
       "count     866.000000    866.000000     866.000000           866.000000   \n",
       "mean        0.181177      0.020361       0.018148             0.015119   \n",
       "std         0.010704      0.006710       0.009073             0.004385   \n",
       "min         0.155241      0.000000       0.000000             0.004212   \n",
       "1%          0.159538      0.006005       0.000906             0.006511   \n",
       "5%          0.164993      0.010542       0.006928             0.008457   \n",
       "10%         0.168216      0.012364       0.009094             0.009790   \n",
       "20%         0.171930      0.015158       0.011138             0.011118   \n",
       "30%         0.174986      0.016810       0.013238             0.012684   \n",
       "40%         0.177907      0.018519       0.014957             0.013810   \n",
       "50%         0.180249      0.020160       0.016907             0.014911   \n",
       "60%         0.183256      0.021627       0.018895             0.015709   \n",
       "70%         0.186180      0.023554       0.021445             0.017063   \n",
       "80%         0.190076      0.025465       0.024796             0.018831   \n",
       "90%         0.195318      0.028207       0.029006             0.021007   \n",
       "95%         0.200149      0.030814       0.032686             0.022806   \n",
       "99%         0.208886      0.038119       0.039688             0.026914   \n",
       "max         0.216770      0.065808       0.141873             0.029111   \n",
       "\n",
       "       cw_repeat_substring_frac  cw_unique_word_frac  cw_stopword_frac  \\\n",
       "count                866.000000           866.000000        866.000000   \n",
       "mean                   0.002907             0.533583          0.504496   \n",
       "std                    0.007891             0.075234          0.048059   \n",
       "min                    0.000000             0.264228          0.354054   \n",
       "1%                     0.000000             0.361339          0.385154   \n",
       "5%                     0.000000             0.410804          0.427421   \n",
       "10%                    0.000000             0.439701          0.446998   \n",
       "20%                    0.000000             0.466775          0.467442   \n",
       "30%                    0.000778             0.493053          0.479837   \n",
       "40%                    0.001460             0.514706          0.492891   \n",
       "50%                    0.001976             0.531406          0.503247   \n",
       "60%                    0.002554             0.552901          0.514528   \n",
       "70%                    0.003232             0.575453          0.528582   \n",
       "80%                    0.004205             0.598901          0.540373   \n",
       "90%                    0.006599             0.630791          0.564331   \n",
       "95%                    0.008328             0.653926          0.582415   \n",
       "99%                    0.014580             0.693645          0.632502   \n",
       "max                    0.213382             0.771930          0.664474   \n",
       "\n",
       "       ts_syllable_count  ts_lexicon_count  ts_sentence_count  \\\n",
       "count         866.000000        866.000000         866.000000   \n",
       "mean          509.431885        370.844116          19.625866   \n",
       "std           212.012878        147.202759           8.809137   \n",
       "min           190.000000        151.000000           1.000000   \n",
       "1%            205.600000        159.300000           4.000000   \n",
       "5%            238.500000        180.000000           8.000000   \n",
       "10%           269.500000        202.000000           9.500000   \n",
       "20%           322.000000        241.000000          12.000000   \n",
       "30%           364.500000        274.000000          14.000000   \n",
       "40%           420.000000        310.000000          16.000000   \n",
       "50%           472.000000        344.000000          19.000000   \n",
       "60%           532.000000        388.000000          21.000000   \n",
       "70%           599.000000        435.000000          23.500000   \n",
       "80%           667.000000        479.000000          26.000000   \n",
       "90%           803.500000        574.500000          31.000000   \n",
       "95%           925.000000        661.500000          36.000000   \n",
       "99%          1104.350000        783.100000          44.000000   \n",
       "max          1576.000000       1039.000000          90.000000   \n",
       "\n",
       "       ts_syllables_per_word  ts_syllables_per_sent  ts_words_per_sent  \\\n",
       "count             866.000000             866.000000         866.000000   \n",
       "mean                1.362833              26.972654          19.788095   \n",
       "std                 0.092970              20.295984          15.702071   \n",
       "min                 1.108434              10.962963           8.500000   \n",
       "1%                  1.153609              13.469216          10.195938   \n",
       "5%                  1.208756              16.406060          12.396826   \n",
       "10%                 1.241224              17.884259          13.362500   \n",
       "20%                 1.284289              19.769230          14.709678   \n",
       "30%                 1.314428              21.358655          15.666667   \n",
       "40%                 1.339181              22.853659          16.727272   \n",
       "50%                 1.362512              24.339674          17.765568   \n",
       "60%                 1.383673              26.125000          18.884615   \n",
       "70%                 1.410326              27.964286          20.261364   \n",
       "80%                 1.442890              30.549999          22.106382   \n",
       "90%                 1.485019              35.479567          25.914286   \n",
       "95%                 1.519212              41.473215          30.168832   \n",
       "99%                 1.573022              54.668334          43.958570   \n",
       "max                 1.632558             462.500000         357.500000   \n",
       "\n",
       "       ts_flesch_reading_ease  ts_flesch_kincaid_grade  ts_gunning_fog  \\\n",
       "count              866.000000               866.000000      866.000000   \n",
       "mean                68.661377                 9.188222       10.897321   \n",
       "std                 32.334080                12.169928       12.454148   \n",
       "min               -628.880005                 2.200000        3.910000   \n",
       "1%                  37.691500                 3.265000        5.416500   \n",
       "5%                  53.077499                 4.800000        6.655000   \n",
       "10%                 57.400002                 5.400000        7.280000   \n",
       "20%                 61.900002                 6.300000        8.080000   \n",
       "30%                 65.730003                 6.900000        8.570000   \n",
       "40%                 68.599998                 7.400000        9.100000   \n",
       "50%                 71.239998                 8.100000        9.630000   \n",
       "60%                 73.309998                 8.700000       10.280000   \n",
       "70%                 76.660004                 9.300000       10.860000   \n",
       "80%                 79.699997                10.300000       11.640000   \n",
       "90%                 83.049999                11.900000       13.540000   \n",
       "95%                 87.750002                13.300000       15.160000   \n",
       "99%                 93.499501                20.945000       23.239499   \n",
       "max                 99.059998               278.600006      286.670013   \n",
       "\n",
       "       ts_smog_index  ts_automated_readability_index  ts_coleman_liau_index  \\\n",
       "count     866.000000                      866.000000             866.000000   \n",
       "mean       10.107390                       11.009238               8.253776   \n",
       "std         1.943423                       15.534221               1.855127   \n",
       "min         0.000000                        2.800000               3.190000   \n",
       "1%          5.765000                        3.565000               3.959500   \n",
       "5%          7.400000                        5.400000               5.155000   \n",
       "10%         7.900000                        6.150000               5.840000   \n",
       "20%         8.700000                        7.300000               6.660000   \n",
       "30%         9.300000                        8.100000               7.245000   \n",
       "40%         9.700000                        8.900000               7.770000   \n",
       "50%        10.100000                        9.600000               8.250000   \n",
       "60%        10.600000                       10.400000               8.750000   \n",
       "70%        11.000000                       11.100000               9.250000   \n",
       "80%        11.500000                       12.300000               9.860000   \n",
       "90%        12.300000                       14.250000              10.620000   \n",
       "95%        13.000000                       16.375000              11.237500   \n",
       "99%        14.635000                       25.740000              12.407000   \n",
       "max        19.799999                      355.600006              14.230000   \n",
       "\n",
       "       ts_linsear_write_formula  ts_dale_chall_readability_score  \\\n",
       "count                866.000000                       866.000000   \n",
       "mean                  10.499711                         7.593972   \n",
       "std                    5.296445                         1.734166   \n",
       "min                    2.800000                         5.380000   \n",
       "1%                     4.235606                         5.800000   \n",
       "5%                     5.458333                         6.172500   \n",
       "10%                    6.000000                         6.400000   \n",
       "20%                    6.857143                         6.710000   \n",
       "30%                    7.666667                         6.970000   \n",
       "40%                    8.333333                         7.230000   \n",
       "50%                    9.000000                         7.430000   \n",
       "60%                   11.000000                         7.640000   \n",
       "70%                   11.800000                         7.875000   \n",
       "80%                   13.200000                         8.190000   \n",
       "90%                   15.250000                         8.705000   \n",
       "95%                   18.187500                         9.220000   \n",
       "99%                   27.850000                        10.293500   \n",
       "max                   63.000000                        41.070000   \n",
       "\n",
       "       ts_text_standard  ts_mcalpine_eflaw     is_test  \n",
       "count         866.00000         866.000000  866.000000  \n",
       "mean            9.80485          31.437298    0.200924  \n",
       "std            12.05920          45.399860    0.400923  \n",
       "min             0.00000          12.100000    0.000000  \n",
       "1%              5.00000          14.765000    0.000000  \n",
       "5%              6.00000          18.425000    0.000000  \n",
       "10%             6.00000          19.900000    0.000000  \n",
       "20%             7.00000          21.700001    0.000000  \n",
       "30%             7.00000          23.400000    0.000000  \n",
       "40%             8.00000          24.799999    0.000000  \n",
       "50%             9.00000          26.450000    0.000000  \n",
       "60%             9.00000          28.100000    0.000000  \n",
       "70%            10.00000          30.349999    0.000000  \n",
       "80%            11.00000          33.299999    1.000000  \n",
       "90%            12.00000          39.850000    1.000000  \n",
       "95%            14.00000          47.375001    1.000000  \n",
       "99%            19.00000          74.909999    1.000000  \n",
       "max           279.00000        1043.000000    1.000000  "
      ]
     },
     "execution_count": 12,
     "metadata": {},
     "output_type": "execute_result"
    }
   ],
   "source": [
    "df.describe(percentiles=percentiles)"
   ]
  },
  {
   "cell_type": "code",
   "execution_count": 13,
   "id": "b0647126-daf3-463e-87d4-aabf36a6b7cd",
   "metadata": {},
   "outputs": [],
   "source": [
    "features.sort()\n",
    "with open(f\"output/features_{version}.json\", \"w\") as f:\n",
    "    json.dump({\"feature_names\": features}, f)"
   ]
  },
  {
   "cell_type": "code",
   "execution_count": 14,
   "id": "8f9d2e33-9ab5-4b08-9319-75afdae9d3c5",
   "metadata": {},
   "outputs": [],
   "source": [
    "df.to_parquet(f\"output/features_{version}.parquet\", index=False)\n",
    "assert df.notna().all(axis=None)"
   ]
  },
  {
   "cell_type": "code",
   "execution_count": 15,
   "id": "14144e74-7635-4e68-a2f0-407026ab0a08",
   "metadata": {},
   "outputs": [
    {
     "name": "stdout",
     "output_type": "stream",
     "text": [
      "Total time taken 0:01:00.290712\n"
     ]
    }
   ],
   "source": [
    "tim.stop()\n",
    "print(f\"Total time taken {str(tim.elapsed)}\")"
   ]
  }
 ],
 "metadata": {
  "kernelspec": {
   "display_name": "Python 3 (ipykernel)",
   "language": "python",
   "name": "python3"
  },
  "language_info": {
   "codemirror_mode": {
    "name": "ipython",
    "version": 3
   },
   "file_extension": ".py",
   "mimetype": "text/x-python",
   "name": "python",
   "nbconvert_exporter": "python",
   "pygments_lexer": "ipython3",
   "version": "3.10.12"
  }
 },
 "nbformat": 4,
 "nbformat_minor": 5
}
